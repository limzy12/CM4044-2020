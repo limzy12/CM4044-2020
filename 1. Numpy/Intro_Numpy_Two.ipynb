{
 "cells": [
  {
   "cell_type": "markdown",
   "metadata": {},
   "source": [
    "## CM4044: AI In Chemistry\n",
    "## Semester 1 2020/21\n",
    "\n",
    "<hr>\n",
    "\n",
    "## Tutorial 1b: Introduction to Numpy Part II\n",
    "## Objectives\n",
    "### $\\bullet$ Data Types\n",
    "### $\\bullet$ Binary Operations\n",
    "### $\\bullet$ Comparison and Logic Operations\n",
    "### $\\bullet$ Sorting, Searching and Counting\n",
    "### $\\bullet$ Methods to Change Array Shape\n",
    "### $\\bullet$ Read and Save Data\n",
    "\n",
    "\n",
    "<hr>\n",
    "\n"
   ]
  },
  {
   "cell_type": "code",
   "execution_count": 1,
   "metadata": {},
   "outputs": [],
   "source": [
    "import numpy as np"
   ]
  },
  {
   "cell_type": "markdown",
   "metadata": {},
   "source": [
    "## 1. Data Types of Numpy Array"
   ]
  },
  {
   "cell_type": "markdown",
   "metadata": {},
   "source": [
    "The interface of `numpy.array()` is below:\n",
    "```python\n",
    "    numpy.array(object, dtype=None, copy=True, order='K', subok=False, ndmin=0)\n",
    "```\n",
    "    \n",
    "The argument `dtype` decides the data type of numpy.array. \n",
    "\n",
    "The Common Numpy dtype arguments are below:\n",
    "\n",
    "|Basic Type|**Numpy** keyword|Comment\n",
    "|--|--|--\n",
    "|boolean|`bool`|1 byte\n",
    "|integer|`int8, int16, int32, int64, int128, int`| `int` same as `long` in **C** language\n",
    "|unsigned integer|`uint8, uint16, uint32, uint64, uint128, uint`| `uint` same as `unsigned long` in **C** language\n",
    "|floating point number| `float16, float32, float64, float, longfloat`|default type is `float64`，`longfloat` depends on machine\n",
    "|complex number| `complex64, complex128, complex, longcomplex`| default type is `complex128` \n",
    "|string| `string, unicode` | `dtype=S4` represent a 4-byte string\n",
    "|object| `object` |any type of value|\n",
    "|Records| `void` ||\n",
    "|time| `datetime64, timedelta64` ||\n",
    "\n",
    "On the other hand, **Numpy** automatically detects the data type of input object to create `ndarray`, so it is allowed not to pass argument to `dtype` variable when `numpy.array()` is called.    \n",
    "\n",
    "More details about the allowed data type and the relevant memory size information can be found from [here](https://numpy.org/doc/1.18/reference/index.html)"
   ]
  },
  {
   "cell_type": "code",
   "execution_count": 2,
   "metadata": {},
   "outputs": [
    {
     "name": "stdout",
     "output_type": "stream",
     "text": [
      "int32\n",
      "int32\n",
      "[ 0.+0.j  4.+0.j -4.+0.j]\n",
      "complex128\n",
      "[1 1.2 'hello' list([10, 20, 30])]\n",
      "object\n"
     ]
    }
   ],
   "source": [
    "a = np.array([0,4,-4])\n",
    "print(a.dtype)\n",
    "a = np.array([0,4,-4],dtype = int)\n",
    "print(a.dtype)\n",
    "a = np.array([0,4,-4],dtype = complex)\n",
    "print(a)\n",
    "print(a.dtype)\n",
    "\n",
    "a = np.array([1,1.2,'hello', [10,20,30]], \n",
    "          dtype=object)\n",
    "print(a)\n",
    "print(a.dtype)"
   ]
  },
  {
   "cell_type": "markdown",
   "metadata": {},
   "source": [
    "As an advantage to use **Numpy** array, user can define customerized data type for the content to keep in a `ndarray` object, for example,"
   ]
  },
  {
   "cell_type": "code",
   "execution_count": 3,
   "metadata": {},
   "outputs": [
    {
     "data": {
      "text/plain": [
       "array([('Rex', 9, 81.), ('Fido', 3, 27.)],\n",
       "      dtype=[('name', '<U10'), ('age', '<i4'), ('weight', '<f4')])"
      ]
     },
     "execution_count": 3,
     "metadata": {},
     "output_type": "execute_result"
    }
   ],
   "source": [
    "a = np.array([('Rex', 9, 81.0), ('Fido', 3, 27.0)], dtype=[('name', 'U10'), ('age', 'i4'), ('weight', 'f4')])\n",
    "a"
   ]
  },
  {
   "cell_type": "markdown",
   "metadata": {},
   "source": [
    "Here a is a one-dimensional array of length two whose datatype is a structure with three fields: 1. A string of length 10 or less named ‘name’, 2. a 32-bit integer named ‘age’, and 3. a 32-bit float named ‘weight’.\n",
    "\n",
    "If you index a at position 1 you get a structure: "
   ]
  },
  {
   "cell_type": "code",
   "execution_count": 4,
   "metadata": {},
   "outputs": [
    {
     "data": {
      "text/plain": [
       "('Fido', 3, 27.)"
      ]
     },
     "execution_count": 4,
     "metadata": {},
     "output_type": "execute_result"
    }
   ],
   "source": [
    "a[1]"
   ]
  },
  {
   "cell_type": "markdown",
   "metadata": {},
   "source": [
    "You can access and modify individual fields of a structured array by indexing with the field name:"
   ]
  },
  {
   "cell_type": "code",
   "execution_count": 5,
   "metadata": {},
   "outputs": [
    {
     "data": {
      "text/plain": [
       "array([9, 3])"
      ]
     },
     "execution_count": 5,
     "metadata": {},
     "output_type": "execute_result"
    }
   ],
   "source": [
    "a['age']"
   ]
  },
  {
   "cell_type": "markdown",
   "metadata": {},
   "source": [
    "## 2. Binary Operations"
   ]
  },
  {
   "cell_type": "markdown",
   "metadata": {},
   "source": [
    "## 2.1 Arithmetic Operations\n",
    "\n",
    "If a and b are two `ndarray` data objects, the binary operations are lised in the following table:\n",
    "\n",
    "Operation|Numpy Function\n",
    "--- | --- \n",
    "`a + b` | `add(a,b)`\n",
    "`a - b` | `subtract(a,b)`\n",
    "`a * b` | `multiply(a,b)`\n",
    "`a / b` | `divide(a,b)`\n",
    "`a ** b` | `power(a,b)`\n",
    "`a % b` | `remainder(a,b)`\n",
    "\n",
    "These operations are performed in the **<font color=red>element-wise </font>** style, see below:"
   ]
  },
  {
   "cell_type": "code",
   "execution_count": 6,
   "metadata": {},
   "outputs": [
    {
     "name": "stdout",
     "output_type": "stream",
     "text": [
      "[ 5  7  9 11 13]\n",
      "[ 0  6 14 24 36]\n",
      "[ 0  6 14 24 36]\n",
      "[     0      1    128   6561 262144]\n"
     ]
    }
   ],
   "source": [
    "a = np.array([0,1,2,3,4])\n",
    "b = np.array([5,6,7,8,9])\n",
    "c = a + b          # element wise sum, same as c = np.add(a, b)\n",
    "print(c)\n",
    "c = a * b          # element wise multiplication, same as c = np.multiply(a,b)\n",
    "print(c)           \n",
    "c = np.multiply(a,b)  # the equivalent calculation to multiplication\n",
    "print(c)\n",
    "c = a ** b # same as c = np.power(a,b)\n",
    "print(c)"
   ]
  },
  {
   "cell_type": "markdown",
   "metadata": {},
   "source": [
    "In fact, if we use **Numpy** binary alrithmetic functions, we can pass in three array arguments, the third argument is the array to keep the operation results, for example,"
   ]
  },
  {
   "cell_type": "code",
   "execution_count": 7,
   "metadata": {},
   "outputs": [
    {
     "data": {
      "text/plain": [
       "array([ 5, 12, 21, 32])"
      ]
     },
     "execution_count": 7,
     "metadata": {},
     "output_type": "execute_result"
    }
   ],
   "source": [
    "a = np.array([1, 2, 3, 4])\n",
    "b = np.array([5, 6, 7, 8])\n",
    "np.multiply(a,b,a)    # the results from binary multiplicaton are kept in array a\n",
    "a"
   ]
  },
  {
   "cell_type": "markdown",
   "metadata": {},
   "source": [
    "## 2.2 Comparison and Logic Operations"
   ]
  },
  {
   "cell_type": "markdown",
   "metadata": {},
   "source": [
    "Opreation|Numpy Function\n",
    "--- | --- \n",
    "`==` | `equal`\n",
    "`!=` | `not_equal`\n",
    "`>` | `greater`\n",
    "`>=` | `greater_equal`\n",
    "`<` | `less`\n",
    "`<=` | `less_equal`\n",
    " | `logical_and`\n",
    " | `logical_or`\n",
    " | `logical_xor`\n",
    " | `logical_not`\n",
    "`&` | `bitwise_and`\n",
    " | `bitwise_or`\n",
    "`^` | `bitwise_xor`\n",
    "`~` | `invert`\n",
    "`>>` | `right_shift`\n",
    "`<<` | `left_shift`\n",
    "\n",
    "These operations are also **<font color=red>element-wise</font>** operations, for example,"
   ]
  },
  {
   "cell_type": "code",
   "execution_count": 8,
   "metadata": {},
   "outputs": [
    {
     "data": {
      "text/plain": [
       "array([[ True,  True, False,  True],\n",
       "       [False,  True,  True,  True]])"
      ]
     },
     "execution_count": 8,
     "metadata": {},
     "output_type": "execute_result"
    }
   ],
   "source": [
    "a = np.array([[1,2,3,4],\n",
    "              [2,3,4,5]])\n",
    "b = np.array([[1,2,5,4],\n",
    "              [1,3,4,5]])\n",
    "a == b"
   ]
  },
  {
   "cell_type": "markdown",
   "metadata": {},
   "source": [
    "Examples on bitwise operations. Again, these operations are element-wise operations."
   ]
  },
  {
   "cell_type": "code",
   "execution_count": 9,
   "metadata": {},
   "outputs": [
    {
     "name": "stdout",
     "output_type": "stream",
     "text": [
      "[False  True False]\n",
      "[254 253 252 251]\n",
      "[ 8 16 24 32]\n",
      "[False False  True False]\n"
     ]
    }
   ],
   "source": [
    "a = np.array([0,1,2])\n",
    "b = np.array([0,10,0])\n",
    "\n",
    "print(np.logical_and(a, b))\n",
    "\n",
    "a = np.array([1,2,3,4], np.uint8)\n",
    "b = ~a\n",
    "print(b)\n",
    "\n",
    "b = a << 3\n",
    "print(b)\n",
    "\n",
    "a = np.array([1,2,4,8])\n",
    "b = np.array([16,32,64,128])\n",
    "\n",
    "c = (a > 3) & (b < 100)\n",
    "print(c)"
   ]
  },
  {
   "cell_type": "markdown",
   "metadata": {},
   "source": [
    "Note that the `bitwise_and` (`&`) has higher priority than the comparison operators `<`, `>` in the above example. So the brackets are used to change operation order."
   ]
  },
  {
   "cell_type": "markdown",
   "metadata": {},
   "source": [
    "### 2.4 Boolean indexing\n",
    "\n",
    "Numpy arrays can be indexed with slices, but also with boolean or integer arrays (**masks**). This method is called fancy indexing. It creates a **new** numpy array.\n"
   ]
  },
  {
   "cell_type": "code",
   "execution_count": 10,
   "metadata": {},
   "outputs": [
    {
     "name": "stdout",
     "output_type": "stream",
     "text": [
      "[10  3  8  0 19 10 11  9 10  6  0 20 12  7 14]\n",
      "[False  True False  True False False False  True False  True  True False\n",
      "  True False False]\n",
      "[ 3  0  9  6  0 12]\n"
     ]
    }
   ],
   "source": [
    "np.random.seed(3)\n",
    "a = np.random.randint(0, 21, 15)   # use random number generator to generate integer numbers\n",
    "print(a)\n",
    "\n",
    "mask = (a % 3 == 0)   # check the elements in array a is divisible by 3\n",
    "print(mask)\n",
    "\n",
    "extract_from_a = a[mask]  #extract those elements divisible by 3\n",
    "\n",
    "print(extract_from_a)"
   ]
  },
  {
   "cell_type": "markdown",
   "metadata": {},
   "source": [
    "The example below calculates the prime numbers between 0 and 100 by using a Boolean array."
   ]
  },
  {
   "cell_type": "code",
   "execution_count": 11,
   "metadata": {},
   "outputs": [
    {
     "name": "stdout",
     "output_type": "stream",
     "text": [
      "is_prime at the start:\n",
      " [ True  True  True  True  True  True  True  True  True  True  True  True\n",
      "  True  True  True  True  True  True  True  True  True  True  True  True\n",
      "  True  True  True  True  True  True  True  True  True  True  True  True\n",
      "  True  True  True  True  True  True  True  True  True  True  True  True\n",
      "  True  True  True  True  True  True  True  True  True  True  True  True\n",
      "  True  True  True  True  True  True  True  True  True  True  True  True\n",
      "  True  True  True  True  True  True  True  True  True  True  True  True\n",
      "  True  True  True  True  True  True  True  True  True  True  True  True\n",
      "  True  True  True  True]\n",
      "After cross out 0 and 1:\n",
      " [False False  True  True  True  True  True  True  True  True  True  True\n",
      "  True  True  True  True  True  True  True  True  True  True  True  True\n",
      "  True  True  True  True  True  True  True  True  True  True  True  True\n",
      "  True  True  True  True  True  True  True  True  True  True  True  True\n",
      "  True  True  True  True  True  True  True  True  True  True  True  True\n",
      "  True  True  True  True  True  True  True  True  True  True  True  True\n",
      "  True  True  True  True  True  True  True  True  True  True  True  True\n",
      "  True  True  True  True  True  True  True  True  True  True  True  True\n",
      "  True  True  True  True]\n",
      "10\n",
      "(array([ 2,  3,  5,  7, 11, 13, 17, 19, 23, 29, 31, 37, 41, 43, 47, 53, 59,\n",
      "       61, 67, 71, 73, 79, 83, 89, 97], dtype=int64),)\n"
     ]
    }
   ],
   "source": [
    "\n",
    "is_prime = np.ones((100,), dtype=bool)\n",
    "print('is_prime at the start:\\n', is_prime)\n",
    "\n",
    "# Cross out 0 and 1 which are not primes:\n",
    "is_prime[:2] = 0\n",
    "print('After cross out 0 and 1:\\n', is_prime)\n",
    "\n",
    "# cross out its higher multiples (sieve of Eratosthenes):\n",
    "nmax = int(np.sqrt(len(is_prime)))\n",
    "print(nmax)   # equals 10\n",
    "for i in range(2, nmax):      #loop over the possible factors from 2 to 10\n",
    "    is_prime[2*i::i] = False\n",
    "\n",
    "print(np.nonzero(is_prime))"
   ]
  },
  {
   "cell_type": "markdown",
   "metadata": {},
   "source": [
    "## 3. Sorting, Searching and Counting"
   ]
  },
  {
   "cell_type": "markdown",
   "metadata": {},
   "source": [
    "## 3.1 sort()"
   ]
  },
  {
   "cell_type": "markdown",
   "metadata": {},
   "source": [
    "Content kept in `ndarray` object can be sorted by `numpy.sort()` function or `ndarray.sort()` of the array object, the sorting citeria depends on the data type of content. The difference between these two functions are: np.sort() creates a new array for sorted result, `ndarray.sort()` sorts the array in place. Compare the two methods in the following example,"
   ]
  },
  {
   "cell_type": "code",
   "execution_count": 12,
   "metadata": {},
   "outputs": [
    {
     "name": "stdout",
     "output_type": "stream",
     "text": [
      "[20.8 53.4 61.8 93.2]\n",
      "[20.8 93.2 53.4 61.8]\n",
      "[20.8 53.4 61.8 93.2]\n",
      "\n",
      "['ad' 'bob' 'jan' 'sue']\n",
      "['bob' 'sue' 'jan' 'ad']\n",
      "['ad' 'bob' 'jan' 'sue']\n"
     ]
    }
   ],
   "source": [
    "names = np.array(['bob', 'sue', 'jan', 'ad'])\n",
    "weights = np.array([20.8, 93.2, 53.4, 61.8])\n",
    "\n",
    "print(np.sort(weights))    # np.sort(weights) returned a new sorted array, weights unchanged\n",
    "print(weights)   \n",
    "\n",
    "weights.sort()    # sort() method of ndarray object, which is \"weights\" in this line, sorts itself.\n",
    "print(weights)    # the order of content changed after sorting.\n",
    "\n",
    "print()   # print a new line\n",
    "\n",
    "print(np.sort(names))  # np.sort(names) sorts the string array based on alphebatic order and stored in new array\n",
    "print(names)    # the order of content in names unchanged\n",
    "\n",
    "names.sort()    #sort() method of ndarray object, which is \"names\" in this line, sorts itself.\n",
    "print(names)    # the order of content changed after sorting.\n"
   ]
  },
  {
   "cell_type": "markdown",
   "metadata": {},
   "source": [
    "For a multidimensional `ndarray`object, sorting can be performed along the selected axis. The selected axis is a pass-in argument to the sort function. By default, the selected axis is that for the last dimension. For example,"
   ]
  },
  {
   "cell_type": "code",
   "execution_count": 13,
   "metadata": {
    "scrolled": true
   },
   "outputs": [
    {
     "name": "stdout",
     "output_type": "stream",
     "text": [
      "[[0.2 0.1 0.5]\n",
      " [0.4 0.8 0.3]\n",
      " [0.9 0.6 0.7]]\n",
      "\n",
      "[[0.1 0.2 0.5]\n",
      " [0.3 0.4 0.8]\n",
      " [0.6 0.7 0.9]]\n",
      "\n",
      "[[0.2 0.1 0.3]\n",
      " [0.4 0.6 0.5]\n",
      " [0.9 0.8 0.7]]\n"
     ]
    }
   ],
   "source": [
    "a = np.array([\n",
    "        [.2, .1, .5], \n",
    "        [.4, .8, .3],\n",
    "        [.9, .6, .7]\n",
    "    ])\n",
    "print(a)\n",
    "print()\n",
    "\n",
    "b = np.sort(a)    # a is a two-dimensional array, sorting along last dimension axis, which is axis = 1.\n",
    "print(b)\n",
    "\n",
    "print()\n",
    "\n",
    "b = np.sort(a, axis=0)\n",
    "print(b)     # sorting along axis = 0"
   ]
  },
  {
   "cell_type": "markdown",
   "metadata": {},
   "source": [
    "The general interface of these two functions are below:\n",
    "```python\n",
    "       numpy.sort(a, axis=-1, kind='quicksort', order=None)\n",
    "       ndarray.sort(axis=-1, kind='quicksort', order=None)\n",
    "```"
   ]
  },
  {
   "cell_type": "markdown",
   "metadata": {},
   "source": [
    "More details about sorting functions can be found in the **Numpy** document. https://docs.scipy.org/doc/numpy/reference/generated/numpy.sort.html\n",
    "and\n",
    "https://docs.scipy.org/doc/numpy/reference/generated/numpy.ndarray.sort.html#numpy.ndarray.sort"
   ]
  },
  {
   "cell_type": "markdown",
   "metadata": {},
   "source": [
    "## 3.2 argsort()"
   ]
  },
  {
   "cell_type": "markdown",
   "metadata": {},
   "source": [
    "Another useful sorting function is `numpy.argsort(a)`. When it is called, it returns an array of indices of the same shape as a that index data along the given axis in sorted order. For example,"
   ]
  },
  {
   "cell_type": "code",
   "execution_count": 14,
   "metadata": {
    "scrolled": true
   },
   "outputs": [
    {
     "name": "stdout",
     "output_type": "stream",
     "text": [
      "[3 1 2]\n",
      "[1 2 0]\n",
      "\n",
      "[[0 3]\n",
      " [2 2]]\n",
      "\n",
      "[[0 1]\n",
      " [1 0]]\n",
      "\n",
      "[[0 1]\n",
      " [0 1]]\n"
     ]
    }
   ],
   "source": [
    "a = np.array([3, 1, 2])\n",
    "print(a)\n",
    "print(np.argsort(a))    # return an index array for sorting purpose based on elements' index in the input array a\n",
    "\n",
    "print()\n",
    "\n",
    "a = np.array([[0, 3], [2, 2]])\n",
    "print(a)\n",
    "print()\n",
    "print(np.argsort(a, axis=0))   # return an index array for sorting along axis 0, based on elements' index in the input array a\n",
    "\n",
    "print()\n",
    "\n",
    "print(np.argsort(a, axis=1))   # return an index array for sorting along axis 0, based on elements' index in the input array a"
   ]
  },
  {
   "cell_type": "markdown",
   "metadata": {},
   "source": [
    "The general interface of `argsort()` is below:\n",
    "\n",
    "    numpy.argsort(a, axis=-1, kind='quicksort', order=None)\n",
    "\n",
    "More information can be found here https://docs.scipy.org/doc/numpy/reference/generated/numpy.argsort.html"
   ]
  },
  {
   "cell_type": "markdown",
   "metadata": {},
   "source": [
    "## 3.3 searchsorted()\n",
    "\n",
    "This function accepts two arguments, the first argument is a **sorted** array and the second can be some values.\n",
    "\n",
    "    searchsorted(sorted_array, values)\n",
    "    \n",
    "It find indices where elements should be inserted to the array in the first argument to maintain order. For example,"
   ]
  },
  {
   "cell_type": "code",
   "execution_count": 15,
   "metadata": {},
   "outputs": [
    {
     "data": {
      "text/plain": [
       "array([1, 4, 2, 1, 2, 1], dtype=int64)"
      ]
     },
     "execution_count": 15,
     "metadata": {},
     "output_type": "execute_result"
    }
   ],
   "source": [
    "sorted_array = np.linspace(0,1,5)\n",
    "values = np.array([.1,.8,.3,.12,.5,.25])\n",
    "np.searchsorted(sorted_array, values)   # return an array of right indices when the values are inserted"
   ]
  },
  {
   "cell_type": "markdown",
   "metadata": {},
   "source": [
    "sorted array：\n",
    "\n",
    "|0|1|2|3|4|\n",
    "|-|-|-|-|-|\n",
    "|0.0|0.25|0.5|0.75|1.0\n",
    "\n",
    "values：\n",
    "\n",
    "|value|0.1|0.8|0.3|0.12|0.5|0.25|\n",
    "|-|-|-|-|-|-|-|\n",
    "|insert index|1|4|2|1|2|1|\n",
    "\n",
    "`searchsorted` returns the indices to insert values to maintain the ascending order:\n",
    "\n",
    "For example, `0.1` is in [0.0, 0.25)，so it is inserted at index 1，so the return value is `1`。"
   ]
  },
  {
   "cell_type": "markdown",
   "metadata": {},
   "source": [
    "Another example,"
   ]
  },
  {
   "cell_type": "code",
   "execution_count": 16,
   "metadata": {},
   "outputs": [
    {
     "name": "stdout",
     "output_type": "stream",
     "text": [
      "low_idx =  38\n",
      "high_idx =  63\n",
      "[0.40651992 0.4151012  0.44045372 0.44514505 0.45462208 0.45527936\n",
      " 0.4576864  0.46894025 0.47508861 0.48023996 0.48358553 0.48509423\n",
      " 0.48887324 0.51403506 0.54101967 0.54359433 0.54464902 0.55284457\n",
      " 0.55327773 0.55784076 0.55885409 0.57279387 0.5862529  0.59086282\n",
      " 0.59666377]\n"
     ]
    }
   ],
   "source": [
    "from numpy.random import rand\n",
    "data = rand(100)\n",
    "data.sort()\n",
    "\n",
    "bounds = .4, .6   # tuple of low and high bounds\n",
    "\n",
    "low_idx, high_idx = np.searchsorted(data, bounds)  #returns both left and right indices for a value to insert\n",
    "\n",
    "print('low_idx = ', low_idx)\n",
    "print('high_idx = ', high_idx)\n",
    "\n",
    "print(data[low_idx:high_idx])"
   ]
  },
  {
   "cell_type": "markdown",
   "metadata": {},
   "source": [
    "More information abot `searchsorted()` can be found from (https://docs.scipy.org/doc/numpy/reference/generated/numpy.searchsorted.html#numpy.searchsorted)"
   ]
  },
  {
   "cell_type": "markdown",
   "metadata": {},
   "source": [
    "## 3.5 nonzero()\n",
    "\n",
    "The `nonzero(a)` returns indices of nonzero elements in an array `a`. The returned indices are a tuple of arrays, one for each dimension of a, containing the indices of the non-zero elements in that dimension.  For example,"
   ]
  },
  {
   "cell_type": "code",
   "execution_count": 17,
   "metadata": {},
   "outputs": [
    {
     "name": "stdout",
     "output_type": "stream",
     "text": [
      "[[3 0 0]\n",
      " [0 4 0]\n",
      " [5 6 0]]\n",
      "\n",
      "(array([0, 1, 2, 2], dtype=int64), array([0, 1, 0, 1], dtype=int64))\n"
     ]
    }
   ],
   "source": [
    "a = np.array([[3, 0, 0], [0, 4, 0], [5, 6, 0]])      \n",
    "print(a)\n",
    "\n",
    "print()\n",
    "\n",
    "print(np.nonzero(a))"
   ]
  },
  {
   "cell_type": "markdown",
   "metadata": {},
   "source": [
    "## 3.6 count_nonzero() \n",
    "\n",
    "`numpy.count_nonzero(a)` returns the number of nonzero elements in array a."
   ]
  },
  {
   "cell_type": "code",
   "execution_count": 18,
   "metadata": {
    "scrolled": true
   },
   "outputs": [
    {
     "name": "stdout",
     "output_type": "stream",
     "text": [
      "[[3 0 0]\n",
      " [0 4 0]\n",
      " [5 6 0]]\n",
      "\n",
      "4\n"
     ]
    }
   ],
   "source": [
    "a = np.array([[3, 0, 0], [0, 4, 0], [5, 6, 0]])      \n",
    "print(a)\n",
    "\n",
    "print()\n",
    "\n",
    "print(np.count_nonzero(a))  # the number of nonzero elements in array a is 4."
   ]
  },
  {
   "cell_type": "markdown",
   "metadata": {},
   "source": [
    "## 4. Methods to Change Array Shape"
   ]
  },
  {
   "cell_type": "markdown",
   "metadata": {},
   "source": [
    "## 4.1 reshape()"
   ]
  },
  {
   "cell_type": "markdown",
   "metadata": {},
   "source": [
    "In the first part of tutorial, we have seen an example below,"
   ]
  },
  {
   "cell_type": "code",
   "execution_count": 19,
   "metadata": {},
   "outputs": [
    {
     "name": "stdout",
     "output_type": "stream",
     "text": [
      "[ 0  1  2  3  4  5  6  7  8  9 10 11 12 13 14 15 16 17 18 19 20 21 22 23\n",
      " 24 25 26 27 28 29 30 31 32 33 34 35 36 37 38 39 40 41 42 43 44 45 46 47\n",
      " 48 49 50 51 52 53 54 55 56 57 58 59]\n",
      "\n",
      "[[[ 0  1  2  3  4]\n",
      "  [ 5  6  7  8  9]\n",
      "  [10 11 12 13 14]\n",
      "  [15 16 17 18 19]]\n",
      "\n",
      " [[20 21 22 23 24]\n",
      "  [25 26 27 28 29]\n",
      "  [30 31 32 33 34]\n",
      "  [35 36 37 38 39]]\n",
      "\n",
      " [[40 41 42 43 44]\n",
      "  [45 46 47 48 49]\n",
      "  [50 51 52 53 54]\n",
      "  [55 56 57 58 59]]]\n"
     ]
    }
   ],
   "source": [
    "a = np.arange(3*4*5)  # this function creats a 1D ndarray\n",
    "print(a)\n",
    "print()\n",
    "a.shape = 3,4,5       # change the 1D array to a 3D array\n",
    "print(a)"
   ]
  },
  {
   "cell_type": "markdown",
   "metadata": {},
   "source": [
    "In the above example, we assign the size of every dimension to `shape` attribute of Numpy array `a` and change it to a 3D array. The same task can be achieved by calling function `numpy.reshape(a)`. The general interface of this function is,\n",
    "\n",
    "    numpy.reshape(a, newshape, order='C')\n",
    "   \n",
    "The function needs at least two arguments as the last argument is set to the default value `'C'`, C-style index of array. For example,"
   ]
  },
  {
   "cell_type": "code",
   "execution_count": 20,
   "metadata": {},
   "outputs": [
    {
     "name": "stdout",
     "output_type": "stream",
     "text": [
      "[ 0  1  2  3  4  5  6  7  8  9 10 11]\n",
      "\n",
      "[[ 0  1  2  3]\n",
      " [ 4  5  6  7]\n",
      " [ 8  9 10 11]]\n",
      "\n",
      "[[ 0  1  2]\n",
      " [ 3  4  5]\n",
      " [ 6  7  8]\n",
      " [ 9 10 11]]\n",
      "\n",
      "[[ 0  1  2  3]\n",
      " [ 4  5  6  7]\n",
      " [ 8  9 10 11]]\n"
     ]
    }
   ],
   "source": [
    "a = np.arange(3*4)  # this function creats a 1D ndarray\n",
    "print(a)\n",
    "print()\n",
    "\n",
    "# reshape a to a 3 by 4 data view\n",
    "# it is the same as a.reshape(3,4)\n",
    "b = np.reshape(a, (3, 4)) \n",
    "#b = a.reshape(3,4)\n",
    "print(b)\n",
    "print()\n",
    "\n",
    "b = np.reshape(a, (4, 3)) # the shape of a does not change, different to the direct setting a's shape\n",
    "#b = a.reshape(4,3)\n",
    "print(b)\n",
    "print()\n",
    "\n",
    "b = np.reshape(a, (3, -1))  # same as (3, 4), the last value -1 means to determine the last dimension by Python\n",
    "#b = a.reshape(3,-1)\n",
    "print(b)\n"
   ]
  },
  {
   "cell_type": "markdown",
   "metadata": {},
   "source": [
    "The use of index `-1` is very convenient to the transformation between matrix and vector. More examples are:"
   ]
  },
  {
   "cell_type": "code",
   "execution_count": 21,
   "metadata": {},
   "outputs": [
    {
     "name": "stdout",
     "output_type": "stream",
     "text": [
      "(3, 4)\n",
      "(12,)\n",
      "[ 1  2  3  4  5  6  7  8  9 10 11 12]\n",
      "(12, 1)\n",
      "[[ 1]\n",
      " [ 2]\n",
      " [ 3]\n",
      " [ 4]\n",
      " [ 5]\n",
      " [ 6]\n",
      " [ 7]\n",
      " [ 8]\n",
      " [ 9]\n",
      " [10]\n",
      " [11]\n",
      " [12]]\n"
     ]
    }
   ],
   "source": [
    "a = np.array([[1, 2, 3, 4],\n",
    "         [5, 6, 7, 8],\n",
    "         [9, 10, 11, 12]])\n",
    "print(a.shape)      # 3 rows by 4 columns\n",
    "\n",
    "a2 = a.reshape(-1)  # 1 row and 12 columns, a (row) vector\n",
    "print(a2.shape)     # (12,)\n",
    "print(a2)\n",
    "\n",
    "a3 = a.reshape(-1,1)   # 12 rows and 1 column, a column vector\n",
    "print(a3.shape)        # (12,1)\n",
    "print(a3)"
   ]
  },
  {
   "cell_type": "markdown",
   "metadata": {},
   "source": [
    "We can think the index `-1` means the unknown size of certain axis and its value to be determined by Python, so the rest size of different axes must be provided then the Python interpreter knows how to calculate the unknown size of the specific axis."
   ]
  },
  {
   "cell_type": "markdown",
   "metadata": {},
   "source": [
    "## 4.2 transpose()"
   ]
  },
  {
   "cell_type": "markdown",
   "metadata": {},
   "source": [
    "`numpy.transpose(a)`permutes the dimensions of an array.\n",
    "\n",
    "The interface is,\n",
    "    \n",
    "    numpy.transpose(a, axes=None)\n",
    "   \n",
    "The argument `a` is the input array, `axes` is optional. `axes` is a tuple of axis numbers to be permuted. If `axes` is not given, it means permution between axis 0 and the last axis. \n",
    "\n",
    "For example,"
   ]
  },
  {
   "cell_type": "code",
   "execution_count": 22,
   "metadata": {},
   "outputs": [
    {
     "name": "stdout",
     "output_type": "stream",
     "text": [
      "[[0 1]\n",
      " [2 3]]\n",
      "\n",
      "[[0 2]\n",
      " [1 3]]\n",
      "\n",
      "[[[ 0  1  2  3]\n",
      "  [ 4  5  6  7]\n",
      "  [ 8  9 10 11]]\n",
      "\n",
      " [[12 13 14 15]\n",
      "  [16 17 18 19]\n",
      "  [20 21 22 23]]]\n",
      "\n",
      "[[[ 0 12]\n",
      "  [ 4 16]\n",
      "  [ 8 20]]\n",
      "\n",
      " [[ 1 13]\n",
      "  [ 5 17]\n",
      "  [ 9 21]]\n",
      "\n",
      " [[ 2 14]\n",
      "  [ 6 18]\n",
      "  [10 22]]\n",
      "\n",
      " [[ 3 15]\n",
      "  [ 7 19]\n",
      "  [11 23]]]\n",
      "\n",
      "[[[ 0  1  2  3]\n",
      "  [12 13 14 15]]\n",
      "\n",
      " [[ 4  5  6  7]\n",
      "  [16 17 18 19]]\n",
      "\n",
      " [[ 8  9 10 11]\n",
      "  [20 21 22 23]]]\n"
     ]
    }
   ],
   "source": [
    "a = np.arange(4).reshape((2,2))\n",
    "print(a)\n",
    "print()\n",
    "\n",
    "b = np.transpose(a)\n",
    "print(b)\n",
    "print()\n",
    "\n",
    "a = np.arange(24).reshape((2,3,4))   # a three dimensional array\n",
    "print(a)\n",
    "print()\n",
    "\n",
    "b = a\n",
    "print(np.transpose(b))  # permution between axis 0 and axis 2\n",
    "print()\n",
    "\n",
    "print(np.transpose(b, (1,0,2))) # permutation between axis 0 and axis 1"
   ]
  },
  {
   "cell_type": "markdown",
   "metadata": {},
   "source": [
    "The `transpose` of array a has a shorthand `a.T`."
   ]
  },
  {
   "cell_type": "markdown",
   "metadata": {},
   "source": [
    "## 4.3 flatten()"
   ]
  },
  {
   "cell_type": "markdown",
   "metadata": {},
   "source": [
    "`flatten()` is a function of `ndarray` data object. It returns a copy of the array collapsed into one dimension. For example,"
   ]
  },
  {
   "cell_type": "code",
   "execution_count": 23,
   "metadata": {},
   "outputs": [
    {
     "data": {
      "text/plain": [
       "array([0, 1, 2, 3])"
      ]
     },
     "execution_count": 23,
     "metadata": {},
     "output_type": "execute_result"
    }
   ],
   "source": [
    "a = np.array([[0,1],\n",
    "           [2,3]])\n",
    "b = a.flatten()\n",
    "b"
   ]
  },
  {
   "cell_type": "markdown",
   "metadata": {},
   "source": [
    "Because array b is a copy of array a. Any change in b does not affect array a. For example, "
   ]
  },
  {
   "cell_type": "code",
   "execution_count": 24,
   "metadata": {},
   "outputs": [
    {
     "name": "stdout",
     "output_type": "stream",
     "text": [
      "[1 1 2 3]\n",
      "[[0 1]\n",
      " [2 3]]\n"
     ]
    }
   ],
   "source": [
    "b[0] = 1\n",
    "print(b)\n",
    "print(a)"
   ]
  },
  {
   "cell_type": "markdown",
   "metadata": {},
   "source": [
    "## 4.4 ravel()"
   ]
  },
  {
   "cell_type": "markdown",
   "metadata": {},
   "source": [
    "`ravel()` is a function of `ndarray` data object. It returns a one-dimensional view of the array object. "
   ]
  },
  {
   "cell_type": "code",
   "execution_count": 25,
   "metadata": {},
   "outputs": [
    {
     "data": {
      "text/plain": [
       "array([0, 1, 2, 3])"
      ]
     },
     "execution_count": 25,
     "metadata": {},
     "output_type": "execute_result"
    }
   ],
   "source": [
    "a = np.array([[0,1],\n",
    "           [2,3]])\n",
    "b = a.ravel()\n",
    "b"
   ]
  },
  {
   "cell_type": "markdown",
   "metadata": {},
   "source": [
    "The difference between `flatten()` and `ravel()` is any change on the view created by `ravel()` affects the array object. For example,"
   ]
  },
  {
   "cell_type": "code",
   "execution_count": 26,
   "metadata": {},
   "outputs": [
    {
     "data": {
      "text/plain": [
       "array([[1, 1],\n",
       "       [2, 3]])"
      ]
     },
     "execution_count": 26,
     "metadata": {},
     "output_type": "execute_result"
    }
   ],
   "source": [
    "b [0] = 1\n",
    "a"
   ]
  },
  {
   "cell_type": "markdown",
   "metadata": {},
   "source": [
    "## 4.5 concatenate()"
   ]
  },
  {
   "cell_type": "markdown",
   "metadata": {},
   "source": [
    "Two arrays of the same shape can be concatenated. The general interface of this function is,\n",
    "\n",
    "    numpy.concatenate((a1, a2, ...), axis=0, out=None)\n",
    "    \n",
    "This function joins a sequence of arrays along an specified axis and returns the concatenated array. For example,"
   ]
  },
  {
   "cell_type": "code",
   "execution_count": 27,
   "metadata": {},
   "outputs": [
    {
     "name": "stdout",
     "output_type": "stream",
     "text": [
      "(2, 3)\n",
      "(2, 3)\n",
      "\n",
      "[[ 0  1  2]\n",
      " [10 11 12]\n",
      " [50 51 52]\n",
      " [60 61 62]]\n",
      "\n",
      "[[ 0  1  2 50 51 52]\n",
      " [10 11 12 60 61 62]]\n"
     ]
    }
   ],
   "source": [
    "x = np.array([\n",
    "        [0,1,2],\n",
    "        [10,11,12]\n",
    "    ])\n",
    "y = np.array([\n",
    "        [50,51,52],\n",
    "        [60,61,62]\n",
    "    ])\n",
    "print(x.shape)\n",
    "print(y.shape)\n",
    "print()\n",
    "\n",
    "z = np.concatenate((x,y))      # join along axis 0, the default axis\n",
    "print(z)\n",
    "print()\n",
    "\n",
    "z = np.concatenate((x,y), axis=1) # join along axis 1.\n",
    "print(z)"
   ]
  },
  {
   "cell_type": "markdown",
   "metadata": {},
   "source": [
    "## 4.6 np.newaxis and None\n",
    "\n",
    "Simply put, the `numpy.newaxis` expression is used to increase the dimension of the existing array by one more dimension, when used once.\n",
    "\n",
    "For example,\n"
   ]
  },
  {
   "cell_type": "code",
   "execution_count": 28,
   "metadata": {},
   "outputs": [
    {
     "name": "stdout",
     "output_type": "stream",
     "text": [
      "(4,)\n",
      "[0 1 2 3]\n",
      "(4, 1)\n",
      "[[0]\n",
      " [1]\n",
      " [2]\n",
      " [3]]\n",
      "(1, 4)\n",
      "[[0 1 2 3]]\n"
     ]
    }
   ],
   "source": [
    "a = np.arange(4)\n",
    "print(a.shape)  # 1D array with four elements (4,)\n",
    "print(a)\n",
    "\n",
    "a_new = a[:,np.newaxis]  # a_new is increased to 2D array (4,1)\n",
    "print(a_new.shape)       # (4,1)\n",
    "print(a_new)\n",
    "\n",
    "a2_new = a[np.newaxis,:] # a2-new is 2D array (1,4)\n",
    "print(a2_new.shape)      # (1,4)\n",
    "print(a2_new)"
   ]
  },
  {
   "cell_type": "markdown",
   "metadata": {},
   "source": [
    "And `numpy.newaxis` is the same as `None`"
   ]
  },
  {
   "cell_type": "code",
   "execution_count": 29,
   "metadata": {},
   "outputs": [
    {
     "data": {
      "text/plain": [
       "True"
      ]
     },
     "execution_count": 29,
     "metadata": {},
     "output_type": "execute_result"
    }
   ],
   "source": [
    "np.newaxis is None"
   ]
  },
  {
   "cell_type": "markdown",
   "metadata": {},
   "source": [
    "So the previous examples to use `np.newaxis` can be changed in the followings:"
   ]
  },
  {
   "cell_type": "code",
   "execution_count": 30,
   "metadata": {},
   "outputs": [
    {
     "name": "stdout",
     "output_type": "stream",
     "text": [
      "(4, 1)\n",
      "[[0]\n",
      " [1]\n",
      " [2]\n",
      " [3]]\n",
      "(1, 4)\n",
      "[[0 1 2 3]]\n"
     ]
    }
   ],
   "source": [
    "a_new = a[:,None]  # a_new is increased to 2D array (4,1)\n",
    "print(a_new.shape)       # (4,1)\n",
    "print(a_new)\n",
    "\n",
    "a2_new = a[None,:] # a2-new is 2D array (1,4)\n",
    "print(a2_new.shape)      # (1,4)\n",
    "print(a2_new)"
   ]
  },
  {
   "cell_type": "markdown",
   "metadata": {},
   "source": [
    "## 5. Reading and Writing Arrays"
   ]
  },
  {
   "cell_type": "markdown",
   "metadata": {},
   "source": [
    "## 5.1 Read formatted data from text file by `numpy.loadtxt()`\n",
    "\n",
    "First, let us create a formatted text data file with magic command in Jupyter Notebook."
   ]
  },
  {
   "cell_type": "code",
   "execution_count": 31,
   "metadata": {},
   "outputs": [
    {
     "name": "stdout",
     "output_type": "stream",
     "text": [
      "Overwriting myfile.txt\n"
     ]
    }
   ],
   "source": [
    "%%writefile myfile.txt\n",
    "2.1 2.3 3.2 1.3 3.1\n",
    "6.1 3.1 4.2 2.3 1.8"
   ]
  },
  {
   "cell_type": "markdown",
   "metadata": {},
   "source": [
    "Now, we want to read data from 'myfile.txt' and load them to a `ndarray` object. A naive and slow way is below:"
   ]
  },
  {
   "cell_type": "code",
   "execution_count": 32,
   "metadata": {},
   "outputs": [
    {
     "name": "stdout",
     "output_type": "stream",
     "text": [
      "[[2.1 2.3 3.2 1.3 3.1]\n",
      " [6.1 3.1 4.2 2.3 1.8]]\n"
     ]
    }
   ],
   "source": [
    "data = []\n",
    "\n",
    "with open('myfile.txt') as f:\n",
    "    # read one line each time\n",
    "    for line in f:\n",
    "        fileds = line.split()\n",
    "        row_data = [float(x) for x in fileds]\n",
    "        data.append(row_data)\n",
    "\n",
    "data = np.array(data)\n",
    "\n",
    "print(data)"
   ]
  },
  {
   "cell_type": "markdown",
   "metadata": {},
   "source": [
    "We can use a much simpler method `numpy.loadtxt()` from the data file."
   ]
  },
  {
   "cell_type": "code",
   "execution_count": 33,
   "metadata": {},
   "outputs": [
    {
     "name": "stdout",
     "output_type": "stream",
     "text": [
      "[[2.1 2.3 3.2 1.3 3.1]\n",
      " [6.1 3.1 4.2 2.3 1.8]]\n"
     ]
    }
   ],
   "source": [
    "data = np.loadtxt('myfile.txt')\n",
    "print(data)"
   ]
  },
  {
   "cell_type": "markdown",
   "metadata": {},
   "source": [
    "In .csv format data file, the delimiter is not empty space but `,`, for example, the data file is:"
   ]
  },
  {
   "cell_type": "code",
   "execution_count": 34,
   "metadata": {},
   "outputs": [
    {
     "name": "stdout",
     "output_type": "stream",
     "text": [
      "Overwriting myfile.txt\n"
     ]
    }
   ],
   "source": [
    "%%writefile myfile.txt\n",
    "2.1,2.3,3.2,1.3,3.1\n",
    "6.1,3.1,4.2,2.3,1.8"
   ]
  },
  {
   "cell_type": "markdown",
   "metadata": {},
   "source": [
    "We can modify the call to `nump.loadtxt()` by one more argument, `delimiter=','`"
   ]
  },
  {
   "cell_type": "code",
   "execution_count": 35,
   "metadata": {},
   "outputs": [
    {
     "name": "stdout",
     "output_type": "stream",
     "text": [
      "[[2.1 2.3 3.2 1.3 3.1]\n",
      " [6.1 3.1 4.2 2.3 1.8]]\n"
     ]
    }
   ],
   "source": [
    "data = np.loadtxt('myfile.txt', delimiter=',')\n",
    "print(data)"
   ]
  },
  {
   "cell_type": "markdown",
   "metadata": {},
   "source": [
    "The general interface of `numpy.loadtxt()` is below:\n",
    "\n",
    "```python\n",
    "    loadtxt(fname, dtype=<type 'float'>, \n",
    "            comments='#', delimiter=None, \n",
    "            converters=None, skiprows=0, \n",
    "            usecols=None, unpack=False, ndmin=0)\n",
    "```\n",
    "\n",
    "`loadtxt` has many optional arguments, `delimiter` is used for seperator.\n",
    "\n",
    "`skiprows` means the row numbers to be ignored in reading，it can be used to handle data file with text header.\n",
    "\n",
    "`usercols` allows reading data from specified columns.\n",
    "\n",
    "`comment` is the characters or list of characters used to indicate the start of a comment row."
   ]
  },
  {
   "cell_type": "code",
   "execution_count": 36,
   "metadata": {},
   "outputs": [
    {
     "name": "stdout",
     "output_type": "stream",
     "text": [
      "Overwriting myfile.txt\n"
     ]
    }
   ],
   "source": [
    "%%writefile myfile.txt\n",
    "X Y Z MAG ANG\n",
    "2.1,2.3,3.2,1.3,3.1\n",
    "6.1,3.1,4.2,2.3,1.8"
   ]
  },
  {
   "cell_type": "code",
   "execution_count": 37,
   "metadata": {},
   "outputs": [
    {
     "name": "stdout",
     "output_type": "stream",
     "text": [
      "[[2.1 2.3 3.2 1.3 3.1]\n",
      " [6.1 3.1 4.2 2.3 1.8]]\n"
     ]
    }
   ],
   "source": [
    "b = np.loadtxt('myfile.txt', delimiter= ',', skiprows=1)\n",
    "print(b)"
   ]
  },
  {
   "cell_type": "markdown",
   "metadata": {},
   "source": [
    "Let us check a complicated data file. First, we create the file."
   ]
  },
  {
   "cell_type": "code",
   "execution_count": 38,
   "metadata": {},
   "outputs": [
    {
     "name": "stdout",
     "output_type": "stream",
     "text": [
      "Overwriting myfile.txt\n"
     ]
    }
   ],
   "source": [
    "%%writefile myfile.txt\n",
    " -- BEGINNING OF THE FILE\n",
    "% Day, Month, Year, Skip, Power\n",
    "01, 01, 2000, x876, 13 % wow!\n",
    "% we don't want have Jan 03rd\n",
    "04, 01, 2000, xfed, 55"
   ]
  },
  {
   "cell_type": "markdown",
   "metadata": {},
   "source": [
    "We want to read data from first, second, third and fifth columns because these columns contain values. "
   ]
  },
  {
   "cell_type": "code",
   "execution_count": 39,
   "metadata": {},
   "outputs": [
    {
     "name": "stdout",
     "output_type": "stream",
     "text": [
      "[[   1    1 2000   13]\n",
      " [   4    1 2000   55]]\n"
     ]
    }
   ],
   "source": [
    "data = np.loadtxt('myfile.txt', \n",
    "                  skiprows=1,         #skip first line\n",
    "                  dtype=np.int,      #data type\n",
    "                  delimiter=',',     #delimiter is comma\n",
    "                  usecols=(0,1,2,4), #read column 0, 1, 2, and 4\n",
    "                  comments='%'       # line starts with % sign is comment line\n",
    "                 )\n",
    "print(data)"
   ]
  },
  {
   "cell_type": "markdown",
   "metadata": {},
   "source": [
    "We can also define a data converter to handle more data conversion in `numpy.loadtxt()`. Let say we creat a file below."
   ]
  },
  {
   "cell_type": "code",
   "execution_count": 40,
   "metadata": {},
   "outputs": [
    {
     "name": "stdout",
     "output_type": "stream",
     "text": [
      "Overwriting myfile.txt\n"
     ]
    }
   ],
   "source": [
    "%%writefile myfile.txt\n",
    "2010-11-01 2.3 3.2\n",
    "2011-11-01 6.1 3.1"
   ]
  },
  {
   "cell_type": "markdown",
   "metadata": {},
   "source": [
    "So we use the code below to read the data and load to an array."
   ]
  },
  {
   "cell_type": "code",
   "execution_count": 41,
   "metadata": {},
   "outputs": [
    {
     "name": "stdout",
     "output_type": "stream",
     "text": [
      "[[datetime.datetime(2010, 11, 1, 0, 0) 2.3 3.2]\n",
      " [datetime.datetime(2011, 11, 1, 0, 0) 6.1 3.1]]\n"
     ]
    }
   ],
   "source": [
    "import datetime\n",
    "\n",
    "def date_converter(s):\n",
    "    s = str(s, 'utf-8')  # convert the byte info to a string object\n",
    "    \n",
    "    return datetime.datetime.strptime(s, \"%Y-%m-%d\")\n",
    "\n",
    "data = np.loadtxt('myfile.txt',\n",
    "                  dtype=np.object, #data type in the ndarray\n",
    "                  converters={0:date_converter,  #self-defined method to convert the data for first column\n",
    "                              1:float,           # floating point number in second and third column\n",
    "                              2:float})\n",
    "\n",
    "print(data)"
   ]
  },
  {
   "cell_type": "markdown",
   "metadata": {},
   "source": [
    "A more powerful function to read and load data to `ndarray` oject is `numpy.genfromtxt()`. The general interface is:\n",
    "\n",
    "    genfromtxt(fname, dtype=<type 'float'>, comments='#', delimiter=None, \n",
    "               skiprows=0, skip_header=0, skip_footer=0, converters=None, \n",
    "               missing='', missing_values=None, filling_values=None, usecols=None, \n",
    "               names=None, excludelist=None, deletechars=None, replace_space='_', \n",
    "               autostrip=False, case_sensitive=True, defaultfmt='f%i', unpack=None, \n",
    "               usemask=False, loose=True, invalid_raise=True)\n",
    "               \n",
    "The details can be found from https://docs.scipy.org/doc/numpy/reference/generated/numpy.genfromtxt.html#numpy.genfromtxt"
   ]
  },
  {
   "cell_type": "markdown",
   "metadata": {},
   "source": [
    "## 5.2 Save formatted data to text file by `numpy.savetxt()`"
   ]
  },
  {
   "cell_type": "markdown",
   "metadata": {},
   "source": [
    "`numpy.savetxt()` saves 1D or 2D `ndarray` to a file. By default, the file is text based and values are saved in scientific format."
   ]
  },
  {
   "cell_type": "code",
   "execution_count": 42,
   "metadata": {},
   "outputs": [
    {
     "name": "stdout",
     "output_type": "stream",
     "text": [
      "1.000000000000000000e+00 2.000000000000000000e+00\n",
      "\n",
      "3.000000000000000000e+00 4.000000000000000000e+00\n",
      "\n"
     ]
    }
   ],
   "source": [
    "a = np.array([[1,2], \n",
    "            [3,4]])\n",
    "\n",
    "np.savetxt('out.txt', a)   # save the array a to the file out.txt\n",
    "\n",
    "with open('out.txt') as f:\n",
    "    for line in f:\n",
    "        print(line)\n",
    "        "
   ]
  },
  {
   "cell_type": "markdown",
   "metadata": {},
   "source": [
    "The general interface of `numpy.savetxt()` is\n",
    "```python\n",
    "    savetxt(fname, \n",
    "            X, \n",
    "            fmt='%.18e', \n",
    "            delimiter=' ', \n",
    "            newline='\\n', \n",
    "            header='', \n",
    "            footer='', \n",
    "            comments='# ')\n",
    "```\n",
    "So we can use more arguments to save the data in a nice format."
   ]
  },
  {
   "cell_type": "code",
   "execution_count": 43,
   "metadata": {},
   "outputs": [
    {
     "name": "stdout",
     "output_type": "stream",
     "text": [
      "1 2\n",
      "\n",
      "3 4\n",
      "\n"
     ]
    }
   ],
   "source": [
    "data = np.array([[1,2], \n",
    "                 [3,4]])\n",
    "\n",
    "np.savetxt('out.txt', data, fmt=\"%d\")  # save the data as integer\n",
    "\n",
    "with open('out.txt') as f:\n",
    "    for line in f:\n",
    "        print(line)\n",
    "        "
   ]
  },
  {
   "cell_type": "markdown",
   "metadata": {},
   "source": [
    "Another example,"
   ]
  },
  {
   "cell_type": "code",
   "execution_count": 44,
   "metadata": {},
   "outputs": [
    {
     "name": "stdout",
     "output_type": "stream",
     "text": [
      "1.00,2.00\n",
      "\n",
      "3.00,4.00\n",
      "\n"
     ]
    }
   ],
   "source": [
    "data = np.array([[1,2], \n",
    "                 [3,4]])\n",
    "\n",
    "np.savetxt('out2.txt', data, fmt=\"%.2f\", delimiter=',') #save data in floating point number, two decimal, delimiter is comma\n",
    "\n",
    "with open('out2.txt') as f:\n",
    "    for line in f:\n",
    "        print(line)    "
   ]
  },
  {
   "cell_type": "markdown",
   "metadata": {},
   "source": [
    "## 5.3 Save/Read Data in Binary Format File\n",
    "\n",
    "A `ndarray` object can be saved in binary format file .npy. A binary .npy file not only keep values in an array, but also the information about `dtype`, `shape`, and so on. So it is easy to reconstruct the array object in memory when the file is read.\n",
    "\n",
    "\n",
    "To save：\n",
    "\n",
    "- `save(file, arr)` save single array，`.npy` format\n",
    "- `savez(file, *args, **kwds)` save several arrays，uncompressed `.npz` format\n",
    "- `savez_compressed(file, *args, **kwds)` save several arrays，compressed `.npz` format\n",
    "\n",
    "To read：\n",
    "\n",
    "- `load(file, mmap_mode=None)` from `.npy`file，return array，for `.npz` file，return dictionary of name-array pair.\n"
   ]
  },
  {
   "cell_type": "code",
   "execution_count": 45,
   "metadata": {},
   "outputs": [
    {
     "name": "stdout",
     "output_type": "stream",
     "text": [
      "[[1. 2.]\n",
      " [3. 4.]]\n"
     ]
    }
   ],
   "source": [
    "a = np.array([[1.0,2.0], [3.0,4.0]])\n",
    "\n",
    "fname = 'afile.npy'\n",
    "np.save(fname, a)\n",
    "\n",
    "aa = np.load(fname)\n",
    "print(aa)"
   ]
  },
  {
   "cell_type": "code",
   "execution_count": 46,
   "metadata": {},
   "outputs": [
    {
     "name": "stdout",
     "output_type": "stream",
     "text": [
      "[[1. 2.]\n",
      " [3. 4.]]\n"
     ]
    }
   ],
   "source": [
    "a = np.array([[1.0,2.0], \n",
    "              [3.0,4.0]])\n",
    "b = np.arange(1000)\n",
    "\n",
    "np.savez('data.npz', a=a, b=b) # save the two arrays a and b in the file 'data.npz', npz is zipped npy file\n",
    "\n",
    "data = np.load('data.npz')\n",
    "\n",
    "print(data['a'])"
   ]
  }
 ],
 "metadata": {
  "hide_input": false,
  "kernelspec": {
   "display_name": "Python 3",
   "language": "python",
   "name": "python3"
  },
  "language_info": {
   "codemirror_mode": {
    "name": "ipython",
    "version": 3
   },
   "file_extension": ".py",
   "mimetype": "text/x-python",
   "name": "python",
   "nbconvert_exporter": "python",
   "pygments_lexer": "ipython3",
   "version": "3.7.6"
  },
  "varInspector": {
   "cols": {
    "lenName": 16,
    "lenType": 16,
    "lenVar": 40
   },
   "kernels_config": {
    "python": {
     "delete_cmd_postfix": "",
     "delete_cmd_prefix": "del ",
     "library": "var_list.py",
     "varRefreshCmd": "print(var_dic_list())"
    },
    "r": {
     "delete_cmd_postfix": ") ",
     "delete_cmd_prefix": "rm(",
     "library": "var_list.r",
     "varRefreshCmd": "cat(var_dic_list()) "
    }
   },
   "types_to_exclude": [
    "module",
    "function",
    "builtin_function_or_method",
    "instance",
    "_Feature"
   ],
   "window_display": false
  }
 },
 "nbformat": 4,
 "nbformat_minor": 1
}
