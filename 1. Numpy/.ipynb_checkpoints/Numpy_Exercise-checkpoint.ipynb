{
 "cells": [
  {
   "cell_type": "markdown",
   "metadata": {},
   "source": [
    "# Numpy Exercise"
   ]
  },
  {
   "cell_type": "code",
   "execution_count": 1,
   "metadata": {},
   "outputs": [],
   "source": [
    "import numpy as np"
   ]
  },
  {
   "cell_type": "markdown",
   "metadata": {},
   "source": [
    "### 1. \n",
    "Create a one-dimensional array with range 2 to 5  elements; Create a 2 by 4 two-dimensional array with range 2 to 9; Create a 4 by 3 by 2 three-dimensional array with range 0 to 23.\n",
    "\n",
    "Print their properties: shape, dimension, size, and data type.\n",
    "\n",
    "Solution:"
   ]
  },
  {
   "cell_type": "code",
   "execution_count": 1,
   "metadata": {},
   "outputs": [],
   "source": [
    "## Your program start here\n"
   ]
  },
  {
   "cell_type": "markdown",
   "metadata": {},
   "source": [
    "### 2.\n",
    "Create an array [1, 2, 3, 4] and convert the elements' data type to float. So in printing, it is showing [1., 2., 3., 4.]; \n",
    "also, print the reverse order of the array. Finally, change this row vector to a 4 by 1 array.\n",
    "(Hint: numpy.asfarray() and [::-1], [:, np.newaxis]/[:, -1])\n",
    "\n",
    "Creat a 5 by 5 array with 1 on the border (first and last row, first and last column) and 0 inside;\n",
    "(Hint: numpy.ones() and array slicing)\n",
    "\n",
    "*Create a 3 by 3 array with 1 and add border with 0, as the array will become 4 by 4\n",
    "(Hint: numpy.pad())\n",
    "\n",
    "Create a 8 by 8 matrix and fill it with a checkerboard pattern, use 0 to represent white and 1 to represent black.\n",
    "(Hint: array slicing)\n",
    "\n",
    "\n",
    "Solution:"
   ]
  },
  {
   "cell_type": "code",
   "execution_count": 2,
   "metadata": {},
   "outputs": [],
   "source": [
    "## Your program starts here\n"
   ]
  },
  {
   "cell_type": "markdown",
   "metadata": {},
   "source": [
    "### 3.\n",
    "Create an array from 0 to 9 and extract the even elements for printing; then replace these elements by -1.\n",
    "(Hint: use boolean index and element-wise comparison)\n",
    "\n",
    "Create two arrays: x = [5,6,7,8,3,4] and y = [5,3,4,5,2,4], find the positions of the same elements in the two array.\n",
    "(Hint: np.where() and element-wise comparison)\n",
    "\n",
    "Create two arrays: [0, 10, 20, 40, 60] and [0, 40]. test whether each element of x is also present in y.\n",
    "(Hint: np.isin() and use the two arrays as input)\n",
    "\n",
    "Solution:"
   ]
  },
  {
   "cell_type": "code",
   "execution_count": 3,
   "metadata": {},
   "outputs": [],
   "source": [
    "## Your program starts here\n"
   ]
  },
  {
   "cell_type": "markdown",
   "metadata": {},
   "source": [
    "### 4.\n",
    "Creat an one-dimensional array to hold 24 random integer numbers between 0 and 100, then do the following:\n",
    "\n",
    "1. Find the position of minimum and maximum;\n",
    "2. Reshape it into 6 by 4 array; \n",
    "3. Sort the array along axis 0;\n",
    "4. Calculate mean, average, std of the array along axis = 0;\n",
    "5. Reshape it into 4 by 3 by 2 and print the new view;\n",
    "6. Transpose the array in step 5;\n",
    "7. Save the file into a text output file \"data.csv\" with the delimiter = ','.\n",
    "(Hint: x is a 3D array, you can not directly use `np.savetxt` to save it, you have to iterate over the last axis to slice the array and save.)\n",
    "\n",
    "Solution:"
   ]
  },
  {
   "cell_type": "code",
   "execution_count": 4,
   "metadata": {},
   "outputs": [],
   "source": [
    "## Your program starts here\n"
   ]
  },
  {
   "cell_type": "markdown",
   "metadata": {},
   "source": [
    "### 5.\n",
    "Creat an one-dimensional array with this code:\n",
    "`a = np.linspace(1,48,48).reshape(3,4,4)`\n",
    "\n",
    "Index or slice this array to obtain the following:\n",
    "\n",
    "(a) $20.$\n",
    "\n",
    "(b) $ [  9. \\hspace{0.25em} 10. \\hspace{0.25em} 11. \\hspace{0.25em}  12.] $\n",
    "\n",
    "(c) \n",
    "$\n",
    "  [[ 33. \\hspace{0.25em} 34. \\hspace{0.25em} 35.\\hspace{0.25em}  36.] \\\\\n",
    "   [ 37. \\hspace{0.25em} 38. \\hspace{0.25em} 39.\\hspace{0.25em}  40.] \\\\\n",
    "   [ 41. \\hspace{0.25em} 42. \\hspace{0.25em} 43.\\hspace{0.25em}  44.] \\\\\n",
    "   [ 45. \\hspace{0.25em} 46. \\hspace{0.25em} 47.\\hspace{0.25em}  48.]]\n",
    "$\n",
    "\n",
    "(d) \n",
    "$\n",
    "[[  5., \\hspace{0.25em}  6.],\\\\\n",
    " [ 21., \\hspace{0.25em} 22.],\\\\\n",
    " [ 37., \\hspace{0.25em} 38.]]\n",
    "$\n",
    "\n",
    "(e)\n",
    "$\n",
    "[[ 36.\\hspace{0.25em}  35.] \\\\\n",
    " [ 40.\\hspace{0.25em}  39.] \\\\\n",
    " [ 44.\\hspace{0.25em}  43.] \\\\\n",
    " [ 48.\\hspace{0.25em}  47.]]\n",
    "$\n",
    "\n",
    "Solution:"
   ]
  },
  {
   "cell_type": "code",
   "execution_count": 5,
   "metadata": {},
   "outputs": [],
   "source": [
    "##Your program starts here\n"
   ]
  },
  {
   "cell_type": "markdown",
   "metadata": {},
   "source": [
    "### 6.\n",
    "\n",
    "Create two arrays by the codes:\n",
    "\n",
    "`array1 = np.arange(20).reshape(4,5)`\n",
    "\n",
    "`array2 = np.array([[1,2,np.nan],[4,5,6],[np.nan, 7, np.nan]])`\n",
    "\n",
    "Test if elements in arrray1 and array2 are all evaluated to `True` by `np.all()`.\n",
    "\n",
    "Test if any element in array1 and array 2 is evaluated to `True` by `np.any()`.\n",
    "\n",
    "Then replace all the `np.nan` in array2 by the mean of array1. (Hint: use `np.isnan()` to test array2 first)\n",
    "\n"
   ]
  },
  {
   "cell_type": "code",
   "execution_count": 6,
   "metadata": {},
   "outputs": [],
   "source": [
    "##Your program starts here\n"
   ]
  },
  {
   "cell_type": "markdown",
   "metadata": {},
   "source": [
    "### 7.\n",
    "\n",
    "a. Creat an array with 3 by 4 random numbers array within the range of (0, 1). Swap the three rows, that is, row index (0, 1, 2) -> row index (2, 0, 1). Swap first column and third column, that is, column index (0, 1, 2, 3) -> column index (2, 1, 0, 3)\n",
    "\n"
   ]
  },
  {
   "cell_type": "code",
   "execution_count": 7,
   "metadata": {},
   "outputs": [],
   "source": [
    "##Your program start here\n"
   ]
  },
  {
   "cell_type": "markdown",
   "metadata": {},
   "source": [
    "### 8.\n",
    "\n",
    "Iris data is a prototype data set for machine learning beginners in building classfication models. It has five columns: sepallength, sepalwidth, petallength, petalwidth, and species. Data in the first four columns are float type data and the last column is string. Do the work below:\n",
    "\n",
    "1. Use `genfromtxt()` to read data from the url `'https://archive.ics.uci.edu/ml/machine-learning-databases/iris/iris.data'` to a numpy array. \n",
    "\n",
    "2. Store the numeric values in one array and string values in the other array.\n",
    "\n",
    "3. Calculate the mean, median, std of the first column, which is sepal length.\n",
    "\n",
    "4. Normalize the data in the first columns, so that data are in the range of [0, 1]\n",
    "\n",
    "5. the 5th and 95th percentile of iris's sepallength (the first column)\n"
   ]
  },
  {
   "cell_type": "code",
   "execution_count": 5,
   "metadata": {},
   "outputs": [
    {
     "name": "stdout",
     "output_type": "stream",
     "text": [
      "[(5.1, 3.5, 1.4, 0.2, b'Iris-setosa') (4.9, 3. , 1.4, 0.2, b'Iris-setosa')\n",
      " (4.7, 3.2, 1.3, 0.2, b'Iris-setosa') (4.6, 3.1, 1.5, 0.2, b'Iris-setosa')\n",
      " (5. , 3.6, 1.4, 0.2, b'Iris-setosa') (5.4, 3.9, 1.7, 0.4, b'Iris-setosa')\n",
      " (4.6, 3.4, 1.4, 0.3, b'Iris-setosa') (5. , 3.4, 1.5, 0.2, b'Iris-setosa')\n",
      " (4.4, 2.9, 1.4, 0.2, b'Iris-setosa') (4.9, 3.1, 1.5, 0.1, b'Iris-setosa')\n",
      " (5.4, 3.7, 1.5, 0.2, b'Iris-setosa') (4.8, 3.4, 1.6, 0.2, b'Iris-setosa')\n",
      " (4.8, 3. , 1.4, 0.1, b'Iris-setosa') (4.3, 3. , 1.1, 0.1, b'Iris-setosa')\n",
      " (5.8, 4. , 1.2, 0.2, b'Iris-setosa') (5.7, 4.4, 1.5, 0.4, b'Iris-setosa')\n",
      " (5.4, 3.9, 1.3, 0.4, b'Iris-setosa') (5.1, 3.5, 1.4, 0.3, b'Iris-setosa')\n",
      " (5.7, 3.8, 1.7, 0.3, b'Iris-setosa') (5.1, 3.8, 1.5, 0.3, b'Iris-setosa')\n",
      " (5.4, 3.4, 1.7, 0.2, b'Iris-setosa') (5.1, 3.7, 1.5, 0.4, b'Iris-setosa')\n",
      " (4.6, 3.6, 1. , 0.2, b'Iris-setosa') (5.1, 3.3, 1.7, 0.5, b'Iris-setosa')\n",
      " (4.8, 3.4, 1.9, 0.2, b'Iris-setosa') (5. , 3. , 1.6, 0.2, b'Iris-setosa')\n",
      " (5. , 3.4, 1.6, 0.4, b'Iris-setosa') (5.2, 3.5, 1.5, 0.2, b'Iris-setosa')\n",
      " (5.2, 3.4, 1.4, 0.2, b'Iris-setosa') (4.7, 3.2, 1.6, 0.2, b'Iris-setosa')\n",
      " (4.8, 3.1, 1.6, 0.2, b'Iris-setosa') (5.4, 3.4, 1.5, 0.4, b'Iris-setosa')\n",
      " (5.2, 4.1, 1.5, 0.1, b'Iris-setosa') (5.5, 4.2, 1.4, 0.2, b'Iris-setosa')\n",
      " (4.9, 3.1, 1.5, 0.1, b'Iris-setosa') (5. , 3.2, 1.2, 0.2, b'Iris-setosa')\n",
      " (5.5, 3.5, 1.3, 0.2, b'Iris-setosa') (4.9, 3.1, 1.5, 0.1, b'Iris-setosa')\n",
      " (4.4, 3. , 1.3, 0.2, b'Iris-setosa') (5.1, 3.4, 1.5, 0.2, b'Iris-setosa')\n",
      " (5. , 3.5, 1.3, 0.3, b'Iris-setosa') (4.5, 2.3, 1.3, 0.3, b'Iris-setosa')\n",
      " (4.4, 3.2, 1.3, 0.2, b'Iris-setosa') (5. , 3.5, 1.6, 0.6, b'Iris-setosa')\n",
      " (5.1, 3.8, 1.9, 0.4, b'Iris-setosa') (4.8, 3. , 1.4, 0.3, b'Iris-setosa')\n",
      " (5.1, 3.8, 1.6, 0.2, b'Iris-setosa') (4.6, 3.2, 1.4, 0.2, b'Iris-setosa')\n",
      " (5.3, 3.7, 1.5, 0.2, b'Iris-setosa') (5. , 3.3, 1.4, 0.2, b'Iris-setosa')\n",
      " (7. , 3.2, 4.7, 1.4, b'Iris-versicolor')\n",
      " (6.4, 3.2, 4.5, 1.5, b'Iris-versicolor')\n",
      " (6.9, 3.1, 4.9, 1.5, b'Iris-versicolor')\n",
      " (5.5, 2.3, 4. , 1.3, b'Iris-versicolor')\n",
      " (6.5, 2.8, 4.6, 1.5, b'Iris-versicolor')\n",
      " (5.7, 2.8, 4.5, 1.3, b'Iris-versicolor')\n",
      " (6.3, 3.3, 4.7, 1.6, b'Iris-versicolor')\n",
      " (4.9, 2.4, 3.3, 1. , b'Iris-versicolor')\n",
      " (6.6, 2.9, 4.6, 1.3, b'Iris-versicolor')\n",
      " (5.2, 2.7, 3.9, 1.4, b'Iris-versicolor')\n",
      " (5. , 2. , 3.5, 1. , b'Iris-versicolor')\n",
      " (5.9, 3. , 4.2, 1.5, b'Iris-versicolor')\n",
      " (6. , 2.2, 4. , 1. , b'Iris-versicolor')\n",
      " (6.1, 2.9, 4.7, 1.4, b'Iris-versicolor')\n",
      " (5.6, 2.9, 3.6, 1.3, b'Iris-versicolor')\n",
      " (6.7, 3.1, 4.4, 1.4, b'Iris-versicolor')\n",
      " (5.6, 3. , 4.5, 1.5, b'Iris-versicolor')\n",
      " (5.8, 2.7, 4.1, 1. , b'Iris-versicolor')\n",
      " (6.2, 2.2, 4.5, 1.5, b'Iris-versicolor')\n",
      " (5.6, 2.5, 3.9, 1.1, b'Iris-versicolor')\n",
      " (5.9, 3.2, 4.8, 1.8, b'Iris-versicolor')\n",
      " (6.1, 2.8, 4. , 1.3, b'Iris-versicolor')\n",
      " (6.3, 2.5, 4.9, 1.5, b'Iris-versicolor')\n",
      " (6.1, 2.8, 4.7, 1.2, b'Iris-versicolor')\n",
      " (6.4, 2.9, 4.3, 1.3, b'Iris-versicolor')\n",
      " (6.6, 3. , 4.4, 1.4, b'Iris-versicolor')\n",
      " (6.8, 2.8, 4.8, 1.4, b'Iris-versicolor')\n",
      " (6.7, 3. , 5. , 1.7, b'Iris-versicolor')\n",
      " (6. , 2.9, 4.5, 1.5, b'Iris-versicolor')\n",
      " (5.7, 2.6, 3.5, 1. , b'Iris-versicolor')\n",
      " (5.5, 2.4, 3.8, 1.1, b'Iris-versicolor')\n",
      " (5.5, 2.4, 3.7, 1. , b'Iris-versicolor')\n",
      " (5.8, 2.7, 3.9, 1.2, b'Iris-versicolor')\n",
      " (6. , 2.7, 5.1, 1.6, b'Iris-versicolor')\n",
      " (5.4, 3. , 4.5, 1.5, b'Iris-versicolor')\n",
      " (6. , 3.4, 4.5, 1.6, b'Iris-versicolor')\n",
      " (6.7, 3.1, 4.7, 1.5, b'Iris-versicolor')\n",
      " (6.3, 2.3, 4.4, 1.3, b'Iris-versicolor')\n",
      " (5.6, 3. , 4.1, 1.3, b'Iris-versicolor')\n",
      " (5.5, 2.5, 4. , 1.3, b'Iris-versicolor')\n",
      " (5.5, 2.6, 4.4, 1.2, b'Iris-versicolor')\n",
      " (6.1, 3. , 4.6, 1.4, b'Iris-versicolor')\n",
      " (5.8, 2.6, 4. , 1.2, b'Iris-versicolor')\n",
      " (5. , 2.3, 3.3, 1. , b'Iris-versicolor')\n",
      " (5.6, 2.7, 4.2, 1.3, b'Iris-versicolor')\n",
      " (5.7, 3. , 4.2, 1.2, b'Iris-versicolor')\n",
      " (5.7, 2.9, 4.2, 1.3, b'Iris-versicolor')\n",
      " (6.2, 2.9, 4.3, 1.3, b'Iris-versicolor')\n",
      " (5.1, 2.5, 3. , 1.1, b'Iris-versicolor')\n",
      " (5.7, 2.8, 4.1, 1.3, b'Iris-versicolor')\n",
      " (6.3, 3.3, 6. , 2.5, b'Iris-virginica')\n",
      " (5.8, 2.7, 5.1, 1.9, b'Iris-virginica')\n",
      " (7.1, 3. , 5.9, 2.1, b'Iris-virginica')\n",
      " (6.3, 2.9, 5.6, 1.8, b'Iris-virginica')\n",
      " (6.5, 3. , 5.8, 2.2, b'Iris-virginica')\n",
      " (7.6, 3. , 6.6, 2.1, b'Iris-virginica')\n",
      " (4.9, 2.5, 4.5, 1.7, b'Iris-virginica')\n",
      " (7.3, 2.9, 6.3, 1.8, b'Iris-virginica')\n",
      " (6.7, 2.5, 5.8, 1.8, b'Iris-virginica')\n",
      " (7.2, 3.6, 6.1, 2.5, b'Iris-virginica')\n",
      " (6.5, 3.2, 5.1, 2. , b'Iris-virginica')\n",
      " (6.4, 2.7, 5.3, 1.9, b'Iris-virginica')\n",
      " (6.8, 3. , 5.5, 2.1, b'Iris-virginica')\n",
      " (5.7, 2.5, 5. , 2. , b'Iris-virginica')\n",
      " (5.8, 2.8, 5.1, 2.4, b'Iris-virginica')\n",
      " (6.4, 3.2, 5.3, 2.3, b'Iris-virginica')\n",
      " (6.5, 3. , 5.5, 1.8, b'Iris-virginica')\n",
      " (7.7, 3.8, 6.7, 2.2, b'Iris-virginica')\n",
      " (7.7, 2.6, 6.9, 2.3, b'Iris-virginica')\n",
      " (6. , 2.2, 5. , 1.5, b'Iris-virginica')\n",
      " (6.9, 3.2, 5.7, 2.3, b'Iris-virginica')\n",
      " (5.6, 2.8, 4.9, 2. , b'Iris-virginica')\n",
      " (7.7, 2.8, 6.7, 2. , b'Iris-virginica')\n",
      " (6.3, 2.7, 4.9, 1.8, b'Iris-virginica')\n",
      " (6.7, 3.3, 5.7, 2.1, b'Iris-virginica')\n",
      " (7.2, 3.2, 6. , 1.8, b'Iris-virginica')\n",
      " (6.2, 2.8, 4.8, 1.8, b'Iris-virginica')\n",
      " (6.1, 3. , 4.9, 1.8, b'Iris-virginica')\n",
      " (6.4, 2.8, 5.6, 2.1, b'Iris-virginica')\n",
      " (7.2, 3. , 5.8, 1.6, b'Iris-virginica')\n",
      " (7.4, 2.8, 6.1, 1.9, b'Iris-virginica')\n",
      " (7.9, 3.8, 6.4, 2. , b'Iris-virginica')\n",
      " (6.4, 2.8, 5.6, 2.2, b'Iris-virginica')\n",
      " (6.3, 2.8, 5.1, 1.5, b'Iris-virginica')\n",
      " (6.1, 2.6, 5.6, 1.4, b'Iris-virginica')\n",
      " (7.7, 3. , 6.1, 2.3, b'Iris-virginica')\n",
      " (6.3, 3.4, 5.6, 2.4, b'Iris-virginica')\n",
      " (6.4, 3.1, 5.5, 1.8, b'Iris-virginica')\n",
      " (6. , 3. , 4.8, 1.8, b'Iris-virginica')\n",
      " (6.9, 3.1, 5.4, 2.1, b'Iris-virginica')\n",
      " (6.7, 3.1, 5.6, 2.4, b'Iris-virginica')\n",
      " (6.9, 3.1, 5.1, 2.3, b'Iris-virginica')\n",
      " (5.8, 2.7, 5.1, 1.9, b'Iris-virginica')\n",
      " (6.8, 3.2, 5.9, 2.3, b'Iris-virginica')\n",
      " (6.7, 3.3, 5.7, 2.5, b'Iris-virginica')\n",
      " (6.7, 3. , 5.2, 2.3, b'Iris-virginica')\n",
      " (6.3, 2.5, 5. , 1.9, b'Iris-virginica')\n",
      " (6.5, 3. , 5.2, 2. , b'Iris-virginica')\n",
      " (6.2, 3.4, 5.4, 2.3, b'Iris-virginica')\n",
      " (5.9, 3. , 5.1, 1.8, b'Iris-virginica')]\n"
     ]
    },
    {
     "name": "stderr",
     "output_type": "stream",
     "text": [
      "/Users/LimZY/CM4044/lib/python3.7/site-packages/ipykernel_launcher.py:3: VisibleDeprecationWarning: Reading unicode strings without specifying the encoding argument is deprecated. Set the encoding, use None for the system default.\n",
      "  This is separate from the ipykernel package so we can avoid doing imports until\n"
     ]
    }
   ],
   "source": [
    "##Your program starts here\n",
    "\n",
    "data = np.genfromtxt('https://archive.ics.uci.edu/ml/machine-learning-databases/iris/iris.data', delimiter = ',', dtype = None)\n",
    "print(data)\n"
   ]
  },
  {
   "cell_type": "code",
   "execution_count": null,
   "metadata": {},
   "outputs": [],
   "source": []
  }
 ],
 "metadata": {
  "kernelspec": {
   "display_name": "Python 3",
   "language": "python",
   "name": "python3"
  },
  "language_info": {
   "codemirror_mode": {
    "name": "ipython",
    "version": 3
   },
   "file_extension": ".py",
   "mimetype": "text/x-python",
   "name": "python",
   "nbconvert_exporter": "python",
   "pygments_lexer": "ipython3",
   "version": "3.7.0"
  }
 },
 "nbformat": 4,
 "nbformat_minor": 4
}
