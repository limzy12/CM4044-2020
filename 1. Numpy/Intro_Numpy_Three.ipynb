{
 "cells": [
  {
   "cell_type": "markdown",
   "metadata": {},
   "source": [
    "## CM4044: AI In Chemistry\n",
    "## Semester 1 2019/20\n",
    "\n",
    "<hr>\n",
    "\n",
    "## Tutorial 1c: Introduction to Numpy Part III\n",
    "## Objectives\n",
    "### $\\bullet$ Statistics Calculations\n",
    "### $\\bullet$ Linear Algebra Basics\n",
    "\n",
    "<hr>\n",
    "\n"
   ]
  },
  {
   "cell_type": "code",
   "execution_count": 2,
   "metadata": {},
   "outputs": [],
   "source": [
    "import numpy as np"
   ]
  },
  {
   "cell_type": "markdown",
   "metadata": {},
   "source": [
    "## 1. Statistics Calculations"
   ]
  },
  {
   "cell_type": "markdown",
   "metadata": {},
   "source": [
    "## 1.1 `sum()`"
   ]
  },
  {
   "cell_type": "markdown",
   "metadata": {},
   "source": [
    "To calculate the sum of elements in a `ndarray` object. The sum operation depends on data type. For example,"
   ]
  },
  {
   "cell_type": "code",
   "execution_count": 4,
   "metadata": {
    "scrolled": true
   },
   "outputs": [
    {
     "name": "stdout",
     "output_type": "stream",
     "text": [
      "[[ 1  2  3  4  5]\n",
      " [ 6  7  8  9 10]]\n",
      "\n",
      "55\n",
      "\n",
      "[ 7  9 11 13 15]\n",
      "\n",
      "[15 40]\n"
     ]
    }
   ],
   "source": [
    "a = np.arange(1,11).reshape(2,5)\n",
    "print(a)\n",
    "print()\n",
    "\n",
    "b = np.sum(a)\n",
    "print(b)\n",
    "print()\n",
    "\n",
    "b = np.sum(a, axis = 0)    #sum elements along axis 0, the result is 1D array of five elements\n",
    "print(b)\n",
    "print()\n",
    "\n",
    "b = np.sum(a, axis = 1)    #sum elements along axis 1, the result is 1D array of two elements\n",
    "print(b)"
   ]
  },
  {
   "cell_type": "markdown",
   "metadata": {},
   "source": [
    "The example above about the use of `numpy.sum(a)` can be change to use 'ndarray.sum()', that is, `sum()` is also a function of array object."
   ]
  },
  {
   "cell_type": "code",
   "execution_count": 3,
   "metadata": {},
   "outputs": [
    {
     "name": "stdout",
     "output_type": "stream",
     "text": [
      "[[ 1  2  3  4  5]\n",
      " [ 6  7  8  9 10]]\n",
      "\n",
      "55\n",
      "\n",
      "[ 7  9 11 13 15]\n",
      "\n",
      "[15 40]\n"
     ]
    }
   ],
   "source": [
    "a = np.arange(1,11).reshape(2,5)\n",
    "print(a)\n",
    "print()\n",
    "\n",
    "b = a.sum()\n",
    "print(b)\n",
    "print()\n",
    "\n",
    "b = a.sum(axis = 0)    #sum elements along axis 0, the result is 1D array of five elements\n",
    "print(b)\n",
    "print()\n",
    "\n",
    "b = a.sum(axis = 1)    #sum elements along axis 1, the result is 1D array of two elements\n",
    "print(b)"
   ]
  },
  {
   "cell_type": "markdown",
   "metadata": {},
   "source": [
    "## 1.2 `prod()`"
   ]
  },
  {
   "cell_type": "markdown",
   "metadata": {},
   "source": [
    "The calculation of product of elements in an array. The usage is similar to the `sum()` function."
   ]
  },
  {
   "cell_type": "code",
   "execution_count": 4,
   "metadata": {},
   "outputs": [
    {
     "name": "stdout",
     "output_type": "stream",
     "text": [
      "3628800\n",
      "\n",
      "[ 6 14 24 36 50]\n",
      "\n",
      "[  120 30240]\n"
     ]
    }
   ],
   "source": [
    "b = a.prod()\n",
    "print(b)\n",
    "print()\n",
    "\n",
    "b = a.prod(axis = 0)    #products of elements along axis 0, the result is 1D array of five elements\n",
    "print(b)\n",
    "print()\n",
    "\n",
    "b = a.prod(axis = 1)    #products of elements along axis 1, the result is 1D array of two elements\n",
    "print(b)"
   ]
  },
  {
   "cell_type": "markdown",
   "metadata": {},
   "source": [
    "or"
   ]
  },
  {
   "cell_type": "code",
   "execution_count": 5,
   "metadata": {},
   "outputs": [
    {
     "name": "stdout",
     "output_type": "stream",
     "text": [
      "3628800\n",
      "\n",
      "[ 6 14 24 36 50]\n",
      "\n",
      "[  120 30240]\n"
     ]
    }
   ],
   "source": [
    "b = np.prod(a)\n",
    "print(b)\n",
    "print()\n",
    "\n",
    "b = np.prod(a, axis = 0)    #sum elements along axis 0, the result is 1D array of five elements\n",
    "print(b)\n",
    "print()\n",
    "\n",
    "b = np.prod(a, axis = 1)    #sum elements along axis 1, the result is 1D array of two elements\n",
    "print(b)"
   ]
  },
  {
   "cell_type": "markdown",
   "metadata": {},
   "source": [
    "## 1.3 `max()` and `min()`"
   ]
  },
  {
   "cell_type": "markdown",
   "metadata": {},
   "source": [
    "The calculation of maximum or minimum of elements in an array. The usage is similar to the `sum()` function. See example below."
   ]
  },
  {
   "cell_type": "code",
   "execution_count": 6,
   "metadata": {
    "scrolled": true
   },
   "outputs": [
    {
     "name": "stdout",
     "output_type": "stream",
     "text": [
      "[[2 2 5 0]\n",
      " [4 0 2 1]\n",
      " [3 4 3 1]]\n",
      "\n",
      "5\n",
      "0\n",
      "\n",
      "[4 4 5 1]\n",
      "[2 0 2 0]\n",
      "\n",
      "[5 4 4]\n",
      "[0 0 1]\n"
     ]
    }
   ],
   "source": [
    "from numpy.random import randint\n",
    "a = randint(6, size=(3, 4))   # generate random integer smaller than 6 and store them in 3 by 4 array.\n",
    "print(a)\n",
    "print()\n",
    "\n",
    "b = a.max()     # global maximum\n",
    "print(b)\n",
    "c = a.min()     # global minimum\n",
    "print(c)\n",
    "\n",
    "print()\n",
    "\n",
    "b = a.max(axis = 0)    #maximium elements along axis 0, the result is 1D array of five elements\n",
    "print(b)\n",
    "c = a.min(axis = 0)\n",
    "print(c)\n",
    "\n",
    "print()\n",
    "\n",
    "b = a.max(axis = 1)    #maximium elements along axis 0, the result is 1D array of five elements\n",
    "print(b)\n",
    "c = a.min(axis = 1)\n",
    "print(c)"
   ]
  },
  {
   "cell_type": "markdown",
   "metadata": {},
   "source": [
    "## 1.4 `argmax()` and `argmin()`"
   ]
  },
  {
   "cell_type": "markdown",
   "metadata": {},
   "source": [
    "These two methods return the index of maximum or minimum element in the array. The usage is similar to the above functions."
   ]
  },
  {
   "cell_type": "code",
   "execution_count": 7,
   "metadata": {},
   "outputs": [
    {
     "name": "stdout",
     "output_type": "stream",
     "text": [
      "2\n",
      "\n",
      "[0 1 1 0]\n",
      "\n",
      "[2 0 1]\n"
     ]
    }
   ],
   "source": [
    "b = a.argmax()\n",
    "print(b)\n",
    "\n",
    "print()\n",
    "\n",
    "b = a.argmin(axis=0)\n",
    "print(b)\n",
    "\n",
    "print()\n",
    "\n",
    "b = a.argmax(axis=1)\n",
    "print(b)"
   ]
  },
  {
   "cell_type": "markdown",
   "metadata": {},
   "source": [
    "## 1.5 `mean()` and `average()`"
   ]
  },
  {
   "cell_type": "markdown",
   "metadata": {},
   "source": [
    "`numpy.mean()` returns the average of the array elements. The average is taken over the flattened array by default, otherwise over the specified axis. There is also `mean()` function of `ndarray` object, and returns the same value. For example,"
   ]
  },
  {
   "cell_type": "code",
   "execution_count": 8,
   "metadata": {},
   "outputs": [
    {
     "name": "stdout",
     "output_type": "stream",
     "text": [
      "2.25\n",
      "\n",
      "2.25\n",
      "\n",
      "[3.         2.         3.33333333 0.66666667]\n",
      "\n",
      "[3.         2.         3.33333333 0.66666667]\n"
     ]
    }
   ],
   "source": [
    "b = a.mean()\n",
    "print(b)\n",
    "print()\n",
    "\n",
    "b = np.mean(a)\n",
    "print(b)\n",
    "print()\n",
    "\n",
    "b = np.mean(a, axis=0)\n",
    "print(b)\n",
    "print()\n",
    "\n",
    "b = a.mean(axis=0)\n",
    "print(b)"
   ]
  },
  {
   "cell_type": "markdown",
   "metadata": {},
   "source": [
    "`numpy.average()` computes weighted average of elements in an array. By default, every element has the same weight.This method is not a member function of `ndarray`!"
   ]
  },
  {
   "cell_type": "code",
   "execution_count": 9,
   "metadata": {},
   "outputs": [
    {
     "name": "stdout",
     "output_type": "stream",
     "text": [
      "2.25\n",
      "\n",
      "[3.         2.         3.33333333 0.66666667]\n",
      "\n",
      "[3.2 2.  3.  0.8]\n"
     ]
    }
   ],
   "source": [
    "b = np.average(a)\n",
    "print(b)\n",
    "print()\n",
    "#a.average()   #doesn't work\n",
    "\n",
    "b = np.average(a, axis=0)\n",
    "print(b)\n",
    "print()\n",
    "\n",
    "b = np.average(a, axis=0,weights=[1,2,2]) # the shape of weights must be the same as the shape of axis 0\n",
    "print(b)"
   ]
  },
  {
   "cell_type": "markdown",
   "metadata": {},
   "source": [
    "## 1.6 `std()` and `var()`"
   ]
  },
  {
   "cell_type": "markdown",
   "metadata": {},
   "source": [
    "`std()` computes the standard deviation of an array over specified axis. It is both a free function in `numpy` package and a member function of `ndarray` object. `var()` computes variance of an array over specified axis. Same as `std()`, it is both a free function in `numpy` package and a member function of `ndarray` object too."
   ]
  },
  {
   "cell_type": "code",
   "execution_count": 10,
   "metadata": {},
   "outputs": [
    {
     "name": "stdout",
     "output_type": "stream",
     "text": [
      "1.5343293866268306\n",
      "\n",
      "[1.78535711 1.47901995 1.08972474]\n",
      "\n",
      "2.3541666666666665\n",
      "\n",
      "[3.1875 2.1875 1.1875]\n"
     ]
    }
   ],
   "source": [
    "b = a.std()   # same as b = np.std(a)\n",
    "print(b)\n",
    "\n",
    "print()\n",
    "\n",
    "b = a.std(axis = 1)  # same as b = np.std(a, axis = 1)\n",
    "print(b)\n",
    "print()\n",
    "\n",
    "b = a.var()    # same as b = np.var(a)\n",
    "print(b)\n",
    "print()\n",
    "\n",
    "b = a.var(axis=1)   # same as b = np.bar(a, axis = 1)\n",
    "print(b)"
   ]
  },
  {
   "cell_type": "markdown",
   "metadata": {},
   "source": [
    "## 1.7 `clip()`"
   ]
  },
  {
   "cell_type": "markdown",
   "metadata": {},
   "source": [
    "This function limits the value of elements in an array based on the input interval. For example"
   ]
  },
  {
   "cell_type": "code",
   "execution_count": 11,
   "metadata": {},
   "outputs": [
    {
     "name": "stdout",
     "output_type": "stream",
     "text": [
      "[[  1   2   3   4]\n",
      " [  5   6   7 800]]\n",
      "\n",
      "[[2 2 3 4]\n",
      " [5 5 5 5]]\n"
     ]
    }
   ],
   "source": [
    "a = np.array([[1, 2, 3, 4], [5, 6, 7, 800]])\n",
    "print(a)\n",
    "print()\n",
    "\n",
    " \n",
    "# the interval is [2, 5], any value smaller repleaced by 2, any value bigger replaced 5.\n",
    "b = np.clip(a, 2, 5)   # same as a.clip(2,5)\n",
    "print(b)"
   ]
  },
  {
   "cell_type": "markdown",
   "metadata": {},
   "source": [
    "## 2. Linear Algebra"
   ]
  },
  {
   "cell_type": "markdown",
   "metadata": {},
   "source": [
    "Linear algebra is one of the most important mathematical topics to do data science. Python’s NumPy has fast efficient functions for all standard linear albegra/matrix operations. Here we will see 9 important and useful linear algebra operations using NumPy and linalg module in NumPy."
   ]
  },
  {
   "cell_type": "markdown",
   "metadata": {},
   "source": [
    "### 2.1 Dot product of two arrays\n",
    "\n",
    "\n",
    "`numpy.dot(a,b)` function calculates the dot product of two arrays (a,b), which can be vector or matrix, provide the calculation is defined.\n",
    "\n",
    "If a and b are 1D vectors, there is no need to differenciate whether they are row or column vectors, the only requirement is they have the same number of elements.\n",
    "\n",
    "$$ a = [a_0, a_1, ...] $$ and $$ b = [b_0, b_1, ...] $$, $$ a \\centerdot b = \\sum_{i=0}^{n} a_0 b_0 + a_1 b_1 + ... + a_n b_n$$\n",
    "\n",
    "If a is matrix and b is 1D row vector, the dot product is a row vector after calculations.\n",
    "$$\n",
    "a = \n",
    "\\left[ \n",
    "\\begin{array}{cccc}\n",
    "a_{00} & a_{01} & a_{02} \\\\ \n",
    "a_{10} & a_{11} & a_{12} \\\\ \n",
    "\\vdots & \\vdots & \\vdots \\\\\n",
    "a_{n0} & a_{n1} & a_{n2} \n",
    "\\end{array} \n",
    "\\right]\n",
    "\\quad\n",
    "\\textrm{ and }\n",
    "\\quad\n",
    "b = \n",
    "\\left[ \n",
    "\\begin{array}{cccc}\n",
    "b_0 \n",
    "b_1 \n",
    "b_2\n",
    "\\end{array} \n",
    "\\right]\n",
    "$$\n",
    "\n",
    "$$\n",
    "ab = [ \n",
    "a_{00} b_{0} + a_{01} b_{1} + a_{02} b_{2}, a_{10} b_{0} + a_{11} b_{1} + a_{12} b_{2}, \\cdots, a_{n0} b_{0} + a_{n1} b_{1} + a_{n2} b_{2} ]\n",
    "$$\n",
    "\n",
    "If a is matrix and b is 1D column vector, the dot product is a column vector after calculations.\n",
    "$$\n",
    "a = \n",
    "\\left[ \n",
    "\\begin{array}{cccc}\n",
    "a_{00} & a_{01} & a_{02} \\\\ \n",
    "a_{10} & a_{11} & a_{12} \\\\ \n",
    "\\vdots & \\vdots & \\vdots \\\\\n",
    "a_{n0} & a_{n1} & a_{n2} \n",
    "\\end{array} \n",
    "\\right]\n",
    "\\quad\n",
    "\\textrm{ and }\n",
    "\\quad\n",
    "b = \n",
    "\\left[ \n",
    "\\begin{array}{cccc}\n",
    "b_0 \\\\ \n",
    "b_1 \\\\ \n",
    "b_2\n",
    "\\end{array} \n",
    "\\right]\n",
    "\\quad\n",
    "ab  =\n",
    "\\left[ \n",
    "\\begin{array}{c}\n",
    "a_{00}b_{0} + a_{01} b_{1} + a_{02} b_{2} &  \\\\ \n",
    "a_{10}b_{0} + a_{11} b_{1} + a_{12} b_{2} \\\\ \n",
    "\\vdots\\\\\n",
    "a_{n0}b_{0} + a_{n1} b_{1} + a_{n2} b_{2}\n",
    "\\end{array} \n",
    "\\right]\n",
    "$$\n",
    "\n",
    "If both a and b are matrix, there is requirement on the dimensionalities of a and b, a's column dimension must be the same as b's row dimension.\n",
    "If a is matrix and b is 1D column vector, the dot product is a column vector after calculations.\n",
    "$$\n",
    "a = \n",
    "\\left[ \n",
    "\\begin{array}{cccc}\n",
    "a_{00} & a_{01} & a_{02} \\\\ \n",
    "a_{10} & a_{11} & a_{12} \\\\ \n",
    "\\vdots & \\vdots & \\vdots \\\\\n",
    "a_{n0} & a_{n1} & a_{n2} \n",
    "\\end{array} \n",
    "\\right]\n",
    "\\quad\n",
    "\\textrm{ and }\n",
    "\\quad\n",
    "b = \n",
    "\\left[ \n",
    "\\begin{array}{cccc}\n",
    "b_{00} & b_{01} \\\\ \n",
    "b_{10} & b_{11} \\\\ \n",
    "b_{20} & b_{21}\n",
    "\\end{array} \n",
    "\\right]\n",
    "\\quad\n",
    "ab  =\n",
    "\\left[ \n",
    "\\begin{array}{cc}\n",
    "a_{00}b_{00} + a_{01} b_{10} + a_{02} b_{20} & a_{00}b_{01} + a_{01} b_{11} + a_{02} b_{21}\\\\ \n",
    "a_{10}b_{00} + a_{11} b_{10} + a_{12} b_{20} & a_{10}b_{01} + a_{11} b_{11} + a_{12} b_{21} \\\\ \n",
    "\\vdots & \\vdots\\\\\n",
    "a_{n0}b_{00} + a_{n1} b_{10} + a_{n2} b_{20} & a_{n0}b_{01} + a_{n1} b_{11} + a_{n2} b_{21}\n",
    "\\end{array} \n",
    "\\right]\n",
    "$$\n",
    "\n"
   ]
  },
  {
   "cell_type": "code",
   "execution_count": 12,
   "metadata": {},
   "outputs": [
    {
     "name": "stdout",
     "output_type": "stream",
     "text": [
      "32\n",
      "32\n"
     ]
    }
   ],
   "source": [
    "a = np.array([1,2,3])\n",
    "b = np.array([4,5,6])\n",
    "\n",
    "print(np.dot(a,b))\n",
    "print(a.dot(b))\n"
   ]
  },
  {
   "cell_type": "code",
   "execution_count": 13,
   "metadata": {},
   "outputs": [
    {
     "name": "stdout",
     "output_type": "stream",
     "text": [
      "[ 50 122]\n",
      "[ 50 122]\n",
      "[[ 50]\n",
      " [122]]\n",
      "[[ 50]\n",
      " [122]]\n"
     ]
    }
   ],
   "source": [
    "a = np.array([[1,2,3], [4,5,6]])    # the shape (2,3)\n",
    "b = np.array([7,8,9])             # the shape (1,3), row vector\n",
    "c = b.reshape(-1,1)\n",
    "print(np.dot(a,b)) # calculable\n",
    "print(a.dot(b))\n",
    "print(np.dot(a,c))\n",
    "print(a.dot(c))"
   ]
  },
  {
   "cell_type": "code",
   "execution_count": 14,
   "metadata": {},
   "outputs": [
    {
     "name": "stdout",
     "output_type": "stream",
     "text": [
      "[[ 58  64]\n",
      " [139 154]]\n",
      "[[ 58  64]\n",
      " [139 154]]\n"
     ]
    }
   ],
   "source": [
    "a = np.array([[1,2,3], [4,5,6]])    # the shape (2,3)\n",
    "b = np.array([[7,8], [9, 10],[11,12]]) # the shape (3,2)\n",
    "\n",
    "print(np.dot(a,b))\n",
    "print(a.dot(b))"
   ]
  },
  {
   "cell_type": "markdown",
   "metadata": {},
   "source": [
    "### 2.2 Transpose of an array\n",
    "\n",
    "`numpy.transpose(a)` exchange an array's row and column index. The symbol `.T` is the short hand of this operation."
   ]
  },
  {
   "cell_type": "code",
   "execution_count": 15,
   "metadata": {},
   "outputs": [
    {
     "name": "stdout",
     "output_type": "stream",
     "text": [
      "(2, 3)\n",
      "[[1 2 3]\n",
      " [4 5 6]]\n",
      "(3, 2)\n",
      "[[1 4]\n",
      " [2 5]\n",
      " [3 6]]\n",
      "(3, 2)\n",
      "[[1 4]\n",
      " [2 5]\n",
      " [3 6]]\n"
     ]
    }
   ],
   "source": [
    "a = np.array([[1,2,3], [4,5,6]])    # the shape (2,3)\n",
    "print(a.shape)\n",
    "print(a)\n",
    "b = np.transpose(a)   # the shape (3,2)\n",
    "print(b.shape)\n",
    "print(b)\n",
    "b = a.T   #the shape (3,2)\n",
    "print(b.shape)\n",
    "print(b)"
   ]
  },
  {
   "cell_type": "code",
   "execution_count": 16,
   "metadata": {},
   "outputs": [
    {
     "name": "stdout",
     "output_type": "stream",
     "text": [
      "(2, 3, 4, 5)\n",
      "(5, 4, 3, 2)\n"
     ]
    }
   ],
   "source": [
    "a = np.arange(120).reshape(2,3,4,5)   # Create an array with four dimensions, the shape (2,3,4,5)\n",
    "print(a.shape)\n",
    "\n",
    "b = a.T     #b is the transpose of a, also four dimension, but the shape is (5,4,3,2)\n",
    "print(b.shape)"
   ]
  },
  {
   "cell_type": "markdown",
   "metadata": {},
   "source": [
    "### 2.3 Inner product\n",
    "\n",
    "`numpy.inner(a,b)` calculates the inner product of two arrays. Note: `inner()` is not a memeber function of `ndarray` class.\n",
    "\n",
    "The main difference between `numpy.inner(a,b)` and `numpy.dot(a,b)` is with the case both a and b are matrix."
   ]
  },
  {
   "cell_type": "markdown",
   "metadata": {},
   "source": [
    "Case 1: a and b are 1D arrays. if a and b are both row vector or column vector, the inner product is calculable. The result is a scalar.\n",
    "$$ a = [a_0, a_1, ...] $$ and $$ b = [b_0, b_1, ...] $$, $$ (a, b) = \\sum_{i=0}^{n} a_0 b_0 + a_1 b_1 + ... + a_n b_n$$"
   ]
  },
  {
   "cell_type": "code",
   "execution_count": 17,
   "metadata": {},
   "outputs": [
    {
     "name": "stdout",
     "output_type": "stream",
     "text": [
      "[[4]\n",
      " [5]\n",
      " [6]]\n",
      "32\n"
     ]
    }
   ],
   "source": [
    "a = np.array([1,2,3])   #(1,3)\n",
    "b = np.array([4,5,6])   #(1,3)\n",
    "c = np.array([[4],\n",
    "              [5],\n",
    "              [6]])                 #(3,1)\n",
    "print(c)\n",
    "\n",
    "d = np.inner(a,b)      # there is no a.inner(b) because inner() is not a member function of ndarray object\n",
    "print(d)\n",
    "\n",
    "#e = np.inner(a,c)\n",
    "#print(d)"
   ]
  },
  {
   "cell_type": "markdown",
   "metadata": {},
   "source": [
    "Case 2: The inner product of a matrix and a vector.\n",
    "\n",
    "If a is matrix and b is 1D row vector, the dot product is a row vector after calculations.\n",
    "$$\n",
    "a = \n",
    "\\left[ \n",
    "\\begin{array}{cccc}\n",
    "a_{00} & a_{01} & a_{02} \\\\ \n",
    "a_{10} & a_{11} & a_{12} \\\\ \n",
    "\\vdots & \\vdots & \\vdots \\\\\n",
    "a_{n0} & a_{n1} & a_{n2} \n",
    "\\end{array} \n",
    "\\right]\n",
    "\\quad\n",
    "\\textrm{ and }\n",
    "\\quad\n",
    "b = \n",
    "\\left[ \n",
    "\\begin{array}{c}\n",
    "b_0 \n",
    "b_1 \n",
    "b_2\n",
    "\\end{array} \n",
    "\\right]\n",
    "$$\n",
    "\n",
    "$$\n",
    "(a, b) = [ \n",
    "a_{00} b_{0} + a_{01} b_{1} + a_{02} b_{2}, a_{10} b_{0} + a_{11} b_{1} + a_{12} b_{2}, \\cdots, a_{n0} b_{0} + a_{n1} b_{1} + a_{n2} b_{2} ]\n",
    "$$\n",
    "\n",
    "If b is 1D column vector, the inner product is not calculable.\n"
   ]
  },
  {
   "cell_type": "code",
   "execution_count": 18,
   "metadata": {},
   "outputs": [
    {
     "name": "stdout",
     "output_type": "stream",
     "text": [
      "[ 68 167 266]\n"
     ]
    }
   ],
   "source": [
    "a = np.array([[1,2,3], [4,5,6], [7,8,9]])    # the shape (2,3)\n",
    "b = np.array([10,11,12])             # the shape (1,3), row vector\n",
    "c = b.reshape(-1,1)                  # column vector\n",
    "#print(c)\n",
    "print(np.inner(a,b)) # calculable\n",
    "\n",
    "#print(np.inner(a,c)) # not calculable\n"
   ]
  },
  {
   "cell_type": "markdown",
   "metadata": {},
   "source": [
    "Case 3: both a and b are matrix.\n",
    "\n",
    "If both a and b are matrix, there is requirement on the dimensionalities of a and b, a's column dimension must be the same as b's column dimension.\n",
    "\n",
    "$$\n",
    "a = \n",
    "\\left[ \n",
    "\\begin{array}{cccc}\n",
    "a_{00} & a_{01} & a_{02} \\\\ \n",
    "a_{10} & a_{11} & a_{12} \\\\ \n",
    "\\vdots & \\vdots & \\vdots \\\\\n",
    "a_{n0} & a_{n1} & a_{n2} \n",
    "\\end{array} \n",
    "\\right]\n",
    "\\quad\n",
    "\\textrm{ and }\n",
    "\\quad\n",
    "b = \n",
    "\\left[ \n",
    "\\begin{array}{cccc}\n",
    "b_{00} & b_{01} & b_{02} \\\\ \n",
    "b_{10} & b_{11} & b_{12} \n",
    "\\end{array} \n",
    "\\right]\n",
    "\\quad\n",
    "ab  =\n",
    "\\left[ \n",
    "\\begin{array}{cc}\n",
    "a_{00}b_{00} + a_{01} b_{01} + a_{02} b_{02} & a_{00}b_{10} + a_{01} b_{11} + a_{02} b_{12}\\\\ \n",
    "a_{10}b_{00} + a_{11} b_{01} + a_{02} b_{02} & a_{10}b_{10} + a_{11} b_{11} + a_{12} b_{12} \\\\ \n",
    "\\vdots & \\vdots\\\\\n",
    "a_{n0}b_{00} + a_{n1} b_{01} + a_{n2} b_{02} & a_{n0}b_{10} + a_{n1} b_{11} + a_{n2} b_{12}\n",
    "\\end{array} \n",
    "\\right]\n",
    "$$\n",
    "\n"
   ]
  },
  {
   "cell_type": "code",
   "execution_count": 19,
   "metadata": {},
   "outputs": [
    {
     "name": "stdout",
     "output_type": "stream",
     "text": [
      "[[10 13]\n",
      " [11 14]\n",
      " [12 15]]\n",
      "[[ 68  86]\n",
      " [167 212]\n",
      " [266 338]]\n"
     ]
    }
   ],
   "source": [
    "a = np.array([[1,2,3], [4,5,6], [7,8,9]])    # the shape (2,3)\n",
    "b = np.array([[10,11,12], [13,14,15]])             # the shape (1,3), row vector\n",
    "c = np.transpose(b)                  # column vector\n",
    "print(c)\n",
    "print(np.inner(a,b)) # calculable\n",
    "\n",
    "#print(np.inner(a,c)) # not calculable\n"
   ]
  },
  {
   "cell_type": "code",
   "execution_count": 20,
   "metadata": {},
   "outputs": [
    {
     "name": "stdout",
     "output_type": "stream",
     "text": [
      "[[ 84  90  96]\n",
      " [201 216 231]\n",
      " [318 342 366]]\n",
      "[[ 68  86 104]\n",
      " [167 212 257]\n",
      " [266 338 410]]\n"
     ]
    }
   ],
   "source": [
    "a = np.array([[1,2,3], [4,5,6], [7,8,9]])    # the shape (2,3)\n",
    "b = np.array([[10,11,12], [13,14,15], [16,17,18]])             # the shape (1,3), row vector\n",
    "\n",
    "# compare the result of dot product and inner product\n",
    "print(a.dot(b))\n",
    "print(np.inner(a,b)) # calculable\n"
   ]
  },
  {
   "cell_type": "markdown",
   "metadata": {},
   "source": [
    "### 2.4 Inverse of a matrix\n",
    "\n",
    "`numpy.linalg.inv(a)` computes the inverse of a matrix a.\n"
   ]
  },
  {
   "cell_type": "code",
   "execution_count": 21,
   "metadata": {},
   "outputs": [
    {
     "name": "stdout",
     "output_type": "stream",
     "text": [
      "[[-2.   1. ]\n",
      " [ 1.5 -0.5]]\n",
      "[[1.00000000e+00 1.11022302e-16]\n",
      " [0.00000000e+00 1.00000000e+00]]\n"
     ]
    }
   ],
   "source": [
    "from numpy.linalg import inv\n",
    "\n",
    "a = np.array([[1., 2.], [3., 4.]])\n",
    "ainv = inv(a)\n",
    "\n",
    "print(ainv)\n",
    "\n",
    "print(np.dot(a,ainv))"
   ]
  },
  {
   "cell_type": "markdown",
   "metadata": {},
   "source": [
    "### 2.5 Determinant of a matrix\n",
    "\n",
    "`numpy.linalg.det(a)` calculates the determinant of a matrix."
   ]
  },
  {
   "cell_type": "code",
   "execution_count": 22,
   "metadata": {},
   "outputs": [
    {
     "name": "stdout",
     "output_type": "stream",
     "text": [
      "-2.0000000000000004\n"
     ]
    }
   ],
   "source": [
    "from numpy.linalg import det\n",
    "\n",
    "a = np.array([[1., 2.], [3., 4.]])\n",
    "\n",
    "print(det(a))\n",
    "\n"
   ]
  },
  {
   "cell_type": "markdown",
   "metadata": {},
   "source": [
    "### 2.6 Eigenvectors and eigenvalues\n",
    "\n",
    "`numpy.linalg.eig(a)` calculates the eigenvalues and eigenvectors.\n",
    "\n",
    "For this equation,\n",
    "$$\n",
    "\\hat{A}u = \\lambda u\n",
    "$$\n",
    "\n",
    "$ \\hat{A} $ is a square matrix, $u$ is the eigenvector of $\\hat{A}$ and $\\lambda$ is the eigenvalue.\n",
    "\n",
    "\n"
   ]
  },
  {
   "cell_type": "code",
   "execution_count": 23,
   "metadata": {},
   "outputs": [
    {
     "name": "stdout",
     "output_type": "stream",
     "text": [
      "[-0.37228132  5.37228132]\n",
      "[[-0.82456484 -0.41597356]\n",
      " [ 0.56576746 -0.90937671]]\n"
     ]
    }
   ],
   "source": [
    "from numpy.linalg import eig\n",
    "\n",
    "a = np.array([[1., 2.], [3., 4.]])\n",
    "eigvals, eigvecs = eig(a)\n",
    "\n",
    "print(eigvals)\n",
    "\n",
    "print(eigvecs)"
   ]
  },
  {
   "cell_type": "markdown",
   "metadata": {},
   "source": [
    "Finally, due to the limit of capacity, it is not possible to introduce all linear algebra functions avaiable in numpy. But there is a good read from [here](https://medium.com/secure-and-private-ai-math-blogging-competition/linear-algebra-and-numpy-ab18214fd752) "
   ]
  }
 ],
 "metadata": {
  "hide_input": false,
  "kernelspec": {
   "display_name": "Python 3",
   "language": "python",
   "name": "python3"
  },
  "language_info": {
   "codemirror_mode": {
    "name": "ipython",
    "version": 3
   },
   "file_extension": ".py",
   "mimetype": "text/x-python",
   "name": "python",
   "nbconvert_exporter": "python",
   "pygments_lexer": "ipython3",
   "version": "3.7.6"
  },
  "varInspector": {
   "cols": {
    "lenName": 16,
    "lenType": 16,
    "lenVar": 40
   },
   "kernels_config": {
    "python": {
     "delete_cmd_postfix": "",
     "delete_cmd_prefix": "del ",
     "library": "var_list.py",
     "varRefreshCmd": "print(var_dic_list())"
    },
    "r": {
     "delete_cmd_postfix": ") ",
     "delete_cmd_prefix": "rm(",
     "library": "var_list.r",
     "varRefreshCmd": "cat(var_dic_list()) "
    }
   },
   "types_to_exclude": [
    "module",
    "function",
    "builtin_function_or_method",
    "instance",
    "_Feature"
   ],
   "window_display": false
  }
 },
 "nbformat": 4,
 "nbformat_minor": 1
}
