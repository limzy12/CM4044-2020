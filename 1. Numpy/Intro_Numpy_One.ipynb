{
 "cells": [
  {
   "cell_type": "markdown",
   "metadata": {},
   "source": [
    "## CM4044: AI In Chemistry\n",
    "## Semester 1 2020/21\n",
    "\n",
    "<hr>\n",
    "\n",
    "## Tutorial 1a: Introduction to Numpy Part I\n",
    "## Objectives\n",
    "### $\\bullet$ Numpy Package\n",
    "### $\\bullet$ One-dimensional Arrays\n",
    "### $\\bullet$ Multi-dimensional Arrays\n",
    "### $\\bullet$ Other Numpy Array Creation Methods\n",
    "\n",
    "<hr>\n",
    "\n"
   ]
  },
  {
   "cell_type": "markdown",
   "metadata": {},
   "source": [
    "## 1. import numpy"
   ]
  },
  {
   "cell_type": "markdown",
   "metadata": {},
   "source": [
    "**Numpy** is the core library for scientific computing in **Python**. It provides a high-performance multidimensional array object, and tools for working with these arrays.\n",
    "\n",
    "To use **Numpy**, we first need to import the `numpy` package. The most common code is below:\n",
    "\n"
   ]
  },
  {
   "cell_type": "code",
   "execution_count": 2,
   "metadata": {},
   "outputs": [
    {
     "name": "stdout",
     "output_type": "stream",
     "text": [
      "1.18.1\n"
     ]
    }
   ],
   "source": [
    "import numpy as np\n",
    "\n",
    "print(np.__version__)"
   ]
  },
  {
   "cell_type": "markdown",
   "metadata": {},
   "source": [
    "## 2. One-dimensional Arrays\n",
    "\n",
    "A numpy array is a grid of values, all of the **same** type, and is indexed by a tuple of nonnegative integers. The number of dimensions is the rank of the array; the shape of an array is a tuple of integers giving the size of the array along each dimension.\n",
    "\n",
    "We can initialize numpy arrays from nested Python lists with `numpy.array()`, and the data type of **Numpy** array is `numpy.ndarray`"
   ]
  },
  {
   "cell_type": "code",
   "execution_count": 3,
   "metadata": {},
   "outputs": [
    {
     "data": {
      "text/plain": [
       "array([1, 2, 3, 4])"
      ]
     },
     "execution_count": 3,
     "metadata": {},
     "output_type": "execute_result"
    }
   ],
   "source": [
    "a = [1, 2, 3, 4]\n",
    "a = np.array(a)\n",
    "a"
   ]
  },
  {
   "cell_type": "code",
   "execution_count": 4,
   "metadata": {},
   "outputs": [
    {
     "data": {
      "text/plain": [
       "numpy.ndarray"
      ]
     },
     "execution_count": 4,
     "metadata": {},
     "output_type": "execute_result"
    }
   ],
   "source": [
    "type(a) "
   ]
  },
  {
   "cell_type": "markdown",
   "metadata": {},
   "source": [
    "### 3. One-dimensional Array Properties\n",
    "\n",
    "Several functions/attributes are available to check `ndarray` object properties, such as `type()`, `size`, `dtype`, `itemsize`, `shape`, `nbytes`, `ndim`, and many others. "
   ]
  },
  {
   "cell_type": "code",
   "execution_count": 9,
   "metadata": {},
   "outputs": [
    {
     "name": "stdout",
     "output_type": "stream",
     "text": [
      "<class 'numpy.ndarray'>\n",
      "4\n",
      "int32\n",
      "4\n",
      "(4,)\n",
      "16\n",
      "1\n"
     ]
    }
   ],
   "source": [
    "a = np.array([1, 2, 3, 4])\n",
    "print(type(a))       # the data type of array a to screen\n",
    "print(a.size)       # the number of elements in array a\n",
    "print(a.dtype)       # the data type of the elements in the array a\n",
    "print(a.itemsize)    # length of every element in bytes\n",
    "print(a.shape)       # array dimensions \n",
    "print(a.nbytes)      # total bytes for all elements\n",
    "print(a.ndim)        # dimensions of array"
   ]
  },
  {
   "cell_type": "markdown",
   "metadata": {},
   "source": [
    "## 4. Indexing and Slicing\n",
    "\n",
    "Contents of `ndarray` object can be accessed and modified by indexing or slicing with square bracket `[]`, just like Python's `list` objects."
   ]
  },
  {
   "cell_type": "code",
   "execution_count": 8,
   "metadata": {},
   "outputs": [
    {
     "name": "stdout",
     "output_type": "stream",
     "text": [
      "1\n",
      "4\n",
      "[2 4 6]\n"
     ]
    }
   ],
   "source": [
    "a = np.array([1, 2, 3, 4, 5, 6, 7, 8, 9, 10])\n",
    "print(a[0])       # the first element's index is 0!!!\n",
    "print(a[3])       # the fourth element\n",
    "b = a[1:7:2]      # a slice object (child array) is created, 1:7:2 means starts from index 1, stop at index 7, with step 2\n",
    "print(b)"
   ]
  },
  {
   "cell_type": "markdown",
   "metadata": {},
   "source": [
    "The slicing parameters are separated by a colon `:` **(start:stop:step)** directly to the `ndarray` object. If **step** is not specified, **step** is 1. If **start** is not specifed, **start** is 0, if **stop** is not specified, **stop** is array size + 1. And **step** is allowed to be negative. Finally, the slicing does not creat new data object, it sets up a reference relation."
   ]
  },
  {
   "cell_type": "code",
   "execution_count": 6,
   "metadata": {},
   "outputs": [
    {
     "name": "stdout",
     "output_type": "stream",
     "text": [
      "[1 2 3 4 5 6 7 8]\n",
      "[ 2  3  4  5  6  7  8  9 10]\n",
      "[ 1  2  3  4  5  6  7  8  9 10]\n",
      "[10  9  8  7  6  5  4  3  2  1]\n"
     ]
    }
   ],
   "source": [
    "print(a[:8])        # the first element (index 0) to the eighth element (index 7)!\n",
    "print(a[1:])        # the second elment (index 1) to the last element\n",
    "print(a[::])        # the whole array\n",
    "print(a[::-1])      # reverse the order!"
   ]
  },
  {
   "cell_type": "code",
   "execution_count": 7,
   "metadata": {},
   "outputs": [
    {
     "name": "stdout",
     "output_type": "stream",
     "text": [
      "[ 1  2  3  4  5  6  7  8  9 10]\n",
      "[2 3 4]\n",
      "[ 1  0  3  4  5  6  7  8  9 10]\n"
     ]
    }
   ],
   "source": [
    "a = np.array([1, 2, 3, 4, 5, 6, 7, 8, 9, 10])\n",
    "print(a)        \n",
    "b = a[1:4]\n",
    "print(b)\n",
    "b[0] = 0     \n",
    "print(a)      # b is a reference to a sub-array of a, so when content referenced by b changed, the contene in a also changed!"
   ]
  },
  {
   "cell_type": "markdown",
   "metadata": {},
   "source": [
    "## 5. Multidimensional Arrays and Properties\n",
    "\n",
    "`array()` can create multidimensional arrays too. For example,"
   ]
  },
  {
   "cell_type": "code",
   "execution_count": 11,
   "metadata": {},
   "outputs": [
    {
     "name": "stdout",
     "output_type": "stream",
     "text": [
      "[[ 0  1  2  3]\n",
      " [10 11 12 13]]\n"
     ]
    }
   ],
   "source": [
    "a = np.array([[ 0, 1, 2, 3],\n",
    "           [10,11,12,13]])         # the pass-in pararmeter is a list of lists\n",
    "print(a)"
   ]
  },
  {
   "cell_type": "markdown",
   "metadata": {},
   "source": [
    "And the properties of a multidimensional array can be enquired by the same methods used for one-dimensional `ndarray` data object."
   ]
  },
  {
   "cell_type": "code",
   "execution_count": 12,
   "metadata": {},
   "outputs": [
    {
     "name": "stdout",
     "output_type": "stream",
     "text": [
      "<class 'numpy.ndarray'>\n",
      "8\n",
      "int32\n",
      "4\n",
      "(2, 4)\n",
      "32\n",
      "2\n"
     ]
    }
   ],
   "source": [
    "print(type(a))       # the data type of array a to screen\n",
    "print(np.size(a))       # the number of elements in array a\n",
    "print(a.dtype)       # the data type of the elements in the array a\n",
    "print(a.itemsize)    # length of every element in bytes\n",
    "print(a.shape)       # array dimensions \n",
    "print(a.nbytes)      # total bytes for all elements\n",
    "print(a.ndim)        # dimensions of array"
   ]
  },
  {
   "cell_type": "markdown",
   "metadata": {},
   "source": [
    "## 6. Indexing and Slicing in Multidimensional Arrays\n",
    "\n",
    "For a two-dimensional arrays, use a pair of integer numbers to index element in the array. For example,"
   ]
  },
  {
   "cell_type": "code",
   "execution_count": 13,
   "metadata": {},
   "outputs": [
    {
     "name": "stdout",
     "output_type": "stream",
     "text": [
      "0\n",
      "13\n"
     ]
    }
   ],
   "source": [
    "a = np.array([[ 0, 1, 2, 3],\n",
    "           [10,11,12,13]])\n",
    "print(a[0,0])       # the first element's index is (0,0) !!!\n",
    "print(a[1,3])       # the element in second row, fourth column, which is 13"
   ]
  },
  {
   "cell_type": "markdown",
   "metadata": {},
   "source": [
    "Here is a three-dimensional array. To create the 3D array, we use `np.arange()` function and `shape` attribute of a **Numpy** array."
   ]
  },
  {
   "cell_type": "code",
   "execution_count": 14,
   "metadata": {},
   "outputs": [
    {
     "name": "stdout",
     "output_type": "stream",
     "text": [
      "[ 0  1  2  3  4  5  6  7  8  9 10 11 12 13 14 15 16 17 18 19 20 21 22 23\n",
      " 24 25 26 27 28 29 30 31 32 33 34 35 36 37 38 39 40 41 42 43 44 45 46 47\n",
      " 48 49 50 51 52 53 54 55 56 57 58 59]\n",
      "[[[ 0  1  2  3  4]\n",
      "  [ 5  6  7  8  9]\n",
      "  [10 11 12 13 14]\n",
      "  [15 16 17 18 19]]\n",
      "\n",
      " [[20 21 22 23 24]\n",
      "  [25 26 27 28 29]\n",
      "  [30 31 32 33 34]\n",
      "  [35 36 37 38 39]]\n",
      "\n",
      " [[40 41 42 43 44]\n",
      "  [45 46 47 48 49]\n",
      "  [50 51 52 53 54]\n",
      "  [55 56 57 58 59]]]\n",
      "0\n",
      "13\n"
     ]
    }
   ],
   "source": [
    "a = np.arange(3*4*5)  # this function creats a 1D ndarray object\n",
    "print(a)\n",
    "a.shape = 3,4,5       # change the 1D array to a 3D array - the one at the last changes first\n",
    "print(a)\n",
    "print(a[0,0,0])       # the first element's index is (0,0,0) !!!\n",
    "print(a[0,2,3])       # the element is 13"
   ]
  },
  {
   "cell_type": "markdown",
   "metadata": {},
   "source": [
    "## 7. Other Numpy Array Creation Functions"
   ]
  },
  {
   "cell_type": "markdown",
   "metadata": {},
   "source": [
    "## 7.1 arange"
   ]
  },
  {
   "cell_type": "markdown",
   "metadata": {},
   "source": [
    "`arange()` function is similiar to `range()` function in Python, it returns a `ndarray` object after calling.\n",
    "\n",
    "    arange(start, stop=None, step=1, dtype=None)\n",
    "\n",
    "It creates a `ndarray` object with numbers in the range of `[start, stop)` with the input `step`, there is only one input, `start` = 0, `step` = 1."
   ]
  },
  {
   "cell_type": "code",
   "execution_count": 12,
   "metadata": {},
   "outputs": [
    {
     "name": "stdout",
     "output_type": "stream",
     "text": [
      "[0 1 2 3]\n",
      "[1 3]\n",
      "[0.         0.78539816 1.57079633 2.35619449]\n"
     ]
    }
   ],
   "source": [
    "a = np.arange(4)         # start = 0, stop = 4, step = 1\n",
    "print(a) \n",
    "a = np.arange(1, 4, 2)   # start = 1, stop = 4, step = 2\n",
    "print(a)\n",
    "a = np.arange(0, np.pi, np.pi/4)  #start= 0.0, stop = np.pi, step = np.pi/4\n",
    "print(a)"
   ]
  },
  {
   "cell_type": "markdown",
   "metadata": {},
   "source": [
    "## 7.2 linspace"
   ]
  },
  {
   "cell_type": "markdown",
   "metadata": {},
   "source": [
    "`linspace()` function.\n",
    "\n",
    "    linspace(start, stop, N)\n",
    "\n",
    "It creates an `ndarray` with numbers evenly spaced over a specified interval of `[start, stop]`.\n",
    "\n",
    "More general form of this function is:\n",
    "\n",
    "    numpy.linspace(start, stop, num=50, endpoint=True, retstep=False, dtype=None, axis=0)\n",
    "   "
   ]
  },
  {
   "cell_type": "code",
   "execution_count": 15,
   "metadata": {
    "scrolled": true
   },
   "outputs": [
    {
     "name": "stdout",
     "output_type": "stream",
     "text": [
      "[0.   0.25 0.5  0.75 1.  ]\n",
      "[0.  0.2 0.4 0.6 0.8]\n",
      "[0.   0.25 0.5  0.75 1.  ]\n",
      "0.25\n"
     ]
    }
   ],
   "source": [
    "a = np.linspace(0, 1, 5)                  #endpoint included, the interval is [0, 1]\n",
    "print(a)\n",
    "a = np.linspace(0, 1, 5, endpoint=False)  #endpoint excluded, the interval is [0, 1)\n",
    "print(a)\n",
    "a,dx = np.linspace(0,1,5,retstep=True)    #retstep=true, return array and the space between two neighbour elements\n",
    "print(a)\n",
    "print(dx)"
   ]
  },
  {
   "cell_type": "markdown",
   "metadata": {},
   "source": [
    "## 7.3 logspace"
   ]
  },
  {
   "cell_type": "markdown",
   "metadata": {},
   "source": [
    "`logsapce()` returns a `ndarray` of numbers spaced evenly on a log scale.\n",
    "\n",
    "    numpy.logspace(start, stop, num=50, endpoint=True, base=10.0, dtype=None, axis=0)\n"
   ]
  },
  {
   "cell_type": "code",
   "execution_count": 14,
   "metadata": {},
   "outputs": [
    {
     "name": "stdout",
     "output_type": "stream",
     "text": [
      "[1.00000000e+01 2.15443469e+02 4.64158883e+03 1.00000000e+05]\n",
      "[ 2.          5.0396842  12.69920842 32.        ]\n"
     ]
    }
   ],
   "source": [
    "a = np.logspace(1, 5, num=4)\n",
    "print(a)\n",
    "a = np.logspace(1,5, num=4, base=2)\n",
    "print(a)"
   ]
  },
  {
   "cell_type": "markdown",
   "metadata": {},
   "source": [
    "## 7.4 empty"
   ]
  },
  {
   "cell_type": "markdown",
   "metadata": {},
   "source": [
    "`empty()` creates an empty array with arbitrary values.\n",
    "    \n",
    "    numpy.empty(shape, dtype=float, order='C')\n",
    "    \n",
    "The parameter `shape` is a tuple of size in different axis.\n",
    "    "
   ]
  },
  {
   "cell_type": "code",
   "execution_count": 15,
   "metadata": {},
   "outputs": [
    {
     "name": "stdout",
     "output_type": "stream",
     "text": [
      "[2.12199579e-314 6.36598737e-314]\n",
      "[[ 2.          5.0396842 ]\n",
      " [12.69920842 32.        ]]\n",
      "[[[1.23452885e-311 1.23451203e-311 0.00000000e+000 0.00000000e+000\n",
      "   1.23287955e-311]\n",
      "  [1.16095484e-028 5.28595592e-085 6.14837643e-071 1.05161522e-153\n",
      "   8.82142681e+199]\n",
      "  [4.35294652e-114 6.01347002e-154 1.27734658e-152 6.32275266e+233\n",
      "   1.96086574e+243]\n",
      "  [1.87673447e-152 4.11085842e+223 2.76006031e-085 6.01352277e-154\n",
      "   1.46914500e+195]]\n",
      "\n",
      " [[1.14073631e+243 9.45312995e+218 1.81450400e-152 9.95876748e+136\n",
      "   1.07441485e+160]\n",
      "  [9.47069335e-154 7.13222113e-154 2.86530675e+161 2.64519874e+185\n",
      "   3.68205002e+180]\n",
      "  [7.26613256e+223 1.96086573e+243 1.75300468e+243 5.76928887e+252\n",
      "   9.47074989e-154]\n",
      "  [6.19489883e+223 1.32915250e+179 3.68205018e+180 1.81450400e-152\n",
      "   3.77089701e+233]]\n",
      "\n",
      " [[6.63784985e+246 6.01352277e-154 9.13546568e+242 3.81388253e+180\n",
      "   5.97857699e+135]\n",
      "  [1.07441485e+160 5.16179392e-109 7.13222113e-154 5.02069306e+276\n",
      "   2.19993033e-152]\n",
      "  [9.45312995e+218 1.75300480e+243 5.97177672e+175 6.01347002e-154\n",
      "   1.12038850e+219]\n",
      "  [2.31881454e-152 4.83245960e+276 2.91237123e+257 4.71294503e+257\n",
      "   6.80146910e-310]]]\n"
     ]
    }
   ],
   "source": [
    "a = np.empty(2)           # the shape is (2,), which means one row and two column\n",
    "print(a)\n",
    "a = np.empty((2,2))       # the shape is (2,2), two rows and two columns\n",
    "print(a)\n",
    "a = np.empty((3,4,5))     # the shape is (3,4,5), first axis 3, second axis 4, and third axis 5\n",
    "print(a)"
   ]
  },
  {
   "cell_type": "markdown",
   "metadata": {},
   "source": [
    "## 7.5 zeros, ones and eye"
   ]
  },
  {
   "cell_type": "markdown",
   "metadata": {},
   "source": [
    "```python\n",
    "numpy.zeros(shape, dtype=float64)\n",
    "numpy.ones(shape, dtype=float64)\n",
    "```\n",
    "\n",
    "Create an array of 0 values by `zeros(shape)`, or create an array of 1 by `ones(shape)`. `shape` is a tuple of size in different axis.\n",
    "\n",
    "```python\n",
    "numpy.eye(N, M=None, k=0, dtype=<class 'float'>, order='C')\n",
    "```\n",
    "Create a 2D array with `1` in diagonal position for a square matrix or `1` in sub square matrix depends on the value of N and M"
   ]
  },
  {
   "cell_type": "code",
   "execution_count": 16,
   "metadata": {},
   "outputs": [
    {
     "name": "stdout",
     "output_type": "stream",
     "text": [
      "[[0. 0. 0.]\n",
      " [0. 0. 0.]]\n",
      "[[1. 1. 1.]\n",
      " [1. 1. 1.]]\n"
     ]
    }
   ],
   "source": [
    "a = np.zeros((2,3))\n",
    "print(a)\n",
    "a = np.ones((2,3))\n",
    "print(a)"
   ]
  },
  {
   "cell_type": "code",
   "execution_count": 17,
   "metadata": {},
   "outputs": [
    {
     "name": "stdout",
     "output_type": "stream",
     "text": [
      "[[1. 0. 0. 0. 0.]\n",
      " [0. 1. 0. 0. 0.]\n",
      " [0. 0. 1. 0. 0.]\n",
      " [0. 0. 0. 1. 0.]\n",
      " [0. 0. 0. 0. 1.]]\n",
      "[[1. 0. 0.]\n",
      " [0. 1. 0.]\n",
      " [0. 0. 1.]\n",
      " [0. 0. 0.]\n",
      " [0. 0. 0.]]\n",
      "[[1. 0. 0. 0. 0.]\n",
      " [0. 1. 0. 0. 0.]]\n"
     ]
    }
   ],
   "source": [
    "a = np.eye(5,5)    # 5 by 5 square identical array\n",
    "print(a)\n",
    "\n",
    "a = np.eye(5,3)    # the main matrix is five by three, value of 1 is placed in diagonal position of 3 by 3 submatrix\n",
    "print(a)\n",
    "\n",
    "a = np.eye(2,5)    # the main matrix is two by five, value of 1 is placed in the diagonal position of 2 by 2 submatrix\n",
    "print(a)"
   ]
  },
  {
   "cell_type": "markdown",
   "metadata": {},
   "source": [
    "## 7.6 empty_like, zeros_like and ones_like"
   ]
  },
  {
   "cell_type": "markdown",
   "metadata": {},
   "source": [
    "    empty_like(a)\n",
    "    ones_like(a)\n",
    "    zeros_like(a)\n",
    "\n",
    "Create a new array with the same shape of array a and same data type."
   ]
  },
  {
   "cell_type": "code",
   "execution_count": 18,
   "metadata": {},
   "outputs": [
    {
     "name": "stdout",
     "output_type": "stream",
     "text": [
      "[1.  1.5 2.  2.5 3.  3.5]\n",
      "[1.  1.5 2.  2.5 3.  3.5]\n",
      "[0. 0. 0. 0. 0. 0.]\n",
      "[1. 1. 1. 1. 1. 1.]\n"
     ]
    }
   ],
   "source": [
    "a = np.arange(1, 4, 0.5)\n",
    "print(a)\n",
    "b = np.empty_like(a)\n",
    "print(b)\n",
    "b = np.zeros_like(a)\n",
    "print(b)\n",
    "b = np.ones_like(a)\n",
    "print(b)"
   ]
  },
  {
   "cell_type": "markdown",
   "metadata": {},
   "source": [
    "## 8. Understanding Numpy Array Axes\n",
    "\n",
    "Let us start to review the use of the cartesian coordinates system. For example, a 2D cartesian coordinates:\n",
    "\n",
    "<img src=\"./numpy-axes_point-in-cartesian-coordinates-example.png\" width=\"300\" height=\"300\" />\n",
    "\n",
    "Given a pair of number (2,3), we can easily locate the point in this 2D plane because we know the point lies 2 units along the x axis and 3 units along the y axis. In other word, coordinates are the indices of point in this example.\n",
    "\n",
    "NumPy arrays also have axes. \n",
    "\n",
    "<img src=\"./numpy-arrays-have-axes.png\" width=\"400\" height=\"400\" />\n",
    "\n",
    "In a 2-dimensional NumPy array, the axes are the directions along the rows and columns.\n",
    "In a NumPy array, axis 0 is the “first” axis and axis 1 is the \"second\" axis. For example"
   ]
  },
  {
   "cell_type": "code",
   "execution_count": 19,
   "metadata": {},
   "outputs": [
    {
     "name": "stdout",
     "output_type": "stream",
     "text": [
      "(3, 5)\n",
      "[[1. 0. 0. 0. 0.]\n",
      " [0. 1. 0. 0. 0.]\n",
      " [0. 0. 1. 0. 0.]]\n"
     ]
    }
   ],
   "source": [
    "a = np.eye(3,5)   # axis 0 has three rows, axis 1 has five columns\n",
    "print(a.shape)\n",
    "print(a)"
   ]
  },
  {
   "cell_type": "markdown",
   "metadata": {},
   "source": [
    "Arrays with three dimensions or higher generalise the above use of axes. For example, a 3D array is a collection of 2D matrix and it needs three index for three axes i, j, k.\n",
    "1. The first index, i, selects the matrix\n",
    "2. The second index, j, selects the row\n",
    "3. The third index, k, selects the column\n",
    "\n",
    "<img src=\"./3d-array.png\" width=\"400\" height=\"400\" />\n"
   ]
  },
  {
   "cell_type": "code",
   "execution_count": 20,
   "metadata": {},
   "outputs": [
    {
     "name": "stdout",
     "output_type": "stream",
     "text": [
      "(3, 3, 3)\n",
      "[[[10 11 12]\n",
      "  [13 14 15]\n",
      "  [16 17 18]]\n",
      "\n",
      " [[20 21 22]\n",
      "  [23 24 25]\n",
      "  [26 27 28]]\n",
      "\n",
      " [[30 31 32]\n",
      "  [33 34 35]\n",
      "  [36 37 38]]]\n"
     ]
    }
   ],
   "source": [
    "a = np.array([[[10, 11, 12], [13, 14, 15], [16, 17, 18]],\n",
    "               [[20, 21, 22], [23, 24, 25], [26, 27, 28]],\n",
    "               [[30, 31, 32], [33, 34, 35], [36, 37, 38]]])\n",
    "\n",
    "print(a.shape)\n",
    "print(a)"
   ]
  },
  {
   "cell_type": "markdown",
   "metadata": {},
   "source": [
    "You can access any row or column in a 3D array. There are 3 cases.\n",
    "\n",
    "Case 1: specifying the first two indices. In this case, you are choosing the i value (the matrix), and the j value (the row). This will select a specific row. In this example we are selecting row 2 from matrix 1:\n",
    "\n",
    "<img src=\"./3d-array-col-1.png\" width=\"400\" height=\"400\" />"
   ]
  },
  {
   "cell_type": "code",
   "execution_count": 21,
   "metadata": {},
   "outputs": [
    {
     "name": "stdout",
     "output_type": "stream",
     "text": [
      "[26 27 28]\n"
     ]
    }
   ],
   "source": [
    "print(a[1,2]) #[26, 27, 28]"
   ]
  },
  {
   "cell_type": "markdown",
   "metadata": {},
   "source": [
    "Case 2 - specifying the i value (the matrix), and the k value (the column), using a full slice (:) for the j value (the row). This will select a specific column. In this example we are selecting column 1 from matrix 0:\n",
    "\n",
    "<img src=\"./3d-array-col-2.png\" width=\"400\" height=\"400\" />"
   ]
  },
  {
   "cell_type": "code",
   "execution_count": 22,
   "metadata": {},
   "outputs": [
    {
     "name": "stdout",
     "output_type": "stream",
     "text": [
      "[11 14 17]\n"
     ]
    }
   ],
   "source": [
    "print(a[0, :, 1]) # [11 14 17]"
   ]
  },
  {
   "cell_type": "markdown",
   "metadata": {},
   "source": [
    "Case 3 - specifying the j value (the row), and the k value (the column), using a full slice (:) for the i value (the matrix). This will create a row by taking the same element from each matrix. In this case we are taking row 1, column 2 from each matrix:<img src=\"./3d-array-col-3.png\" width=\"400\" height=\"400\" />\n"
   ]
  },
  {
   "cell_type": "code",
   "execution_count": 23,
   "metadata": {},
   "outputs": [
    {
     "name": "stdout",
     "output_type": "stream",
     "text": [
      "[15 25 35]\n"
     ]
    }
   ],
   "source": [
    "print(a[:, 1, 2]) # [15, 25, 35]"
   ]
  }
 ],
 "metadata": {
  "hide_input": false,
  "kernelspec": {
   "display_name": "Python 3",
   "language": "python",
   "name": "python3"
  },
  "language_info": {
   "codemirror_mode": {
    "name": "ipython",
    "version": 3
   },
   "file_extension": ".py",
   "mimetype": "text/x-python",
   "name": "python",
   "nbconvert_exporter": "python",
   "pygments_lexer": "ipython3",
   "version": "3.7.6"
  },
  "varInspector": {
   "cols": {
    "lenName": 16,
    "lenType": 16,
    "lenVar": 40
   },
   "kernels_config": {
    "python": {
     "delete_cmd_postfix": "",
     "delete_cmd_prefix": "del ",
     "library": "var_list.py",
     "varRefreshCmd": "print(var_dic_list())"
    },
    "r": {
     "delete_cmd_postfix": ") ",
     "delete_cmd_prefix": "rm(",
     "library": "var_list.r",
     "varRefreshCmd": "cat(var_dic_list()) "
    }
   },
   "types_to_exclude": [
    "module",
    "function",
    "builtin_function_or_method",
    "instance",
    "_Feature"
   ],
   "window_display": false
  }
 },
 "nbformat": 4,
 "nbformat_minor": 1
}
