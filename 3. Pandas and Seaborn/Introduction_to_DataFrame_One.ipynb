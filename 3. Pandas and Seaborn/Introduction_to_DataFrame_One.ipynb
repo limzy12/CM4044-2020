{
 "cells": [
  {
   "cell_type": "markdown",
   "metadata": {},
   "source": [
    " "
   ]
  },
  {
   "cell_type": "markdown",
   "metadata": {},
   "source": [
    " "
   ]
  },
  {
   "cell_type": "markdown",
   "metadata": {},
   "source": [
    "## CM4044: AI In Chemistry\n",
    "## Semester 1 2020/21\n",
    "\n",
    "<hr>\n",
    "\n",
    "## Tutorial 3a: Introduction to DataFrame in Pandas Part I\n",
    "## Objectives\n",
    "### $\\bullet$ Pandas Library\n",
    "### $\\bullet$ Create DataFrame Object and Simple Data Descriptions\n",
    "### $\\bullet$ Data Selection and Filtering\n",
    "### $\\bullet$ Add Index, Row or Column\n",
    "### $\\bullet$ Reset Index and Delete Row or Column\n",
    "### $\\bullet$ Rename Index or Column\n",
    "### $\\bullet$ Deal with Missing Data\n",
    "### $\\bullet$ Iterate Over Rows and Columns\n",
    "### $\\bullet$ File Input and Output\n",
    "\n",
    "<hr>\n",
    "\n"
   ]
  },
  {
   "cell_type": "markdown",
   "metadata": {},
   "source": [
    "Pandas is an open source, BSD-licensed library providing high-performance, easy-to-use data structures and **data analysis** tools for the Python programming language. The name Pandas is derived from the word Panel Data – an Econometrics from Multidimensional data.\n",
    "\n",
    "The official website of Pandas is [here](https://pandas.pydata.org/). You can also find a lot of tutorial resources from [here](http://pandas.pydata.org/pandas-docs/stable/getting_started/tutorials.html).\n",
    "\n",
    "\n",
    "`pandas` has three data structures：\n",
    "\n",
    "- `Series`\n",
    "    - a one dimensional data structure (“a one dimensional ndarray”) that can store values — and for every value it holds a unique index, too.\n",
    "- `DataFrame`\n",
    "    - a two (or more) dimensional data structure – basically a table with rows and columns. The columns have names and the rows have indexes.\n",
    "\n",
    "- `Panel`\n",
    "    - General 3D labeled, also size-mutable array\n",
    "    \n",
    "Among the three data structures, `DataFrame` is the most popular in usage. \n",
    "\n",
    "In general, you can think that the Pandas `DataFrame` consists of three main components: the data, the index, and the columns.\n",
    "\n",
    "Firstly, the DataFrame can contain data that is:\n",
    "\n",
    "    1. a Pandas `DataFrame`\n",
    "    2. a Pandas `Series`: a one-dimensional labeled array capable of holding any data type with axis labels or index. \n",
    "      An example of a Series object is one column from a DataFrame.\n",
    "    3. a NumPy `ndarray`, which can be a record or structured\n",
    "    4. a two-dimensional `ndarray`, or structured array.\n",
    "    5. dictionaries of one-dimensional ndarray’s, lists, dictionaries or Series.\n",
    "\n",
    "Besides data, you can also specify the index and column names for your DataFrame. The index, on the one hand, indicates the difference in rows, while the column names indicate the difference in columns. You will see later that these two components of the DataFrame will come in handy when you’re manipulating your data.\n",
    "\n",
    "Finally, consider the structure of `DataFrame` object, these real data can be well loaded to a `DataFrame` object:\n",
    "\n",
    "    --In a school system DataFrame – each row could represent a single student in the school, \n",
    "      and columns may represent the students name (string), age (number), date of birth (date), and address (string).\n",
    "    --In an economics DataFrame, each row may represent a single city or geographical area, \n",
    "      and columns might include the the name of area (string), the population (number), the average age of the population (number), \n",
    "      the number of households (number), the number of schools in each area (number) etc.\n",
    "    --In a shop or e-commerce system DataFrame, each row in a DataFrame may be used to represent a customer, \n",
    "      where there are columns for the number of items purchased (number), the date of original registration (date),\n",
    "      and the credit card number (string)."
   ]
  },
  {
   "cell_type": "markdown",
   "metadata": {},
   "source": [
    "## 1. Import Pandas\n",
    "\n",
    "To use Pandas library, one has to import it. Here is a common way to do this:"
   ]
  },
  {
   "cell_type": "code",
   "execution_count": 1,
   "metadata": {},
   "outputs": [
    {
     "name": "stdout",
     "output_type": "stream",
     "text": [
      "1.0.1\n"
     ]
    }
   ],
   "source": [
    "import numpy as np\n",
    "import pandas as pd\n",
    "\n",
    "print(pd.__version__)\n",
    "\n",
    "pd.set_option('max_columns', 50)   # set maximum column in data structure to be 50, the real value varies in cases.\n"
   ]
  },
  {
   "cell_type": "markdown",
   "metadata": {},
   "source": [
    "## 2. How To Create a `DataFrame` Object?\n",
    "\n",
    "A `DataFrame` object can be constructed by calling the constructor, `DataFrame(data, index, columns)`.\n",
    "\n",
    "And many things can be passed in to the data argument.\n",
    "\n",
    "`index` specifies the `label` of rows，`columns` specifies the `label` of columns。If the `index` and/or `columns` have no input, the default values will be used.\n",
    "\n",
    "Using the `columns` parameter allows us to tell the constructor how we'd like the columns ordered. By default, the `DataFrame` constructor will order the columns **alphabetically**. But if the `DataFrame` is created from reading a data file, it will follow the order in the data file.\n",
    "\n",
    "Below are some examples:"
   ]
  },
  {
   "cell_type": "code",
   "execution_count": 2,
   "metadata": {},
   "outputs": [
    {
     "data": {
      "text/html": [
       "<div>\n",
       "<style scoped>\n",
       "    .dataframe tbody tr th:only-of-type {\n",
       "        vertical-align: middle;\n",
       "    }\n",
       "\n",
       "    .dataframe tbody tr th {\n",
       "        vertical-align: top;\n",
       "    }\n",
       "\n",
       "    .dataframe thead th {\n",
       "        text-align: right;\n",
       "    }\n",
       "</style>\n",
       "<table border=\"1\" class=\"dataframe\">\n",
       "  <thead>\n",
       "    <tr style=\"text-align: right;\">\n",
       "      <th></th>\n",
       "      <th>a</th>\n",
       "      <th>b</th>\n",
       "      <th>c</th>\n",
       "    </tr>\n",
       "  </thead>\n",
       "  <tbody>\n",
       "    <tr>\n",
       "      <th>0</th>\n",
       "      <td>1</td>\n",
       "      <td>2</td>\n",
       "      <td>3</td>\n",
       "    </tr>\n",
       "    <tr>\n",
       "      <th>1</th>\n",
       "      <td>4</td>\n",
       "      <td>5</td>\n",
       "      <td>6</td>\n",
       "    </tr>\n",
       "    <tr>\n",
       "      <th>2</th>\n",
       "      <td>7</td>\n",
       "      <td>8</td>\n",
       "      <td>9</td>\n",
       "    </tr>\n",
       "  </tbody>\n",
       "</table>\n",
       "</div>"
      ],
      "text/plain": [
       "   a  b  c\n",
       "0  1  2  3\n",
       "1  4  5  6\n",
       "2  7  8  9"
      ]
     },
     "execution_count": 2,
     "metadata": {},
     "output_type": "execute_result"
    }
   ],
   "source": [
    "# construct a DataFrame object from a numpy array\n",
    "data = np.array([[1, 2, 3], [4, 5, 6], [7, 8, 9]])\n",
    "df0 = pd.DataFrame(data,columns=['a', 'b', 'c'])\n",
    "df0"
   ]
  },
  {
   "cell_type": "code",
   "execution_count": 3,
   "metadata": {
    "scrolled": true
   },
   "outputs": [
    {
     "data": {
      "text/html": [
       "<div>\n",
       "<style scoped>\n",
       "    .dataframe tbody tr th:only-of-type {\n",
       "        vertical-align: middle;\n",
       "    }\n",
       "\n",
       "    .dataframe tbody tr th {\n",
       "        vertical-align: top;\n",
       "    }\n",
       "\n",
       "    .dataframe thead th {\n",
       "        text-align: right;\n",
       "    }\n",
       "</style>\n",
       "<table border=\"1\" class=\"dataframe\">\n",
       "  <thead>\n",
       "    <tr style=\"text-align: right;\">\n",
       "      <th></th>\n",
       "      <th>year</th>\n",
       "      <th>team</th>\n",
       "      <th>wins</th>\n",
       "      <th>losses</th>\n",
       "    </tr>\n",
       "  </thead>\n",
       "  <tbody>\n",
       "    <tr>\n",
       "      <th>0</th>\n",
       "      <td>2010</td>\n",
       "      <td>Bears</td>\n",
       "      <td>11</td>\n",
       "      <td>5</td>\n",
       "    </tr>\n",
       "    <tr>\n",
       "      <th>1</th>\n",
       "      <td>2011</td>\n",
       "      <td>Bears</td>\n",
       "      <td>8</td>\n",
       "      <td>8</td>\n",
       "    </tr>\n",
       "    <tr>\n",
       "      <th>2</th>\n",
       "      <td>2012</td>\n",
       "      <td>Bears</td>\n",
       "      <td>10</td>\n",
       "      <td>6</td>\n",
       "    </tr>\n",
       "    <tr>\n",
       "      <th>3</th>\n",
       "      <td>2011</td>\n",
       "      <td>Packers</td>\n",
       "      <td>15</td>\n",
       "      <td>1</td>\n",
       "    </tr>\n",
       "    <tr>\n",
       "      <th>4</th>\n",
       "      <td>2012</td>\n",
       "      <td>Packers</td>\n",
       "      <td>11</td>\n",
       "      <td>5</td>\n",
       "    </tr>\n",
       "    <tr>\n",
       "      <th>5</th>\n",
       "      <td>2010</td>\n",
       "      <td>Lions</td>\n",
       "      <td>6</td>\n",
       "      <td>10</td>\n",
       "    </tr>\n",
       "    <tr>\n",
       "      <th>6</th>\n",
       "      <td>2011</td>\n",
       "      <td>Lions</td>\n",
       "      <td>10</td>\n",
       "      <td>6</td>\n",
       "    </tr>\n",
       "    <tr>\n",
       "      <th>7</th>\n",
       "      <td>2012</td>\n",
       "      <td>Lions</td>\n",
       "      <td>4</td>\n",
       "      <td>12</td>\n",
       "    </tr>\n",
       "  </tbody>\n",
       "</table>\n",
       "</div>"
      ],
      "text/plain": [
       "   year     team  wins  losses\n",
       "0  2010    Bears    11       5\n",
       "1  2011    Bears     8       8\n",
       "2  2012    Bears    10       6\n",
       "3  2011  Packers    15       1\n",
       "4  2012  Packers    11       5\n",
       "5  2010    Lions     6      10\n",
       "6  2011    Lions    10       6\n",
       "7  2012    Lions     4      12"
      ]
     },
     "execution_count": 3,
     "metadata": {},
     "output_type": "execute_result"
    }
   ],
   "source": [
    "data = {'year': [2010, 2011, 2012, 2011, 2012, 2010, 2011, 2012],\n",
    "        'team': ['Bears', 'Bears', 'Bears', 'Packers', 'Packers', 'Lions', 'Lions', 'Lions'],\n",
    "        'wins': [11, 8, 10, 15, 11, 6, 10, 4],\n",
    "        'losses': [5, 8, 6, 1, 5, 10, 6, 12]}  # a dictionary\n",
    "#football = pd.DataFrame(data, columns=['year', 'team', 'wins', 'losses'])\n",
    "football = pd.DataFrame(data)\n",
    "football"
   ]
  },
  {
   "cell_type": "markdown",
   "metadata": {},
   "source": [
    "`DataFrame.shape` will provide you with the dimensions of your `DataFrame`. That means that you will get to know the width and the height of your `DataFrame`. "
   ]
  },
  {
   "cell_type": "code",
   "execution_count": 4,
   "metadata": {},
   "outputs": [
    {
     "name": "stdout",
     "output_type": "stream",
     "text": [
      "(8, 4)\n"
     ]
    }
   ],
   "source": [
    "print(football.shape)  # 8 rows and 4 columns"
   ]
  },
  {
   "cell_type": "markdown",
   "metadata": {},
   "source": [
    "You can get the `DataFrame`’s row labels with `.index` and its column labels with `.columns`.\n",
    "\n"
   ]
  },
  {
   "cell_type": "code",
   "execution_count": 5,
   "metadata": {},
   "outputs": [
    {
     "name": "stdout",
     "output_type": "stream",
     "text": [
      "RangeIndex(start=0, stop=8, step=1)\n",
      "Index(['year', 'team', 'wins', 'losses'], dtype='object')\n"
     ]
    }
   ],
   "source": [
    "print(football.index)  \n",
    "\n",
    "print(football.columns) "
   ]
  },
  {
   "cell_type": "markdown",
   "metadata": {},
   "source": [
    "If you want more information on `DataFrame.index` or `DataFrame.columns`, you can check on the `.values` of these "
   ]
  },
  {
   "cell_type": "code",
   "execution_count": 6,
   "metadata": {},
   "outputs": [
    {
     "name": "stdout",
     "output_type": "stream",
     "text": [
      "[0 1 2 3 4 5 6 7]\n"
     ]
    }
   ],
   "source": [
    "print(football.index.values)"
   ]
  },
  {
   "cell_type": "code",
   "execution_count": 7,
   "metadata": {},
   "outputs": [
    {
     "name": "stdout",
     "output_type": "stream",
     "text": [
      "['year' 'team' 'wins' 'losses']\n"
     ]
    }
   ],
   "source": [
    "print(football.columns.values)"
   ]
  },
  {
   "cell_type": "markdown",
   "metadata": {},
   "source": [
    "Now you have the row and column labels as special kinds of sequences. You can get a single item:"
   ]
  },
  {
   "cell_type": "code",
   "execution_count": 8,
   "metadata": {},
   "outputs": [
    {
     "name": "stdout",
     "output_type": "stream",
     "text": [
      "1\n",
      "team\n"
     ]
    }
   ],
   "source": [
    "print(football.index[1])   #1\n",
    "\n",
    "print(football.columns[1])  # team"
   ]
  },
  {
   "cell_type": "markdown",
   "metadata": {},
   "source": [
    "## 2.1 `head()`, `tail()` and `sample()`\n",
    "\n",
    "When a `DataFrame` object loads huge number of data, you can use **dot notation** to call `head(n)` to show the first `n` rows of data, (5 rows is the default value):"
   ]
  },
  {
   "cell_type": "code",
   "execution_count": 9,
   "metadata": {},
   "outputs": [
    {
     "data": {
      "text/html": [
       "<div>\n",
       "<style scoped>\n",
       "    .dataframe tbody tr th:only-of-type {\n",
       "        vertical-align: middle;\n",
       "    }\n",
       "\n",
       "    .dataframe tbody tr th {\n",
       "        vertical-align: top;\n",
       "    }\n",
       "\n",
       "    .dataframe thead th {\n",
       "        text-align: right;\n",
       "    }\n",
       "</style>\n",
       "<table border=\"1\" class=\"dataframe\">\n",
       "  <thead>\n",
       "    <tr style=\"text-align: right;\">\n",
       "      <th></th>\n",
       "      <th>year</th>\n",
       "      <th>team</th>\n",
       "      <th>wins</th>\n",
       "      <th>losses</th>\n",
       "    </tr>\n",
       "  </thead>\n",
       "  <tbody>\n",
       "    <tr>\n",
       "      <th>0</th>\n",
       "      <td>2010</td>\n",
       "      <td>Bears</td>\n",
       "      <td>11</td>\n",
       "      <td>5</td>\n",
       "    </tr>\n",
       "    <tr>\n",
       "      <th>1</th>\n",
       "      <td>2011</td>\n",
       "      <td>Bears</td>\n",
       "      <td>8</td>\n",
       "      <td>8</td>\n",
       "    </tr>\n",
       "    <tr>\n",
       "      <th>2</th>\n",
       "      <td>2012</td>\n",
       "      <td>Bears</td>\n",
       "      <td>10</td>\n",
       "      <td>6</td>\n",
       "    </tr>\n",
       "  </tbody>\n",
       "</table>\n",
       "</div>"
      ],
      "text/plain": [
       "   year   team  wins  losses\n",
       "0  2010  Bears    11       5\n",
       "1  2011  Bears     8       8\n",
       "2  2012  Bears    10       6"
      ]
     },
     "execution_count": 9,
     "metadata": {},
     "output_type": "execute_result"
    }
   ],
   "source": [
    "football.head(3)"
   ]
  },
  {
   "cell_type": "markdown",
   "metadata": {},
   "source": [
    "You can check the last `n` rows by calling `tail(n)` (5 is the default value):"
   ]
  },
  {
   "cell_type": "code",
   "execution_count": 10,
   "metadata": {},
   "outputs": [
    {
     "data": {
      "text/html": [
       "<div>\n",
       "<style scoped>\n",
       "    .dataframe tbody tr th:only-of-type {\n",
       "        vertical-align: middle;\n",
       "    }\n",
       "\n",
       "    .dataframe tbody tr th {\n",
       "        vertical-align: top;\n",
       "    }\n",
       "\n",
       "    .dataframe thead th {\n",
       "        text-align: right;\n",
       "    }\n",
       "</style>\n",
       "<table border=\"1\" class=\"dataframe\">\n",
       "  <thead>\n",
       "    <tr style=\"text-align: right;\">\n",
       "      <th></th>\n",
       "      <th>year</th>\n",
       "      <th>team</th>\n",
       "      <th>wins</th>\n",
       "      <th>losses</th>\n",
       "    </tr>\n",
       "  </thead>\n",
       "  <tbody>\n",
       "    <tr>\n",
       "      <th>3</th>\n",
       "      <td>2011</td>\n",
       "      <td>Packers</td>\n",
       "      <td>15</td>\n",
       "      <td>1</td>\n",
       "    </tr>\n",
       "    <tr>\n",
       "      <th>4</th>\n",
       "      <td>2012</td>\n",
       "      <td>Packers</td>\n",
       "      <td>11</td>\n",
       "      <td>5</td>\n",
       "    </tr>\n",
       "    <tr>\n",
       "      <th>5</th>\n",
       "      <td>2010</td>\n",
       "      <td>Lions</td>\n",
       "      <td>6</td>\n",
       "      <td>10</td>\n",
       "    </tr>\n",
       "    <tr>\n",
       "      <th>6</th>\n",
       "      <td>2011</td>\n",
       "      <td>Lions</td>\n",
       "      <td>10</td>\n",
       "      <td>6</td>\n",
       "    </tr>\n",
       "    <tr>\n",
       "      <th>7</th>\n",
       "      <td>2012</td>\n",
       "      <td>Lions</td>\n",
       "      <td>4</td>\n",
       "      <td>12</td>\n",
       "    </tr>\n",
       "  </tbody>\n",
       "</table>\n",
       "</div>"
      ],
      "text/plain": [
       "   year     team  wins  losses\n",
       "3  2011  Packers    15       1\n",
       "4  2012  Packers    11       5\n",
       "5  2010    Lions     6      10\n",
       "6  2011    Lions    10       6\n",
       "7  2012    Lions     4      12"
      ]
     },
     "execution_count": 10,
     "metadata": {},
     "output_type": "execute_result"
    }
   ],
   "source": [
    "football.tail(5)  # check last five rows"
   ]
  },
  {
   "cell_type": "markdown",
   "metadata": {},
   "source": [
    "or randomly check `n` rows by calling `sample(n)` (1 is the default value):"
   ]
  },
  {
   "cell_type": "code",
   "execution_count": 11,
   "metadata": {
    "scrolled": true
   },
   "outputs": [
    {
     "data": {
      "text/html": [
       "<div>\n",
       "<style scoped>\n",
       "    .dataframe tbody tr th:only-of-type {\n",
       "        vertical-align: middle;\n",
       "    }\n",
       "\n",
       "    .dataframe tbody tr th {\n",
       "        vertical-align: top;\n",
       "    }\n",
       "\n",
       "    .dataframe thead th {\n",
       "        text-align: right;\n",
       "    }\n",
       "</style>\n",
       "<table border=\"1\" class=\"dataframe\">\n",
       "  <thead>\n",
       "    <tr style=\"text-align: right;\">\n",
       "      <th></th>\n",
       "      <th>year</th>\n",
       "      <th>team</th>\n",
       "      <th>wins</th>\n",
       "      <th>losses</th>\n",
       "    </tr>\n",
       "  </thead>\n",
       "  <tbody>\n",
       "    <tr>\n",
       "      <th>5</th>\n",
       "      <td>2010</td>\n",
       "      <td>Lions</td>\n",
       "      <td>6</td>\n",
       "      <td>10</td>\n",
       "    </tr>\n",
       "    <tr>\n",
       "      <th>4</th>\n",
       "      <td>2012</td>\n",
       "      <td>Packers</td>\n",
       "      <td>11</td>\n",
       "      <td>5</td>\n",
       "    </tr>\n",
       "    <tr>\n",
       "      <th>6</th>\n",
       "      <td>2011</td>\n",
       "      <td>Lions</td>\n",
       "      <td>10</td>\n",
       "      <td>6</td>\n",
       "    </tr>\n",
       "    <tr>\n",
       "      <th>0</th>\n",
       "      <td>2010</td>\n",
       "      <td>Bears</td>\n",
       "      <td>11</td>\n",
       "      <td>5</td>\n",
       "    </tr>\n",
       "  </tbody>\n",
       "</table>\n",
       "</div>"
      ],
      "text/plain": [
       "   year     team  wins  losses\n",
       "5  2010    Lions     6      10\n",
       "4  2012  Packers    11       5\n",
       "6  2011    Lions    10       6\n",
       "0  2010    Bears    11       5"
      ]
     },
     "execution_count": 11,
     "metadata": {},
     "output_type": "execute_result"
    }
   ],
   "source": [
    "football.sample(4)   # randomly check 4 rows"
   ]
  },
  {
   "cell_type": "markdown",
   "metadata": {},
   "source": [
    "## 2.2 `describe()`, `T` operator, `sort_index()` and `sort_value()`\n",
    "\n",
    "`DataFrame.describe()` provides a quick statistical summary of your data including **count**, **mean**, **std**, **min**, **25%**, **50%**, **75%** and **max** of the data.Note that `describe()` method only applys to those columns with numbers."
   ]
  },
  {
   "cell_type": "code",
   "execution_count": 12,
   "metadata": {},
   "outputs": [
    {
     "data": {
      "text/html": [
       "<div>\n",
       "<style scoped>\n",
       "    .dataframe tbody tr th:only-of-type {\n",
       "        vertical-align: middle;\n",
       "    }\n",
       "\n",
       "    .dataframe tbody tr th {\n",
       "        vertical-align: top;\n",
       "    }\n",
       "\n",
       "    .dataframe thead th {\n",
       "        text-align: right;\n",
       "    }\n",
       "</style>\n",
       "<table border=\"1\" class=\"dataframe\">\n",
       "  <thead>\n",
       "    <tr style=\"text-align: right;\">\n",
       "      <th></th>\n",
       "      <th>year</th>\n",
       "      <th>wins</th>\n",
       "      <th>losses</th>\n",
       "    </tr>\n",
       "  </thead>\n",
       "  <tbody>\n",
       "    <tr>\n",
       "      <th>count</th>\n",
       "      <td>8.000000</td>\n",
       "      <td>8.000000</td>\n",
       "      <td>8.000000</td>\n",
       "    </tr>\n",
       "    <tr>\n",
       "      <th>mean</th>\n",
       "      <td>2011.125000</td>\n",
       "      <td>9.375000</td>\n",
       "      <td>6.625000</td>\n",
       "    </tr>\n",
       "    <tr>\n",
       "      <th>std</th>\n",
       "      <td>0.834523</td>\n",
       "      <td>3.377975</td>\n",
       "      <td>3.377975</td>\n",
       "    </tr>\n",
       "    <tr>\n",
       "      <th>min</th>\n",
       "      <td>2010.000000</td>\n",
       "      <td>4.000000</td>\n",
       "      <td>1.000000</td>\n",
       "    </tr>\n",
       "    <tr>\n",
       "      <th>25%</th>\n",
       "      <td>2010.750000</td>\n",
       "      <td>7.500000</td>\n",
       "      <td>5.000000</td>\n",
       "    </tr>\n",
       "    <tr>\n",
       "      <th>50%</th>\n",
       "      <td>2011.000000</td>\n",
       "      <td>10.000000</td>\n",
       "      <td>6.000000</td>\n",
       "    </tr>\n",
       "    <tr>\n",
       "      <th>75%</th>\n",
       "      <td>2012.000000</td>\n",
       "      <td>11.000000</td>\n",
       "      <td>8.500000</td>\n",
       "    </tr>\n",
       "    <tr>\n",
       "      <th>max</th>\n",
       "      <td>2012.000000</td>\n",
       "      <td>15.000000</td>\n",
       "      <td>12.000000</td>\n",
       "    </tr>\n",
       "  </tbody>\n",
       "</table>\n",
       "</div>"
      ],
      "text/plain": [
       "              year       wins     losses\n",
       "count     8.000000   8.000000   8.000000\n",
       "mean   2011.125000   9.375000   6.625000\n",
       "std       0.834523   3.377975   3.377975\n",
       "min    2010.000000   4.000000   1.000000\n",
       "25%    2010.750000   7.500000   5.000000\n",
       "50%    2011.000000  10.000000   6.000000\n",
       "75%    2012.000000  11.000000   8.500000\n",
       "max    2012.000000  15.000000  12.000000"
      ]
     },
     "execution_count": 12,
     "metadata": {},
     "output_type": "execute_result"
    }
   ],
   "source": [
    "football.describe()  # it automatically handles columns of numbers"
   ]
  },
  {
   "cell_type": "markdown",
   "metadata": {},
   "source": [
    "You can use `T` operator to **transpose** rows and columns in a `DataFrame` object:"
   ]
  },
  {
   "cell_type": "code",
   "execution_count": 13,
   "metadata": {},
   "outputs": [
    {
     "data": {
      "text/html": [
       "<div>\n",
       "<style scoped>\n",
       "    .dataframe tbody tr th:only-of-type {\n",
       "        vertical-align: middle;\n",
       "    }\n",
       "\n",
       "    .dataframe tbody tr th {\n",
       "        vertical-align: top;\n",
       "    }\n",
       "\n",
       "    .dataframe thead th {\n",
       "        text-align: right;\n",
       "    }\n",
       "</style>\n",
       "<table border=\"1\" class=\"dataframe\">\n",
       "  <thead>\n",
       "    <tr style=\"text-align: right;\">\n",
       "      <th></th>\n",
       "      <th>0</th>\n",
       "      <th>1</th>\n",
       "      <th>2</th>\n",
       "      <th>3</th>\n",
       "      <th>4</th>\n",
       "      <th>5</th>\n",
       "      <th>6</th>\n",
       "      <th>7</th>\n",
       "    </tr>\n",
       "  </thead>\n",
       "  <tbody>\n",
       "    <tr>\n",
       "      <th>year</th>\n",
       "      <td>2010</td>\n",
       "      <td>2011</td>\n",
       "      <td>2012</td>\n",
       "      <td>2011</td>\n",
       "      <td>2012</td>\n",
       "      <td>2010</td>\n",
       "      <td>2011</td>\n",
       "      <td>2012</td>\n",
       "    </tr>\n",
       "    <tr>\n",
       "      <th>team</th>\n",
       "      <td>Bears</td>\n",
       "      <td>Bears</td>\n",
       "      <td>Bears</td>\n",
       "      <td>Packers</td>\n",
       "      <td>Packers</td>\n",
       "      <td>Lions</td>\n",
       "      <td>Lions</td>\n",
       "      <td>Lions</td>\n",
       "    </tr>\n",
       "    <tr>\n",
       "      <th>wins</th>\n",
       "      <td>11</td>\n",
       "      <td>8</td>\n",
       "      <td>10</td>\n",
       "      <td>15</td>\n",
       "      <td>11</td>\n",
       "      <td>6</td>\n",
       "      <td>10</td>\n",
       "      <td>4</td>\n",
       "    </tr>\n",
       "    <tr>\n",
       "      <th>losses</th>\n",
       "      <td>5</td>\n",
       "      <td>8</td>\n",
       "      <td>6</td>\n",
       "      <td>1</td>\n",
       "      <td>5</td>\n",
       "      <td>10</td>\n",
       "      <td>6</td>\n",
       "      <td>12</td>\n",
       "    </tr>\n",
       "  </tbody>\n",
       "</table>\n",
       "</div>"
      ],
      "text/plain": [
       "            0      1      2        3        4      5      6      7\n",
       "year     2010   2011   2012     2011     2012   2010   2011   2012\n",
       "team    Bears  Bears  Bears  Packers  Packers  Lions  Lions  Lions\n",
       "wins       11      8     10       15       11      6     10      4\n",
       "losses      5      8      6        1        5     10      6     12"
      ]
     },
     "execution_count": 13,
     "metadata": {},
     "output_type": "execute_result"
    }
   ],
   "source": [
    "football.T"
   ]
  },
  {
   "cell_type": "markdown",
   "metadata": {},
   "source": [
    "Pandas `dataframe.sort_index()` function sorts objects by **labels** along the given axis.\n",
    "Basically the sorting alogirthm is applied on the axis labels rather than the actual data in the dataframe object and based on that the data is rearranged. We have the freedom to choose what sorting algorithm we would like to apply. There are three possible sorting algorithms that we can use ‘quicksort’, ‘mergesort’ and ‘heapsort’."
   ]
  },
  {
   "cell_type": "code",
   "execution_count": 14,
   "metadata": {},
   "outputs": [
    {
     "data": {
      "text/html": [
       "<div>\n",
       "<style scoped>\n",
       "    .dataframe tbody tr th:only-of-type {\n",
       "        vertical-align: middle;\n",
       "    }\n",
       "\n",
       "    .dataframe tbody tr th {\n",
       "        vertical-align: top;\n",
       "    }\n",
       "\n",
       "    .dataframe thead th {\n",
       "        text-align: right;\n",
       "    }\n",
       "</style>\n",
       "<table border=\"1\" class=\"dataframe\">\n",
       "  <thead>\n",
       "    <tr style=\"text-align: right;\">\n",
       "      <th></th>\n",
       "      <th>year</th>\n",
       "      <th>wins</th>\n",
       "      <th>team</th>\n",
       "      <th>losses</th>\n",
       "    </tr>\n",
       "  </thead>\n",
       "  <tbody>\n",
       "    <tr>\n",
       "      <th>0</th>\n",
       "      <td>2010</td>\n",
       "      <td>11</td>\n",
       "      <td>Bears</td>\n",
       "      <td>5</td>\n",
       "    </tr>\n",
       "    <tr>\n",
       "      <th>1</th>\n",
       "      <td>2011</td>\n",
       "      <td>8</td>\n",
       "      <td>Bears</td>\n",
       "      <td>8</td>\n",
       "    </tr>\n",
       "    <tr>\n",
       "      <th>2</th>\n",
       "      <td>2012</td>\n",
       "      <td>10</td>\n",
       "      <td>Bears</td>\n",
       "      <td>6</td>\n",
       "    </tr>\n",
       "    <tr>\n",
       "      <th>3</th>\n",
       "      <td>2011</td>\n",
       "      <td>15</td>\n",
       "      <td>Packers</td>\n",
       "      <td>1</td>\n",
       "    </tr>\n",
       "    <tr>\n",
       "      <th>4</th>\n",
       "      <td>2012</td>\n",
       "      <td>11</td>\n",
       "      <td>Packers</td>\n",
       "      <td>5</td>\n",
       "    </tr>\n",
       "    <tr>\n",
       "      <th>5</th>\n",
       "      <td>2010</td>\n",
       "      <td>6</td>\n",
       "      <td>Lions</td>\n",
       "      <td>10</td>\n",
       "    </tr>\n",
       "    <tr>\n",
       "      <th>6</th>\n",
       "      <td>2011</td>\n",
       "      <td>10</td>\n",
       "      <td>Lions</td>\n",
       "      <td>6</td>\n",
       "    </tr>\n",
       "    <tr>\n",
       "      <th>7</th>\n",
       "      <td>2012</td>\n",
       "      <td>4</td>\n",
       "      <td>Lions</td>\n",
       "      <td>12</td>\n",
       "    </tr>\n",
       "  </tbody>\n",
       "</table>\n",
       "</div>"
      ],
      "text/plain": [
       "   year  wins     team  losses\n",
       "0  2010    11    Bears       5\n",
       "1  2011     8    Bears       8\n",
       "2  2012    10    Bears       6\n",
       "3  2011    15  Packers       1\n",
       "4  2012    11  Packers       5\n",
       "5  2010     6    Lions      10\n",
       "6  2011    10    Lions       6\n",
       "7  2012     4    Lions      12"
      ]
     },
     "execution_count": 14,
     "metadata": {},
     "output_type": "execute_result"
    }
   ],
   "source": [
    "football.sort_index(axis=1,ascending=False) # sort by column name by alphabatic order"
   ]
  },
  {
   "cell_type": "code",
   "execution_count": 15,
   "metadata": {},
   "outputs": [
    {
     "data": {
      "text/html": [
       "<div>\n",
       "<style scoped>\n",
       "    .dataframe tbody tr th:only-of-type {\n",
       "        vertical-align: middle;\n",
       "    }\n",
       "\n",
       "    .dataframe tbody tr th {\n",
       "        vertical-align: top;\n",
       "    }\n",
       "\n",
       "    .dataframe thead th {\n",
       "        text-align: right;\n",
       "    }\n",
       "</style>\n",
       "<table border=\"1\" class=\"dataframe\">\n",
       "  <thead>\n",
       "    <tr style=\"text-align: right;\">\n",
       "      <th></th>\n",
       "      <th>year</th>\n",
       "      <th>team</th>\n",
       "      <th>wins</th>\n",
       "      <th>losses</th>\n",
       "    </tr>\n",
       "  </thead>\n",
       "  <tbody>\n",
       "    <tr>\n",
       "      <th>7</th>\n",
       "      <td>2012</td>\n",
       "      <td>Lions</td>\n",
       "      <td>4</td>\n",
       "      <td>12</td>\n",
       "    </tr>\n",
       "    <tr>\n",
       "      <th>6</th>\n",
       "      <td>2011</td>\n",
       "      <td>Lions</td>\n",
       "      <td>10</td>\n",
       "      <td>6</td>\n",
       "    </tr>\n",
       "    <tr>\n",
       "      <th>5</th>\n",
       "      <td>2010</td>\n",
       "      <td>Lions</td>\n",
       "      <td>6</td>\n",
       "      <td>10</td>\n",
       "    </tr>\n",
       "    <tr>\n",
       "      <th>4</th>\n",
       "      <td>2012</td>\n",
       "      <td>Packers</td>\n",
       "      <td>11</td>\n",
       "      <td>5</td>\n",
       "    </tr>\n",
       "    <tr>\n",
       "      <th>3</th>\n",
       "      <td>2011</td>\n",
       "      <td>Packers</td>\n",
       "      <td>15</td>\n",
       "      <td>1</td>\n",
       "    </tr>\n",
       "    <tr>\n",
       "      <th>2</th>\n",
       "      <td>2012</td>\n",
       "      <td>Bears</td>\n",
       "      <td>10</td>\n",
       "      <td>6</td>\n",
       "    </tr>\n",
       "    <tr>\n",
       "      <th>1</th>\n",
       "      <td>2011</td>\n",
       "      <td>Bears</td>\n",
       "      <td>8</td>\n",
       "      <td>8</td>\n",
       "    </tr>\n",
       "    <tr>\n",
       "      <th>0</th>\n",
       "      <td>2010</td>\n",
       "      <td>Bears</td>\n",
       "      <td>11</td>\n",
       "      <td>5</td>\n",
       "    </tr>\n",
       "  </tbody>\n",
       "</table>\n",
       "</div>"
      ],
      "text/plain": [
       "   year     team  wins  losses\n",
       "7  2012    Lions     4      12\n",
       "6  2011    Lions    10       6\n",
       "5  2010    Lions     6      10\n",
       "4  2012  Packers    11       5\n",
       "3  2011  Packers    15       1\n",
       "2  2012    Bears    10       6\n",
       "1  2011    Bears     8       8\n",
       "0  2010    Bears    11       5"
      ]
     },
     "execution_count": 15,
     "metadata": {},
     "output_type": "execute_result"
    }
   ],
   "source": [
    "football.sort_index(axis=0, ascending=False)   # sort by row count along axis = 0 direction"
   ]
  },
  {
   "cell_type": "markdown",
   "metadata": {},
   "source": [
    "You can also sort a `DataFrame` object by values in a specified column by calling `DataFrame.sort_values(column_label)`:"
   ]
  },
  {
   "cell_type": "code",
   "execution_count": 16,
   "metadata": {},
   "outputs": [
    {
     "data": {
      "text/html": [
       "<div>\n",
       "<style scoped>\n",
       "    .dataframe tbody tr th:only-of-type {\n",
       "        vertical-align: middle;\n",
       "    }\n",
       "\n",
       "    .dataframe tbody tr th {\n",
       "        vertical-align: top;\n",
       "    }\n",
       "\n",
       "    .dataframe thead th {\n",
       "        text-align: right;\n",
       "    }\n",
       "</style>\n",
       "<table border=\"1\" class=\"dataframe\">\n",
       "  <thead>\n",
       "    <tr style=\"text-align: right;\">\n",
       "      <th></th>\n",
       "      <th>year</th>\n",
       "      <th>team</th>\n",
       "      <th>wins</th>\n",
       "      <th>losses</th>\n",
       "    </tr>\n",
       "  </thead>\n",
       "  <tbody>\n",
       "    <tr>\n",
       "      <th>3</th>\n",
       "      <td>2011</td>\n",
       "      <td>Packers</td>\n",
       "      <td>15</td>\n",
       "      <td>1</td>\n",
       "    </tr>\n",
       "    <tr>\n",
       "      <th>0</th>\n",
       "      <td>2010</td>\n",
       "      <td>Bears</td>\n",
       "      <td>11</td>\n",
       "      <td>5</td>\n",
       "    </tr>\n",
       "    <tr>\n",
       "      <th>4</th>\n",
       "      <td>2012</td>\n",
       "      <td>Packers</td>\n",
       "      <td>11</td>\n",
       "      <td>5</td>\n",
       "    </tr>\n",
       "    <tr>\n",
       "      <th>2</th>\n",
       "      <td>2012</td>\n",
       "      <td>Bears</td>\n",
       "      <td>10</td>\n",
       "      <td>6</td>\n",
       "    </tr>\n",
       "    <tr>\n",
       "      <th>6</th>\n",
       "      <td>2011</td>\n",
       "      <td>Lions</td>\n",
       "      <td>10</td>\n",
       "      <td>6</td>\n",
       "    </tr>\n",
       "    <tr>\n",
       "      <th>1</th>\n",
       "      <td>2011</td>\n",
       "      <td>Bears</td>\n",
       "      <td>8</td>\n",
       "      <td>8</td>\n",
       "    </tr>\n",
       "    <tr>\n",
       "      <th>5</th>\n",
       "      <td>2010</td>\n",
       "      <td>Lions</td>\n",
       "      <td>6</td>\n",
       "      <td>10</td>\n",
       "    </tr>\n",
       "    <tr>\n",
       "      <th>7</th>\n",
       "      <td>2012</td>\n",
       "      <td>Lions</td>\n",
       "      <td>4</td>\n",
       "      <td>12</td>\n",
       "    </tr>\n",
       "  </tbody>\n",
       "</table>\n",
       "</div>"
      ],
      "text/plain": [
       "   year     team  wins  losses\n",
       "3  2011  Packers    15       1\n",
       "0  2010    Bears    11       5\n",
       "4  2012  Packers    11       5\n",
       "2  2012    Bears    10       6\n",
       "6  2011    Lions    10       6\n",
       "1  2011    Bears     8       8\n",
       "5  2010    Lions     6      10\n",
       "7  2012    Lions     4      12"
      ]
     },
     "execution_count": 16,
     "metadata": {},
     "output_type": "execute_result"
    }
   ],
   "source": [
    "football.sort_values('wins',ascending=False)"
   ]
  },
  {
   "cell_type": "markdown",
   "metadata": {},
   "source": [
    "You can sort values by multiple columns:"
   ]
  },
  {
   "cell_type": "code",
   "execution_count": 17,
   "metadata": {},
   "outputs": [
    {
     "data": {
      "text/html": [
       "<div>\n",
       "<style scoped>\n",
       "    .dataframe tbody tr th:only-of-type {\n",
       "        vertical-align: middle;\n",
       "    }\n",
       "\n",
       "    .dataframe tbody tr th {\n",
       "        vertical-align: top;\n",
       "    }\n",
       "\n",
       "    .dataframe thead th {\n",
       "        text-align: right;\n",
       "    }\n",
       "</style>\n",
       "<table border=\"1\" class=\"dataframe\">\n",
       "  <thead>\n",
       "    <tr style=\"text-align: right;\">\n",
       "      <th></th>\n",
       "      <th>year</th>\n",
       "      <th>team</th>\n",
       "      <th>wins</th>\n",
       "      <th>losses</th>\n",
       "    </tr>\n",
       "  </thead>\n",
       "  <tbody>\n",
       "    <tr>\n",
       "      <th>3</th>\n",
       "      <td>2011</td>\n",
       "      <td>Packers</td>\n",
       "      <td>15</td>\n",
       "      <td>1</td>\n",
       "    </tr>\n",
       "    <tr>\n",
       "      <th>4</th>\n",
       "      <td>2012</td>\n",
       "      <td>Packers</td>\n",
       "      <td>11</td>\n",
       "      <td>5</td>\n",
       "    </tr>\n",
       "    <tr>\n",
       "      <th>0</th>\n",
       "      <td>2010</td>\n",
       "      <td>Bears</td>\n",
       "      <td>11</td>\n",
       "      <td>5</td>\n",
       "    </tr>\n",
       "    <tr>\n",
       "      <th>2</th>\n",
       "      <td>2012</td>\n",
       "      <td>Bears</td>\n",
       "      <td>10</td>\n",
       "      <td>6</td>\n",
       "    </tr>\n",
       "    <tr>\n",
       "      <th>6</th>\n",
       "      <td>2011</td>\n",
       "      <td>Lions</td>\n",
       "      <td>10</td>\n",
       "      <td>6</td>\n",
       "    </tr>\n",
       "    <tr>\n",
       "      <th>1</th>\n",
       "      <td>2011</td>\n",
       "      <td>Bears</td>\n",
       "      <td>8</td>\n",
       "      <td>8</td>\n",
       "    </tr>\n",
       "    <tr>\n",
       "      <th>5</th>\n",
       "      <td>2010</td>\n",
       "      <td>Lions</td>\n",
       "      <td>6</td>\n",
       "      <td>10</td>\n",
       "    </tr>\n",
       "    <tr>\n",
       "      <th>7</th>\n",
       "      <td>2012</td>\n",
       "      <td>Lions</td>\n",
       "      <td>4</td>\n",
       "      <td>12</td>\n",
       "    </tr>\n",
       "  </tbody>\n",
       "</table>\n",
       "</div>"
      ],
      "text/plain": [
       "   year     team  wins  losses\n",
       "3  2011  Packers    15       1\n",
       "4  2012  Packers    11       5\n",
       "0  2010    Bears    11       5\n",
       "2  2012    Bears    10       6\n",
       "6  2011    Lions    10       6\n",
       "1  2011    Bears     8       8\n",
       "5  2010    Lions     6      10\n",
       "7  2012    Lions     4      12"
      ]
     },
     "execution_count": 17,
     "metadata": {},
     "output_type": "execute_result"
    }
   ],
   "source": [
    "# sort by two columns, firstly sort by wins on descending order\n",
    "# if there are two rows have the same wins, sort by year on descending order.\n",
    "football.sort_values(['wins', 'year'],ascending=[False,False])"
   ]
  },
  {
   "cell_type": "markdown",
   "metadata": {},
   "source": [
    "## 3 How to Select Data from `DataFrame` Object?\n",
    "\n",
    "There are several ways to select parts of data from a `DataFrame` object. \n",
    "\n",
    "    1. use `[]` operator with labels of columns or rows\n",
    "    2. use dot notation to access columns by its labels. \n",
    "    3. use `at[]`, `iat[]`,`loc[]`, and `iloc[]` through dot notation."
   ]
  },
  {
   "cell_type": "markdown",
   "metadata": {},
   "source": [
    "### 3.1 `[]` Operator\n",
    "\n",
    "It is easy to use `[]` to select a column with its label, the returned object is a `Series` object. Remember `Dataframe` is a collection of one or several `Series` objects."
   ]
  },
  {
   "cell_type": "code",
   "execution_count": 18,
   "metadata": {},
   "outputs": [
    {
     "name": "stdout",
     "output_type": "stream",
     "text": [
      "0    11\n",
      "1     8\n",
      "2    10\n",
      "3    15\n",
      "4    11\n",
      "5     6\n",
      "6    10\n",
      "7     4\n",
      "Name: wins, dtype: int64\n",
      "<class 'pandas.core.series.Series'>\n"
     ]
    }
   ],
   "source": [
    "print(football['wins'])   \n",
    "print(type(football['wins']))"
   ]
  },
  {
   "cell_type": "markdown",
   "metadata": {},
   "source": [
    "The above operation is the same as `df.wins`:"
   ]
  },
  {
   "cell_type": "code",
   "execution_count": 19,
   "metadata": {},
   "outputs": [
    {
     "name": "stdout",
     "output_type": "stream",
     "text": [
      "0    11\n",
      "1     8\n",
      "2    10\n",
      "3    15\n",
      "4    11\n",
      "5     6\n",
      "6    10\n",
      "7     4\n",
      "Name: wins, dtype: int64\n"
     ]
    }
   ],
   "source": [
    "print(football.wins) # preferred"
   ]
  },
  {
   "cell_type": "markdown",
   "metadata": {},
   "source": [
    "**But if you apply the same way to select a row, it does not work.** The use of [] and row labels can normally provide a slice of data, including the end point:"
   ]
  },
  {
   "cell_type": "code",
   "execution_count": 20,
   "metadata": {},
   "outputs": [
    {
     "data": {
      "text/html": [
       "<div>\n",
       "<style scoped>\n",
       "    .dataframe tbody tr th:only-of-type {\n",
       "        vertical-align: middle;\n",
       "    }\n",
       "\n",
       "    .dataframe tbody tr th {\n",
       "        vertical-align: top;\n",
       "    }\n",
       "\n",
       "    .dataframe thead th {\n",
       "        text-align: right;\n",
       "    }\n",
       "</style>\n",
       "<table border=\"1\" class=\"dataframe\">\n",
       "  <thead>\n",
       "    <tr style=\"text-align: right;\">\n",
       "      <th></th>\n",
       "      <th>0</th>\n",
       "      <th>1</th>\n",
       "      <th>2</th>\n",
       "      <th>3</th>\n",
       "      <th>4</th>\n",
       "      <th>5</th>\n",
       "      <th>6</th>\n",
       "      <th>7</th>\n",
       "    </tr>\n",
       "  </thead>\n",
       "  <tbody>\n",
       "    <tr>\n",
       "      <th>year</th>\n",
       "      <td>2010</td>\n",
       "      <td>2011</td>\n",
       "      <td>2012</td>\n",
       "      <td>2011</td>\n",
       "      <td>2012</td>\n",
       "      <td>2010</td>\n",
       "      <td>2011</td>\n",
       "      <td>2012</td>\n",
       "    </tr>\n",
       "    <tr>\n",
       "      <th>team</th>\n",
       "      <td>Bears</td>\n",
       "      <td>Bears</td>\n",
       "      <td>Bears</td>\n",
       "      <td>Packers</td>\n",
       "      <td>Packers</td>\n",
       "      <td>Lions</td>\n",
       "      <td>Lions</td>\n",
       "      <td>Lions</td>\n",
       "    </tr>\n",
       "  </tbody>\n",
       "</table>\n",
       "</div>"
      ],
      "text/plain": [
       "          0      1      2        3        4      5      6      7\n",
       "year   2010   2011   2012     2011     2012   2010   2011   2012\n",
       "team  Bears  Bears  Bears  Packers  Packers  Lions  Lions  Lions"
      ]
     },
     "execution_count": 20,
     "metadata": {},
     "output_type": "execute_result"
    }
   ],
   "source": [
    "football.T['year':'team']  # transpose the table football to create row label and select a range."
   ]
  },
  {
   "cell_type": "code",
   "execution_count": 21,
   "metadata": {},
   "outputs": [
    {
     "data": {
      "text/html": [
       "<div>\n",
       "<style scoped>\n",
       "    .dataframe tbody tr th:only-of-type {\n",
       "        vertical-align: middle;\n",
       "    }\n",
       "\n",
       "    .dataframe tbody tr th {\n",
       "        vertical-align: top;\n",
       "    }\n",
       "\n",
       "    .dataframe thead th {\n",
       "        text-align: right;\n",
       "    }\n",
       "</style>\n",
       "<table border=\"1\" class=\"dataframe\">\n",
       "  <thead>\n",
       "    <tr style=\"text-align: right;\">\n",
       "      <th></th>\n",
       "      <th>0</th>\n",
       "      <th>1</th>\n",
       "      <th>2</th>\n",
       "      <th>3</th>\n",
       "      <th>4</th>\n",
       "      <th>5</th>\n",
       "      <th>6</th>\n",
       "      <th>7</th>\n",
       "    </tr>\n",
       "  </thead>\n",
       "  <tbody>\n",
       "    <tr>\n",
       "      <th>year</th>\n",
       "      <td>2010</td>\n",
       "      <td>2011</td>\n",
       "      <td>2012</td>\n",
       "      <td>2011</td>\n",
       "      <td>2012</td>\n",
       "      <td>2010</td>\n",
       "      <td>2011</td>\n",
       "      <td>2012</td>\n",
       "    </tr>\n",
       "  </tbody>\n",
       "</table>\n",
       "</div>"
      ],
      "text/plain": [
       "         0     1     2     3     4     5     6     7\n",
       "year  2010  2011  2012  2011  2012  2010  2011  2012"
      ]
     },
     "execution_count": 21,
     "metadata": {},
     "output_type": "execute_result"
    }
   ],
   "source": [
    "football.T['year':'year'] # a `DataFrame` object with one row of data"
   ]
  },
  {
   "cell_type": "markdown",
   "metadata": {},
   "source": [
    "## 3.2 `loc[]` and `iloc`, `at[]` and `iat[]`\n",
    "\n",
    "These functions are called accessors to Pandas `DataFrame` for data selection.\n",
    "\n",
    "A preferred operation to select data is to use `loc[]` or `iloc[]` of a `DataFrame` object. \n",
    "\n",
    "`.loc[]` accepts the labels of rows and columns and returns `Series` or `DataFrames`. You can use it to get entire rows or columns, as well as their parts.\n",
    "\n",
    "`.iloc[]` accepts the zero-based indices of rows and columns and returns `Series` or `DataFrames`. You can use it to get entire rows or columns, or their parts.\n",
    "\n",
    "`.at[]` accepts the labels of rows and columns and returns a single data value.\n",
    "\n",
    "`.iat[]` accepts the zero-based indices of rows and columns and returns a single data value.\n",
    "\n",
    "The returned data is stored in a `Series` object.\n",
    "\n",
    "First, let us check some examples to use **label based indexing**, `loc[]`:"
   ]
  },
  {
   "cell_type": "code",
   "execution_count": 22,
   "metadata": {},
   "outputs": [
    {
     "name": "stdout",
     "output_type": "stream",
     "text": [
      "year         2011\n",
      "team      Packers\n",
      "wins           15\n",
      "losses          1\n",
      "Name: 3, dtype: object\n"
     ]
    }
   ],
   "source": [
    "print(football.loc[3])    # use the default row index "
   ]
  },
  {
   "cell_type": "code",
   "execution_count": 23,
   "metadata": {},
   "outputs": [
    {
     "name": "stdout",
     "output_type": "stream",
     "text": [
      "            0      1      2        3        4      5      6      7\n",
      "year     2010   2011   2012     2011     2012   2010   2011   2012\n",
      "team    Bears  Bears  Bears  Packers  Packers  Lions  Lions  Lions\n",
      "wins       11      8     10       15       11      6     10      4\n",
      "losses      5      8      6        1        5     10      6     12\n",
      "0    2010\n",
      "1    2011\n",
      "2    2012\n",
      "3    2011\n",
      "4    2012\n",
      "5    2010\n",
      "6    2011\n",
      "7    2012\n",
      "Name: year, dtype: object\n",
      "<class 'pandas.core.series.Series'>\n"
     ]
    }
   ],
   "source": [
    "fb1 = football.T  # create a new dataframe object, as football does not have row label.\n",
    "print(fb1)\n",
    "print(fb1.loc['year'])  # row data indexed by label saved in dates[0\n",
    "print(type(fb1.loc['year']))  # the data type is a Series object"
   ]
  },
  {
   "cell_type": "code",
   "execution_count": 24,
   "metadata": {},
   "outputs": [
    {
     "name": "stdout",
     "output_type": "stream",
     "text": [
      "Bears\n"
     ]
    }
   ],
   "source": [
    "print(fb1.at['team',0])   # row label and column to "
   ]
  },
  {
   "cell_type": "code",
   "execution_count": 25,
   "metadata": {},
   "outputs": [
    {
     "name": "stdout",
     "output_type": "stream",
     "text": [
      "2011\n"
     ]
    }
   ],
   "source": [
    "print(fb1.iat[0,1])     #"
   ]
  },
  {
   "cell_type": "markdown",
   "metadata": {},
   "source": [
    "A `DataFrame` object holds tablular data, so you can use both row and column labels to index the value(s):"
   ]
  },
  {
   "cell_type": "code",
   "execution_count": 26,
   "metadata": {},
   "outputs": [
    {
     "name": "stdout",
     "output_type": "stream",
     "text": [
      "   year     team\n",
      "1  2011    Bears\n",
      "2  2012    Bears\n",
      "3  2011  Packers\n"
     ]
    }
   ],
   "source": [
    "print(football.loc[1:3,['year','team']])"
   ]
  },
  {
   "cell_type": "markdown",
   "metadata": {},
   "source": [
    "The selection of data can also be performed by positional indexing through `iloc[]`. Below are the examples:"
   ]
  },
  {
   "cell_type": "code",
   "execution_count": 27,
   "metadata": {},
   "outputs": [
    {
     "data": {
      "text/plain": [
       "0     5\n",
       "1     8\n",
       "2     6\n",
       "3     1\n",
       "4     5\n",
       "5    10\n",
       "6     6\n",
       "7    12\n",
       "Name: losses, dtype: object"
      ]
     },
     "execution_count": 27,
     "metadata": {},
     "output_type": "execute_result"
    }
   ],
   "source": [
    "fb1.iloc[3]    # select the fourth row and return a `Series` object"
   ]
  },
  {
   "cell_type": "markdown",
   "metadata": {},
   "source": [
    "Slcing by integer position index, the usage is similar to numpy/python style, the ending point is excluded:"
   ]
  },
  {
   "cell_type": "code",
   "execution_count": 28,
   "metadata": {},
   "outputs": [
    {
     "data": {
      "text/html": [
       "<div>\n",
       "<style scoped>\n",
       "    .dataframe tbody tr th:only-of-type {\n",
       "        vertical-align: middle;\n",
       "    }\n",
       "\n",
       "    .dataframe tbody tr th {\n",
       "        vertical-align: top;\n",
       "    }\n",
       "\n",
       "    .dataframe thead th {\n",
       "        text-align: right;\n",
       "    }\n",
       "</style>\n",
       "<table border=\"1\" class=\"dataframe\">\n",
       "  <thead>\n",
       "    <tr style=\"text-align: right;\">\n",
       "      <th></th>\n",
       "      <th>0</th>\n",
       "      <th>1</th>\n",
       "    </tr>\n",
       "  </thead>\n",
       "  <tbody>\n",
       "    <tr>\n",
       "      <th>wins</th>\n",
       "      <td>11</td>\n",
       "      <td>8</td>\n",
       "    </tr>\n",
       "    <tr>\n",
       "      <th>losses</th>\n",
       "      <td>5</td>\n",
       "      <td>8</td>\n",
       "    </tr>\n",
       "  </tbody>\n",
       "</table>\n",
       "</div>"
      ],
      "text/plain": [
       "         0  1\n",
       "wins    11  8\n",
       "losses   5  8"
      ]
     },
     "execution_count": 28,
     "metadata": {},
     "output_type": "execute_result"
    }
   ],
   "source": [
    "fb1.iloc[2:5, 0:2]  # ending point excluded!"
   ]
  },
  {
   "cell_type": "markdown",
   "metadata": {},
   "source": [
    "You can also select data with lists of integer position locations:"
   ]
  },
  {
   "cell_type": "code",
   "execution_count": 29,
   "metadata": {},
   "outputs": [
    {
     "data": {
      "text/html": [
       "<div>\n",
       "<style scoped>\n",
       "    .dataframe tbody tr th:only-of-type {\n",
       "        vertical-align: middle;\n",
       "    }\n",
       "\n",
       "    .dataframe tbody tr th {\n",
       "        vertical-align: top;\n",
       "    }\n",
       "\n",
       "    .dataframe thead th {\n",
       "        text-align: right;\n",
       "    }\n",
       "</style>\n",
       "<table border=\"1\" class=\"dataframe\">\n",
       "  <thead>\n",
       "    <tr style=\"text-align: right;\">\n",
       "      <th></th>\n",
       "      <th>0</th>\n",
       "      <th>2</th>\n",
       "    </tr>\n",
       "  </thead>\n",
       "  <tbody>\n",
       "    <tr>\n",
       "      <th>year</th>\n",
       "      <td>2010</td>\n",
       "      <td>2012</td>\n",
       "    </tr>\n",
       "    <tr>\n",
       "      <th>losses</th>\n",
       "      <td>5</td>\n",
       "      <td>6</td>\n",
       "    </tr>\n",
       "    <tr>\n",
       "      <th>wins</th>\n",
       "      <td>11</td>\n",
       "      <td>10</td>\n",
       "    </tr>\n",
       "  </tbody>\n",
       "</table>\n",
       "</div>"
      ],
      "text/plain": [
       "           0     2\n",
       "year    2010  2012\n",
       "losses     5     6\n",
       "wins      11    10"
      ]
     },
     "execution_count": 29,
     "metadata": {},
     "output_type": "execute_result"
    }
   ],
   "source": [
    "fb1.iloc[[0, 3, 2], [0, 2]]    # use position index in lists for row and column"
   ]
  },
  {
   "cell_type": "markdown",
   "metadata": {},
   "source": [
    "### 3.3 Data selection by conditions (data filtering)\n",
    "\n",
    "Data filtering is another powerful feature of Pandas to select data base on certain conditions. It works similarly to indexing with Boolean arrays in numpy array."
   ]
  },
  {
   "cell_type": "code",
   "execution_count": 30,
   "metadata": {},
   "outputs": [
    {
     "name": "stdout",
     "output_type": "stream",
     "text": [
      "<class 'pandas.core.series.Series'>\n",
      "0     True\n",
      "1     True\n",
      "2     True\n",
      "3     True\n",
      "4     True\n",
      "5    False\n",
      "6     True\n",
      "7    False\n",
      "Name: wins, dtype: bool\n"
     ]
    }
   ],
   "source": [
    "wins_check = football['wins'] >= 8\n",
    "\n",
    "print(type(wins_check))   # a Series object\n",
    "print(wins_check)"
   ]
  },
  {
   "cell_type": "markdown",
   "metadata": {},
   "source": [
    "You can use the return boolean `Series` object, wins_check, to retrieve a `DataFrame` with rows satisfiying conditions:"
   ]
  },
  {
   "cell_type": "code",
   "execution_count": 31,
   "metadata": {},
   "outputs": [
    {
     "data": {
      "text/html": [
       "<div>\n",
       "<style scoped>\n",
       "    .dataframe tbody tr th:only-of-type {\n",
       "        vertical-align: middle;\n",
       "    }\n",
       "\n",
       "    .dataframe tbody tr th {\n",
       "        vertical-align: top;\n",
       "    }\n",
       "\n",
       "    .dataframe thead th {\n",
       "        text-align: right;\n",
       "    }\n",
       "</style>\n",
       "<table border=\"1\" class=\"dataframe\">\n",
       "  <thead>\n",
       "    <tr style=\"text-align: right;\">\n",
       "      <th></th>\n",
       "      <th>year</th>\n",
       "      <th>team</th>\n",
       "      <th>wins</th>\n",
       "      <th>losses</th>\n",
       "    </tr>\n",
       "  </thead>\n",
       "  <tbody>\n",
       "    <tr>\n",
       "      <th>0</th>\n",
       "      <td>2010</td>\n",
       "      <td>Bears</td>\n",
       "      <td>11</td>\n",
       "      <td>5</td>\n",
       "    </tr>\n",
       "    <tr>\n",
       "      <th>1</th>\n",
       "      <td>2011</td>\n",
       "      <td>Bears</td>\n",
       "      <td>8</td>\n",
       "      <td>8</td>\n",
       "    </tr>\n",
       "    <tr>\n",
       "      <th>2</th>\n",
       "      <td>2012</td>\n",
       "      <td>Bears</td>\n",
       "      <td>10</td>\n",
       "      <td>6</td>\n",
       "    </tr>\n",
       "    <tr>\n",
       "      <th>3</th>\n",
       "      <td>2011</td>\n",
       "      <td>Packers</td>\n",
       "      <td>15</td>\n",
       "      <td>1</td>\n",
       "    </tr>\n",
       "    <tr>\n",
       "      <th>4</th>\n",
       "      <td>2012</td>\n",
       "      <td>Packers</td>\n",
       "      <td>11</td>\n",
       "      <td>5</td>\n",
       "    </tr>\n",
       "    <tr>\n",
       "      <th>6</th>\n",
       "      <td>2011</td>\n",
       "      <td>Lions</td>\n",
       "      <td>10</td>\n",
       "      <td>6</td>\n",
       "    </tr>\n",
       "  </tbody>\n",
       "</table>\n",
       "</div>"
      ],
      "text/plain": [
       "   year     team  wins  losses\n",
       "0  2010    Bears    11       5\n",
       "1  2011    Bears     8       8\n",
       "2  2012    Bears    10       6\n",
       "3  2011  Packers    15       1\n",
       "4  2012  Packers    11       5\n",
       "6  2011    Lions    10       6"
      ]
     },
     "execution_count": 31,
     "metadata": {},
     "output_type": "execute_result"
    }
   ],
   "source": [
    "football[wins_check]"
   ]
  },
  {
   "cell_type": "markdown",
   "metadata": {},
   "source": [
    "You can use the combined conditions to generate new `DataFrame`:"
   ]
  },
  {
   "cell_type": "code",
   "execution_count": 32,
   "metadata": {},
   "outputs": [
    {
     "data": {
      "text/html": [
       "<div>\n",
       "<style scoped>\n",
       "    .dataframe tbody tr th:only-of-type {\n",
       "        vertical-align: middle;\n",
       "    }\n",
       "\n",
       "    .dataframe tbody tr th {\n",
       "        vertical-align: top;\n",
       "    }\n",
       "\n",
       "    .dataframe thead th {\n",
       "        text-align: right;\n",
       "    }\n",
       "</style>\n",
       "<table border=\"1\" class=\"dataframe\">\n",
       "  <thead>\n",
       "    <tr style=\"text-align: right;\">\n",
       "      <th></th>\n",
       "      <th>year</th>\n",
       "      <th>team</th>\n",
       "      <th>wins</th>\n",
       "      <th>losses</th>\n",
       "    </tr>\n",
       "  </thead>\n",
       "  <tbody>\n",
       "    <tr>\n",
       "      <th>1</th>\n",
       "      <td>2011</td>\n",
       "      <td>Bears</td>\n",
       "      <td>8</td>\n",
       "      <td>8</td>\n",
       "    </tr>\n",
       "    <tr>\n",
       "      <th>2</th>\n",
       "      <td>2012</td>\n",
       "      <td>Bears</td>\n",
       "      <td>10</td>\n",
       "      <td>6</td>\n",
       "    </tr>\n",
       "    <tr>\n",
       "      <th>3</th>\n",
       "      <td>2011</td>\n",
       "      <td>Packers</td>\n",
       "      <td>15</td>\n",
       "      <td>1</td>\n",
       "    </tr>\n",
       "    <tr>\n",
       "      <th>4</th>\n",
       "      <td>2012</td>\n",
       "      <td>Packers</td>\n",
       "      <td>11</td>\n",
       "      <td>5</td>\n",
       "    </tr>\n",
       "    <tr>\n",
       "      <th>6</th>\n",
       "      <td>2011</td>\n",
       "      <td>Lions</td>\n",
       "      <td>10</td>\n",
       "      <td>6</td>\n",
       "    </tr>\n",
       "  </tbody>\n",
       "</table>\n",
       "</div>"
      ],
      "text/plain": [
       "   year     team  wins  losses\n",
       "1  2011    Bears     8       8\n",
       "2  2012    Bears    10       6\n",
       "3  2011  Packers    15       1\n",
       "4  2012  Packers    11       5\n",
       "6  2011    Lions    10       6"
      ]
     },
     "execution_count": 32,
     "metadata": {},
     "output_type": "execute_result"
    }
   ],
   "source": [
    "football[(football['wins']>=8) & (football['year'] > 2010)]"
   ]
  },
  {
   "cell_type": "markdown",
   "metadata": {},
   "source": [
    "## 4 How To Add an Index, Row or Column to a Pandas `DataFrame`?\n",
    "\n",
    "## 4.1 Adding an Index to a `DataFrame` object\n",
    "\n",
    "When you create a `DataFrame` object, you have the option to add input to the `index` argument to make sure that you have the index that you desire. When you don’t specify this, your `DataFrame` object will have, by default, a numerically valued index that starts with 0 and continues until the last row of your DataFrame.\n",
    "\n",
    "However, even when your index is specified for you automatically, you still have the power to re-use one of your columns and make it your index. You can easily do this by calling `set_index()` on your `DataFrame` object. "
   ]
  },
  {
   "cell_type": "code",
   "execution_count": 33,
   "metadata": {},
   "outputs": [
    {
     "name": "stdout",
     "output_type": "stream",
     "text": [
      "RangeIndex(start=0, stop=4, step=1)\n",
      "   month  year  sale\n",
      "0      1  2012    55\n",
      "1      4  2014    40\n",
      "2      7  2013    84\n",
      "3     10  2014    31\n",
      "\n",
      "Int64Index([1, 4, 7, 10], dtype='int64', name='month')\n",
      "       year  sale\n",
      "month            \n",
      "1      2012    55\n",
      "4      2014    40\n",
      "7      2013    84\n",
      "10     2014    31\n",
      "\n",
      "MultiIndex([(2012,  1),\n",
      "            (2014,  4),\n",
      "            (2013,  7),\n",
      "            (2014, 10)],\n",
      "           names=['year', 'month'])\n",
      "            sale\n",
      "year month      \n",
      "2012 1        55\n",
      "2014 4        40\n",
      "2013 7        84\n",
      "2014 10       31\n"
     ]
    }
   ],
   "source": [
    "df1 = pd.DataFrame({'month': [1, 4, 7, 10],\n",
    "                   'year': [2012, 2014, 2013, 2014],\n",
    "                   'sale':[55, 40, 84, 31]})\n",
    "\n",
    "print(df1.index)   # the default index is numbers from 0 \n",
    "print(df1)\n",
    "print()\n",
    "\n",
    "df2 = df1.set_index('month') # creates a new copy of object refered by df4\n",
    "print(df2.index)\n",
    "print(df2)\n",
    "print()\n",
    "\n",
    "df3 = df1.set_index(['year','month']) # creates a new copy of object refered by df4  \n",
    "print(df3.index)\n",
    "print(df3)"
   ]
  },
  {
   "cell_type": "markdown",
   "metadata": {},
   "source": [
    "## 4.2 Adding a row to `DataFrame` object\n",
    "\n",
    "You can add a row by calling `.loc[]` of a `DataFrame` object:"
   ]
  },
  {
   "cell_type": "code",
   "execution_count": 34,
   "metadata": {},
   "outputs": [
    {
     "name": "stdout",
     "output_type": "stream",
     "text": [
      "      48  49  50\n",
      "2.5    1   2   3\n",
      "12.6   4   5   6\n",
      "4.8    7   8   9\n",
      "\n",
      "      48  49  50\n",
      "2.5    1   2   3\n",
      "12.6   4   5   6\n",
      "4.8    7   8   9\n",
      "2.0   11  12  13\n",
      "\n"
     ]
    }
   ],
   "source": [
    "df4 = pd.DataFrame(data=np.array([[1, 2, 3], [4, 5, 6], [7, 8, 9]]), index= [2.5, 12.6, 4.8], columns=[48, 49, 50])\n",
    "print(df4)\n",
    "print()\n",
    "\n",
    "df4.loc[2] = [11, 12, 13]   # the parameter 2 is used as the index of this row\n",
    "print(df4)\n",
    "print()"
   ]
  },
  {
   "cell_type": "markdown",
   "metadata": {},
   "source": [
    "## 4.3 Adding a column to `DataFrame` object\n",
    "\n",
    "A simple way to add a column is using `[]` operator with column label. For example:"
   ]
  },
  {
   "cell_type": "code",
   "execution_count": 35,
   "metadata": {},
   "outputs": [
    {
     "name": "stdout",
     "output_type": "stream",
     "text": [
      "   A  B  C\n",
      "0  1  2  3\n",
      "1  4  5  6\n",
      "2  7  8  9\n",
      "\n",
      "   A  B  C  D\n",
      "0  1  2  3  0\n",
      "1  4  5  6  1\n",
      "2  7  8  9  2\n"
     ]
    }
   ],
   "source": [
    "data = np.array([[1, 2, 3], [4, 5, 6], [7, 8, 9]])\n",
    "df5 = pd.DataFrame(data, columns=['A', 'B', 'C'])\n",
    "print(df5)\n",
    "\n",
    "print()\n",
    "\n",
    "# Use [] operator\n",
    "df5['D'] = df5.index  # numbers from 0 to total row number - 1\n",
    "\n",
    "\n",
    "print(df5)"
   ]
  },
  {
   "cell_type": "markdown",
   "metadata": {},
   "source": [
    "Or you can use `.loc[]` or `.iloc[]` to add a column:"
   ]
  },
  {
   "cell_type": "code",
   "execution_count": 36,
   "metadata": {},
   "outputs": [
    {
     "name": "stdout",
     "output_type": "stream",
     "text": [
      "   A  B  C\n",
      "0  1  2  3\n",
      "1  4  5  6\n",
      "2  7  8  9\n",
      "\n",
      "   A  B  C  E\n",
      "0  1  2  3  5\n",
      "1  4  5  6  6\n",
      "2  7  8  9  7\n"
     ]
    }
   ],
   "source": [
    "data = np.array([[1, 2, 3], [4, 5, 6], [7, 8, 9]])\n",
    "df6 = pd.DataFrame(data, columns=['A', 'B', 'C'])\n",
    "print(df6)\n",
    "\n",
    "print()\n",
    "\n",
    "# Append a column to `df`\n",
    "# a column of DataFrame is a Series data type, so it is nature to assign a column to a Series object.\n",
    "df6.loc[:, 'E'] = pd.Series(['5', '6','7'])\n",
    "\n",
    "# Print out `df` again to see the changes\n",
    "print(df6)"
   ]
  },
  {
   "cell_type": "markdown",
   "metadata": {},
   "source": [
    "## 5 How to Reset Indices, Delete Rows or Columns From a Pandas `DataFrame`?\n",
    "\n",
    "If you want to remove the index from your DataFrame, you should reconsider because `DataFrame` and `Series` always have an index. But you can do these things with index:\n",
    "\n",
    "    1. resetting the index of your DataFrame\n",
    "    2. remove the index name, if there is any, by executing `del df.index.name`\n",
    "    3. remove duplicate index values by resetting the index, dropping the duplicates of the index column \n",
    "      that has been added to your DataFrame and reinstating that duplicateless column again as the index.\n",
    "\n",
    "## 5.1 Reset indices\n",
    "\n",
    "Firstly, when your index doesn't look entirely the way you want it to, you can opt to reset it. You can easily do this with `.reset_index()`. However, you should still watch out, as you can pass several arguments that can make or break the success of your reset:"
   ]
  },
  {
   "cell_type": "code",
   "execution_count": 37,
   "metadata": {},
   "outputs": [
    {
     "name": "stdout",
     "output_type": "stream",
     "text": [
      "      48  49  50\n",
      "2.5    1   2   3\n",
      "12.6   4   5   6\n",
      "4.8    7   8   9\n",
      "\n",
      "   48  49  50\n",
      "0   1   2   3\n",
      "1   4   5   6\n",
      "2   7   8   9\n"
     ]
    }
   ],
   "source": [
    "df = pd.DataFrame(data=np.array([[1, 2, 3], [4, 5, 6], [7, 8, 9]]), index= [2.5, 12.6, 4.8], columns=[48, 49, 50])\n",
    "print(df)\n",
    "print()\n",
    "\n",
    "df_reset = df.reset_index(level = 0, drop=True)\n",
    "print(df_reset)"
   ]
  },
  {
   "cell_type": "markdown",
   "metadata": {},
   "source": [
    "Another way to achieve the above is to reassign the attribute `.index` directly, which is faster"
   ]
  },
  {
   "cell_type": "code",
   "execution_count": 38,
   "metadata": {},
   "outputs": [
    {
     "name": "stdout",
     "output_type": "stream",
     "text": [
      "   48  49  50\n",
      "0   1   2   3\n",
      "1   4   5   6\n",
      "2   7   8   9\n"
     ]
    }
   ],
   "source": [
    "df.index = range(len(df.index))  # also can be achieved by df5.index = pd.RangeIndex(len(df5.index))\n",
    "print(df)"
   ]
  },
  {
   "cell_type": "markdown",
   "metadata": {},
   "source": [
    "We can also set index from a column of data to replace the default"
   ]
  },
  {
   "cell_type": "code",
   "execution_count": 39,
   "metadata": {},
   "outputs": [
    {
     "name": "stdout",
     "output_type": "stream",
     "text": [
      "   month  year  sale\n",
      "0      1  2012    55\n",
      "1      4  2014    40\n",
      "2      7  2013    84\n",
      "3     10  2014    31\n",
      "\n",
      "       year  sale\n",
      "month            \n",
      "1      2012    55\n",
      "4      2014    40\n",
      "7      2013    84\n",
      "10     2014    31\n",
      "\n",
      "    year  sale\n",
      "1   2012    55\n",
      "4   2014    40\n",
      "7   2013    84\n",
      "10  2014    31\n"
     ]
    }
   ],
   "source": [
    "df = pd.DataFrame({'month': [1, 4, 7, 10],\n",
    "                   'year': [2012, 2014, 2013, 2014],\n",
    "                   'sale':[55, 40, 84, 31]})\n",
    "print(df)\n",
    "print()\n",
    "\n",
    "df.set_index('month',inplace=True) \n",
    "print(df)\n",
    "print()\n",
    "\n",
    "df.index.name = None   # set it to nothing for display\n",
    "print(df)"
   ]
  },
  {
   "cell_type": "code",
   "execution_count": 40,
   "metadata": {},
   "outputs": [
    {
     "name": "stdout",
     "output_type": "stream",
     "text": [
      "      48  49  50\n",
      "2.5    1   2   3\n",
      "12.6   4   5   6\n",
      "4.8    7   8   9\n",
      "4.8   40  50  60\n",
      "2.5   23  35  37\n",
      "\n",
      "       48  49  50\n",
      "index            \n",
      "12.6    4   5   6\n",
      "4.8    40  50  60\n",
      "2.5    23  35  37\n"
     ]
    }
   ],
   "source": [
    "# there are duplicates of index: 2.5 and 2.5, 4.8 and 4.8\n",
    "df = pd.DataFrame(data=np.array([[1, 2, 3], [4, 5, 6], [7, 8, 9], [40, 50, 60], [23, 35, 37]]), \n",
    "    index= [2.5, 12.6, 4.8, 4.8, 2.5], \n",
    "    columns=[48, 49, 50])\n",
    "print(df)\n",
    "\n",
    "print()\n",
    "\n",
    "\n",
    "# remove the duplicate index and only keep rows at the last\n",
    "df_reset=df.reset_index().drop_duplicates(subset='index', keep='last').set_index('index')\n",
    "print(df_reset)"
   ]
  },
  {
   "cell_type": "markdown",
   "metadata": {},
   "source": [
    "## 5.2 Delete rows\n",
    "\n",
    "You can remove duplicate rows from your `DataFrame` object by executing `DataFrame.drop_duplicates()`."
   ]
  },
  {
   "cell_type": "code",
   "execution_count": 41,
   "metadata": {},
   "outputs": [
    {
     "name": "stdout",
     "output_type": "stream",
     "text": [
      "    Name  Age     Sex\n",
      "0  James   24    Male\n",
      "1  Alice   28  Female\n",
      "2   Phil   40    Male\n",
      "3  James   24    Male\n",
      "\n",
      "    Name  Age     Sex\n",
      "0  James   24    Male\n",
      "1  Alice   28  Female\n",
      "2   Phil   40    Male\n"
     ]
    }
   ],
   "source": [
    "data = {\"Name\": [\"James\", \"Alice\", \"Phil\", \"James\"],\n",
    "        \"Age\": [24, 28, 40, 24],\n",
    "        \"Sex\": [\"Male\", \"Female\", \"Male\", \"Male\"]}\n",
    "df = pd.DataFrame(data)\n",
    "print(df)\n",
    "print()\n",
    "df = df.drop_duplicates()   \n",
    "print(df)"
   ]
  },
  {
   "cell_type": "markdown",
   "metadata": {},
   "source": [
    "If there is no uniqueness criterion to the deletion that you want to perform, you can use the `DataFrame.drop()` method, where you use the index property to specify the index of which rows you want to remove from your `DataFrame` object.\n",
    "\n",
    "By default, `DataFrame.drop()` returns a new `DataFrame` with the specified rows removed. If you pass `inplace=True`, the original `DataFrame` will be modified and you’ll get `None` as the return value."
   ]
  },
  {
   "cell_type": "code",
   "execution_count": 42,
   "metadata": {},
   "outputs": [
    {
     "name": "stdout",
     "output_type": "stream",
     "text": [
      "      48  49  50\n",
      "2.5    1   2   3\n",
      "12.6   4   5   6\n",
      "4.8    7   8   9\n",
      "4.8   40  50  60\n",
      "2.5   23  35  37\n",
      "\n",
      "      48  49  50\n",
      "12.6   4   5   6\n",
      "4.8    7   8   9\n",
      "4.8   40  50  60\n"
     ]
    }
   ],
   "source": [
    "# there are duplicates of index: 2.5 and 2.5, 4.8 and 4.8\n",
    "df = pd.DataFrame(data=np.array([[1, 2, 3], [4, 5, 6], [7, 8, 9], [40, 50, 60], [23, 35, 37]]), \n",
    "    index= [2.5, 12.6, 4.8, 4.8, 2.5], \n",
    "    columns=[48, 49, 50])\n",
    "print(df)\n",
    "\n",
    "print()\n",
    "\n",
    "df.drop(df.index[0], inplace=True) # the inplace = True means no need to reassign the DataFrame to new variable\n",
    "\n",
    "print(df)"
   ]
  },
  {
   "cell_type": "markdown",
   "metadata": {},
   "source": [
    "## 5.4 Delete columns\n",
    "\n",
    "To delete (a selection of) columns from your `DataFrame` object, you can use the `DataFrame.drop()` method with specification `axis=1`:"
   ]
  },
  {
   "cell_type": "code",
   "execution_count": 43,
   "metadata": {},
   "outputs": [
    {
     "name": "stdout",
     "output_type": "stream",
     "text": [
      "      48  49  50\n",
      "2.5    1   2   3\n",
      "12.6   4   5   6\n",
      "4.8    7   8   9\n",
      "4.8   40  50  60\n",
      "2.5   23  35  37\n",
      "\n",
      "      49  50\n",
      "2.5    2   3\n",
      "12.6   5   6\n",
      "4.8    8   9\n",
      "4.8   50  60\n",
      "2.5   35  37\n"
     ]
    }
   ],
   "source": [
    "# there are duplicates of index: 2.5 and 2.5, 4.8 and 4.8\n",
    "df = pd.DataFrame(data=np.array([[1, 2, 3], [4, 5, 6], [7, 8, 9], [40, 50, 60], [23, 35, 37]]), \n",
    "    index= [2.5, 12.6, 4.8, 4.8, 2.5], \n",
    "    columns=[48, 49, 50])\n",
    "print(df)\n",
    "\n",
    "print()\n",
    "\n",
    "df.drop(df.columns[0], axis=1, inplace=True) # the inplace = True means no need to reassign the DataFrame to new variable\n",
    "\n",
    "print(df)"
   ]
  },
  {
   "cell_type": "code",
   "execution_count": 44,
   "metadata": {},
   "outputs": [
    {
     "name": "stdout",
     "output_type": "stream",
     "text": [
      "    Name  Age     Sex\n",
      "0  James   24    Male\n",
      "1  Alice   28  Female\n",
      "2   Phil   40    Male\n",
      "3  James   24    Male\n",
      "\n",
      "    Name  Age     Sex\n",
      "0  James   24    Male\n",
      "1  Alice   28  Female\n",
      "2   Phil   40    Male\n",
      "3  James   24    Male\n",
      "\n",
      "    Name     Sex\n",
      "0  James    Male\n",
      "1  Alice  Female\n",
      "2   Phil    Male\n",
      "3  James    Male\n"
     ]
    }
   ],
   "source": [
    "data = {\"Name\": [\"James\", \"Alice\", \"Phil\", \"James\"],\n",
    "        \"Age\": [24, 28, 40, 24],\n",
    "        \"Sex\": [\"Male\", \"Female\", \"Male\", \"Male\"]}\n",
    "df = pd.DataFrame(data)\n",
    "print(df)\n",
    "print()\n",
    "df2 = df.drop('Age',axis=1)  # sometimes you don't want to change the old data table\n",
    "print(df)\n",
    "print()\n",
    "print(df2)"
   ]
  },
  {
   "cell_type": "markdown",
   "metadata": {},
   "source": [
    "## 6 How to Rename the Index or Columns of a Pandas `DataFrame`?\n",
    "\n",
    "To give the columns or your index values of your  a different value, it’s best to use the `DataFrame.rename()` method."
   ]
  },
  {
   "cell_type": "code",
   "execution_count": 45,
   "metadata": {},
   "outputs": [
    {
     "name": "stdout",
     "output_type": "stream",
     "text": [
      "      48  49  50\n",
      "2.5    1   2   3\n",
      "12.6   4   5   6\n",
      "4.8    7   8   9\n",
      "4.8   40  50  60\n",
      "2.5   23  35  37\n",
      "\n",
      "      col1  col2  col3\n",
      "2.5      1     2     3\n",
      "12.6     4     5     6\n",
      "4.8      7     8     9\n",
      "4.8     40    50    60\n",
      "2.5     23    35    37\n",
      "\n",
      "   col1  col2  col3\n",
      "A     1     2     3\n",
      "B     4     5     6\n",
      "C     7     8     9\n",
      "C    40    50    60\n",
      "A    23    35    37\n"
     ]
    }
   ],
   "source": [
    "# there are duplicates of index: 2.5 and 2.5, 4.8 and 4.8\n",
    "df = pd.DataFrame(data=np.array([[1, 2, 3], [4, 5, 6], [7, 8, 9], [40, 50, 60], [23, 35, 37]]), \n",
    "    index= [2.5, 12.6, 4.8, 4.8, 2.5], \n",
    "    columns=[48, 49, 50])\n",
    "print(df)\n",
    "print()\n",
    "\n",
    "new_columns = {48:'col1', 49:'col2', 50:'col3'}\n",
    "df.rename(columns=new_columns,inplace=True)\n",
    "\n",
    "print(df)\n",
    "print()\n",
    "\n",
    "new_index = {2.5:'A', 12.6:'B', 4.8:\"C\"}\n",
    "df.rename(index=new_index, inplace=True)\n",
    "\n",
    "print(df)"
   ]
  },
  {
   "cell_type": "markdown",
   "metadata": {},
   "source": [
    "It is very useful to rename index or column with a `lambda` function, a facile approach. A `lambda` function is one-line anoymous function."
   ]
  },
  {
   "cell_type": "code",
   "execution_count": 46,
   "metadata": {},
   "outputs": [
    {
     "name": "stdout",
     "output_type": "stream",
     "text": [
      "      ABC  DEF  GHI\n",
      "2.5     1    2    3\n",
      "12.6    4    5    6\n",
      "4.8     7    8    9\n",
      "4.8    40   50   60\n",
      "2.5    23   35   37\n",
      "\n",
      "      abc  def  ghi\n",
      "2.5     1    2    3\n",
      "12.6    4    5    6\n",
      "4.8     7    8    9\n",
      "4.8    40   50   60\n",
      "2.5    23   35   37\n"
     ]
    }
   ],
   "source": [
    "# there are duplicates of index: 2.5 and 2.5, 4.8 and 4.8\n",
    "df5 = pd.DataFrame(data=np.array([[1, 2, 3], [4, 5, 6], [7, 8, 9], [40, 50, 60], [23, 35, 37]]), \n",
    "    index= [2.5, 12.6, 4.8, 4.8, 2.5], \n",
    "    columns=['ABC', 'DEF', 'GHI'])\n",
    "print(df5)\n",
    "print()\n",
    "\n",
    "df5.rename(columns = lambda x: x.lower().replace(' ', '_'), inplace=True)\n",
    "print(df5)\n"
   ]
  },
  {
   "cell_type": "markdown",
   "metadata": {},
   "source": [
    "## 7 Dealing with Missing Data\n",
    "\n",
    "Missing data is very common in data science and machine learning. In a table of a large number of data, some fields have no data because of the difficulties in data collections. Pandas primarily uses the value `np.nan` to represent missing data. It is by default not included in computations. `DataFrame` has three basic methods to deal with missing data: `DataFrame.dropna()`, `DataFrame.fillna()`, and `DataFrame.isna()`:"
   ]
  },
  {
   "cell_type": "code",
   "execution_count": 47,
   "metadata": {},
   "outputs": [
    {
     "data": {
      "text/html": [
       "<div>\n",
       "<style scoped>\n",
       "    .dataframe tbody tr th:only-of-type {\n",
       "        vertical-align: middle;\n",
       "    }\n",
       "\n",
       "    .dataframe tbody tr th {\n",
       "        vertical-align: top;\n",
       "    }\n",
       "\n",
       "    .dataframe thead th {\n",
       "        text-align: right;\n",
       "    }\n",
       "</style>\n",
       "<table border=\"1\" class=\"dataframe\">\n",
       "  <thead>\n",
       "    <tr style=\"text-align: right;\">\n",
       "      <th></th>\n",
       "      <th>x</th>\n",
       "    </tr>\n",
       "  </thead>\n",
       "  <tbody>\n",
       "    <tr>\n",
       "      <th>0</th>\n",
       "      <td>1.0</td>\n",
       "    </tr>\n",
       "    <tr>\n",
       "      <th>1</th>\n",
       "      <td>2.0</td>\n",
       "    </tr>\n",
       "    <tr>\n",
       "      <th>2</th>\n",
       "      <td>NaN</td>\n",
       "    </tr>\n",
       "    <tr>\n",
       "      <th>3</th>\n",
       "      <td>4.0</td>\n",
       "    </tr>\n",
       "  </tbody>\n",
       "</table>\n",
       "</div>"
      ],
      "text/plain": [
       "     x\n",
       "0  1.0\n",
       "1  2.0\n",
       "2  NaN\n",
       "3  4.0"
      ]
     },
     "execution_count": 47,
     "metadata": {},
     "output_type": "execute_result"
    }
   ],
   "source": [
    "df = pd.DataFrame({'x': [1, 2, np.nan, 4]})\n",
    "df"
   ]
  },
  {
   "cell_type": "markdown",
   "metadata": {},
   "source": [
    "`DataFrame.isna()` creates a boolean `DataFrame` to report whether a cell missing data or not."
   ]
  },
  {
   "cell_type": "code",
   "execution_count": 48,
   "metadata": {
    "scrolled": false
   },
   "outputs": [
    {
     "name": "stdout",
     "output_type": "stream",
     "text": [
      "       x\n",
      "0  False\n",
      "1  False\n",
      "2   True\n",
      "3  False\n"
     ]
    }
   ],
   "source": [
    "df1 = df.isna()\n",
    "print(df1)"
   ]
  },
  {
   "cell_type": "markdown",
   "metadata": {},
   "source": [
    "Many Pandas methods omit `NaN` values when performing calculations unless they are explicitly instructed not to:"
   ]
  },
  {
   "cell_type": "code",
   "execution_count": 49,
   "metadata": {},
   "outputs": [
    {
     "name": "stdout",
     "output_type": "stream",
     "text": [
      "x    2.333333\n",
      "dtype: float64\n",
      "x   NaN\n",
      "dtype: float64\n"
     ]
    }
   ],
   "source": [
    "print(df.mean())\n",
    "print(df.mean(skipna=False))"
   ]
  },
  {
   "cell_type": "markdown",
   "metadata": {},
   "source": [
    "`DataFrame.fillna(val)` replace the missing data cell with `val`."
   ]
  },
  {
   "cell_type": "code",
   "execution_count": 50,
   "metadata": {},
   "outputs": [
    {
     "name": "stdout",
     "output_type": "stream",
     "text": [
      "     x\n",
      "0  1.0\n",
      "1  2.0\n",
      "2  5.0\n",
      "3  4.0\n",
      "\n",
      "     x\n",
      "0  1.0\n",
      "1  2.0\n",
      "2  NaN\n",
      "3  4.0\n"
     ]
    }
   ],
   "source": [
    "df1 = df.fillna(5.0)   # fillna(5.0) creates a new DataFrame object\n",
    "print(df1)\n",
    "print()\n",
    "print(df)"
   ]
  },
  {
   "cell_type": "markdown",
   "metadata": {},
   "source": [
    "`DataFrame.fillna(method='ffill')` replaces `NaN` by the value above it and `DataFrame.fillna(method='bfill')` replaces `NaN` by the value below it:"
   ]
  },
  {
   "cell_type": "code",
   "execution_count": 51,
   "metadata": {},
   "outputs": [
    {
     "data": {
      "text/html": [
       "<div>\n",
       "<style scoped>\n",
       "    .dataframe tbody tr th:only-of-type {\n",
       "        vertical-align: middle;\n",
       "    }\n",
       "\n",
       "    .dataframe tbody tr th {\n",
       "        vertical-align: top;\n",
       "    }\n",
       "\n",
       "    .dataframe thead th {\n",
       "        text-align: right;\n",
       "    }\n",
       "</style>\n",
       "<table border=\"1\" class=\"dataframe\">\n",
       "  <thead>\n",
       "    <tr style=\"text-align: right;\">\n",
       "      <th></th>\n",
       "      <th>x</th>\n",
       "    </tr>\n",
       "  </thead>\n",
       "  <tbody>\n",
       "    <tr>\n",
       "      <th>0</th>\n",
       "      <td>1.0</td>\n",
       "    </tr>\n",
       "    <tr>\n",
       "      <th>1</th>\n",
       "      <td>2.0</td>\n",
       "    </tr>\n",
       "    <tr>\n",
       "      <th>2</th>\n",
       "      <td>2.0</td>\n",
       "    </tr>\n",
       "    <tr>\n",
       "      <th>3</th>\n",
       "      <td>4.0</td>\n",
       "    </tr>\n",
       "  </tbody>\n",
       "</table>\n",
       "</div>"
      ],
      "text/plain": [
       "     x\n",
       "0  1.0\n",
       "1  2.0\n",
       "2  2.0\n",
       "3  4.0"
      ]
     },
     "execution_count": 51,
     "metadata": {},
     "output_type": "execute_result"
    }
   ],
   "source": [
    "df.fillna(method='ffill')"
   ]
  },
  {
   "cell_type": "code",
   "execution_count": 52,
   "metadata": {},
   "outputs": [
    {
     "data": {
      "text/html": [
       "<div>\n",
       "<style scoped>\n",
       "    .dataframe tbody tr th:only-of-type {\n",
       "        vertical-align: middle;\n",
       "    }\n",
       "\n",
       "    .dataframe tbody tr th {\n",
       "        vertical-align: top;\n",
       "    }\n",
       "\n",
       "    .dataframe thead th {\n",
       "        text-align: right;\n",
       "    }\n",
       "</style>\n",
       "<table border=\"1\" class=\"dataframe\">\n",
       "  <thead>\n",
       "    <tr style=\"text-align: right;\">\n",
       "      <th></th>\n",
       "      <th>x</th>\n",
       "    </tr>\n",
       "  </thead>\n",
       "  <tbody>\n",
       "    <tr>\n",
       "      <th>0</th>\n",
       "      <td>1.0</td>\n",
       "    </tr>\n",
       "    <tr>\n",
       "      <th>1</th>\n",
       "      <td>2.0</td>\n",
       "    </tr>\n",
       "    <tr>\n",
       "      <th>2</th>\n",
       "      <td>4.0</td>\n",
       "    </tr>\n",
       "    <tr>\n",
       "      <th>3</th>\n",
       "      <td>4.0</td>\n",
       "    </tr>\n",
       "  </tbody>\n",
       "</table>\n",
       "</div>"
      ],
      "text/plain": [
       "     x\n",
       "0  1.0\n",
       "1  2.0\n",
       "2  4.0\n",
       "3  4.0"
      ]
     },
     "execution_count": 52,
     "metadata": {},
     "output_type": "execute_result"
    }
   ],
   "source": [
    "df.fillna(method='bfill')"
   ]
  },
  {
   "cell_type": "markdown",
   "metadata": {},
   "source": [
    "Another popular option is to apply interpolation and replace missing values with interpolated values. You can do this with `.interpolate()`:"
   ]
  },
  {
   "cell_type": "code",
   "execution_count": 53,
   "metadata": {},
   "outputs": [
    {
     "name": "stdout",
     "output_type": "stream",
     "text": [
      "     x\n",
      "0  1.0\n",
      "1  2.0\n",
      "2  3.0\n",
      "3  4.0\n"
     ]
    }
   ],
   "source": [
    "df1 = df.interpolate()\n",
    "print(df1)"
   ]
  },
  {
   "cell_type": "markdown",
   "metadata": {},
   "source": [
    "These methods modify the orginial `DataFrame` when `inplace=True`:"
   ]
  },
  {
   "cell_type": "code",
   "execution_count": 54,
   "metadata": {},
   "outputs": [
    {
     "name": "stdout",
     "output_type": "stream",
     "text": [
      "     x\n",
      "0  1.0\n",
      "1  2.0\n",
      "2  3.0\n",
      "3  4.0\n"
     ]
    }
   ],
   "source": [
    "df.interpolate(inplace=True)  #modify df directly\n",
    "print(df)"
   ]
  },
  {
   "cell_type": "markdown",
   "metadata": {},
   "source": [
    "## 8 Iterating Over DataFrame Object\n",
    "\n",
    "As you learned earlier, a `DataFrame`’s row and column labels can be retrieved as sequences with `.index` and `.columns`. You can use this feature to iterate over labels and get or set data values. However, Pandas provides several more convenient methods for iteration:\n",
    "\n",
    "- `.items()` to iterate over columns\n",
    "- `.iteritems()` to iterate over columns\n",
    "- `.iterrows()` to iterate over rows\n",
    "- `.itertuples()` to iterate over rows and get named tuples\n",
    "\n",
    "With `.items()` and `.iteritems()`, you iterate over the columns of a Pandas DataFrame. Each iteration yields a tuple with the name of the column and the column data as a `Series` object:\n",
    "\n"
   ]
  },
  {
   "cell_type": "code",
   "execution_count": 55,
   "metadata": {},
   "outputs": [
    {
     "name": "stdout",
     "output_type": "stream",
     "text": [
      "year\n",
      "0    2010\n",
      "1    2011\n",
      "2    2012\n",
      "3    2011\n",
      "4    2012\n",
      "5    2010\n",
      "6    2011\n",
      "7    2012\n",
      "Name: year, dtype: int64\n",
      "\n",
      "team\n",
      "0      Bears\n",
      "1      Bears\n",
      "2      Bears\n",
      "3    Packers\n",
      "4    Packers\n",
      "5      Lions\n",
      "6      Lions\n",
      "7      Lions\n",
      "Name: team, dtype: object\n",
      "\n",
      "wins\n",
      "0    11\n",
      "1     8\n",
      "2    10\n",
      "3    15\n",
      "4    11\n",
      "5     6\n",
      "6    10\n",
      "7     4\n",
      "Name: wins, dtype: int64\n",
      "\n",
      "losses\n",
      "0     5\n",
      "1     8\n",
      "2     6\n",
      "3     1\n",
      "4     5\n",
      "5    10\n",
      "6     6\n",
      "7    12\n",
      "Name: losses, dtype: int64\n",
      "\n"
     ]
    }
   ],
   "source": [
    " for col_label, col in football.iteritems():\n",
    "        print(col_label, col, sep='\\n', end='\\n\\n')"
   ]
  },
  {
   "cell_type": "markdown",
   "metadata": {},
   "source": [
    "With `.iterrows()`, you iterate over the rows of a Pandas `DataFrame`. Each iteration yields a tuple with the name of the row and the row data as a `Series` object:"
   ]
  },
  {
   "cell_type": "code",
   "execution_count": 56,
   "metadata": {},
   "outputs": [
    {
     "name": "stdout",
     "output_type": "stream",
     "text": [
      "0\n",
      "year       2010\n",
      "team      Bears\n",
      "wins         11\n",
      "losses        5\n",
      "Name: 0, dtype: object\n",
      "\n",
      "1\n",
      "year       2011\n",
      "team      Bears\n",
      "wins          8\n",
      "losses        8\n",
      "Name: 1, dtype: object\n",
      "\n",
      "2\n",
      "year       2012\n",
      "team      Bears\n",
      "wins         10\n",
      "losses        6\n",
      "Name: 2, dtype: object\n",
      "\n",
      "3\n",
      "year         2011\n",
      "team      Packers\n",
      "wins           15\n",
      "losses          1\n",
      "Name: 3, dtype: object\n",
      "\n",
      "4\n",
      "year         2012\n",
      "team      Packers\n",
      "wins           11\n",
      "losses          5\n",
      "Name: 4, dtype: object\n",
      "\n",
      "5\n",
      "year       2010\n",
      "team      Lions\n",
      "wins          6\n",
      "losses       10\n",
      "Name: 5, dtype: object\n",
      "\n",
      "6\n",
      "year       2011\n",
      "team      Lions\n",
      "wins         10\n",
      "losses        6\n",
      "Name: 6, dtype: object\n",
      "\n",
      "7\n",
      "year       2012\n",
      "team      Lions\n",
      "wins          4\n",
      "losses       12\n",
      "Name: 7, dtype: object\n",
      "\n"
     ]
    }
   ],
   "source": [
    "for row_label, row in football.iterrows():\n",
    "    print(row_label, row, sep='\\n', end='\\n\\n')"
   ]
  },
  {
   "cell_type": "markdown",
   "metadata": {},
   "source": [
    "Similarly, `.itertuples()` iterates over the rows and in each iteration yields a named tuple with (optionally) the index and data:"
   ]
  },
  {
   "cell_type": "code",
   "execution_count": 57,
   "metadata": {},
   "outputs": [
    {
     "name": "stdout",
     "output_type": "stream",
     "text": [
      "football(year=2010, team='Bears', wins=11, losses=5)\n",
      "football(year=2011, team='Bears', wins=8, losses=8)\n",
      "football(year=2012, team='Bears', wins=10, losses=6)\n",
      "football(year=2011, team='Packers', wins=15, losses=1)\n",
      "football(year=2012, team='Packers', wins=11, losses=5)\n",
      "football(year=2010, team='Lions', wins=6, losses=10)\n",
      "football(year=2011, team='Lions', wins=10, losses=6)\n",
      "football(year=2012, team='Lions', wins=4, losses=12)\n"
     ]
    }
   ],
   "source": [
    "# the default name is Pandas, here changed to football\n",
    "# index set to False, so the tuple produced from iteraction does not include index of row.\n",
    "for row in football.itertuples(name='football', index=False):   \n",
    "    print(row)"
   ]
  },
  {
   "cell_type": "markdown",
   "metadata": {},
   "source": [
    "## 9 How to Save DataFrame and Read Data From File?\n",
    "\n",
    "Pandas does support a lot of file format (see below) and a `DataFrame` object can be saved to harddisk in one of these format. Reversely, data recorded in these formated can be read to a `DataFrame` object in computer memory. Sometimes, there functions are called the Pandas I/O:\n",
    "\n",
    "| Format Type\t| Data Description\t| Reader \t | Writer |\n",
    "| ------------ | ----------------- | ---------  | ------ |\n",
    "| text\t| CSV\t| read_csv()\t| to_csv() |\n",
    "| text\t| JSON\t| read_json()\t| to_json() |\n",
    "| text\t| HTML\t| read_html()\t| to_html() |\n",
    "| text\t| Local clipboard\t| read_clipboard()\t| to_clipboard() |\n",
    "| binary\t| MS Excel\t| read_excel()\t| to_excel() |\n",
    "| binary\t| HDF5 Format\t| read_hdf()\t| to_hdf() |\n",
    "| binary\t| Feather Format\t| read_feather()\t| to_feather() |\n",
    "| binary\t| Parquet Format\t| read_parquet()\t| to_parquet() |\n",
    "| binary\t|Msgpack\t| read_msgpack()\t| to_msgpack() |\n",
    "| binary\t| Stata\t| read_stata()\t| to_stata() |\n",
    "| binary\t| SAS\t| read_sas()\t | |\n",
    "| binary\t| Python Pickle Format\t| read_pickle()\t| to_pickle() |\n",
    "| SQL\t| SQL\t| read_sql()\t| to_sql() |\n",
    "| SQL\t| Google Big Query\t| read_gbq()\t| to_gbq() |\n",
    "\n",
    "For example, you can save the `football` object into a `CSV` file:"
   ]
  },
  {
   "cell_type": "code",
   "execution_count": 58,
   "metadata": {},
   "outputs": [],
   "source": [
    "# save the football object to the file test.csv in the current working directory\n",
    "# set index = False to avoid writing row index to csv file\n",
    "football.to_csv('football.csv', index=False)   "
   ]
  },
  {
   "cell_type": "markdown",
   "metadata": {},
   "source": [
    "Or you can read `football.csv` just created in the current diectory and load data to a `DataFrame` object:"
   ]
  },
  {
   "cell_type": "code",
   "execution_count": 59,
   "metadata": {},
   "outputs": [
    {
     "data": {
      "text/html": [
       "<div>\n",
       "<style scoped>\n",
       "    .dataframe tbody tr th:only-of-type {\n",
       "        vertical-align: middle;\n",
       "    }\n",
       "\n",
       "    .dataframe tbody tr th {\n",
       "        vertical-align: top;\n",
       "    }\n",
       "\n",
       "    .dataframe thead th {\n",
       "        text-align: right;\n",
       "    }\n",
       "</style>\n",
       "<table border=\"1\" class=\"dataframe\">\n",
       "  <thead>\n",
       "    <tr style=\"text-align: right;\">\n",
       "      <th></th>\n",
       "      <th>year</th>\n",
       "      <th>team</th>\n",
       "      <th>wins</th>\n",
       "      <th>losses</th>\n",
       "    </tr>\n",
       "  </thead>\n",
       "  <tbody>\n",
       "    <tr>\n",
       "      <th>0</th>\n",
       "      <td>2010</td>\n",
       "      <td>Bears</td>\n",
       "      <td>11</td>\n",
       "      <td>5</td>\n",
       "    </tr>\n",
       "    <tr>\n",
       "      <th>1</th>\n",
       "      <td>2011</td>\n",
       "      <td>Bears</td>\n",
       "      <td>8</td>\n",
       "      <td>8</td>\n",
       "    </tr>\n",
       "    <tr>\n",
       "      <th>2</th>\n",
       "      <td>2012</td>\n",
       "      <td>Bears</td>\n",
       "      <td>10</td>\n",
       "      <td>6</td>\n",
       "    </tr>\n",
       "    <tr>\n",
       "      <th>3</th>\n",
       "      <td>2011</td>\n",
       "      <td>Packers</td>\n",
       "      <td>15</td>\n",
       "      <td>1</td>\n",
       "    </tr>\n",
       "    <tr>\n",
       "      <th>4</th>\n",
       "      <td>2012</td>\n",
       "      <td>Packers</td>\n",
       "      <td>11</td>\n",
       "      <td>5</td>\n",
       "    </tr>\n",
       "    <tr>\n",
       "      <th>5</th>\n",
       "      <td>2010</td>\n",
       "      <td>Lions</td>\n",
       "      <td>6</td>\n",
       "      <td>10</td>\n",
       "    </tr>\n",
       "    <tr>\n",
       "      <th>6</th>\n",
       "      <td>2011</td>\n",
       "      <td>Lions</td>\n",
       "      <td>10</td>\n",
       "      <td>6</td>\n",
       "    </tr>\n",
       "    <tr>\n",
       "      <th>7</th>\n",
       "      <td>2012</td>\n",
       "      <td>Lions</td>\n",
       "      <td>4</td>\n",
       "      <td>12</td>\n",
       "    </tr>\n",
       "  </tbody>\n",
       "</table>\n",
       "</div>"
      ],
      "text/plain": [
       "   year     team  wins  losses\n",
       "0  2010    Bears    11       5\n",
       "1  2011    Bears     8       8\n",
       "2  2012    Bears    10       6\n",
       "3  2011  Packers    15       1\n",
       "4  2012  Packers    11       5\n",
       "5  2010    Lions     6      10\n",
       "6  2011    Lions    10       6\n",
       "7  2012    Lions     4      12"
      ]
     },
     "execution_count": 59,
     "metadata": {},
     "output_type": "execute_result"
    }
   ],
   "source": [
    "fb1 = pd.read_csv('football.csv') \n",
    "\n",
    "fb1"
   ]
  },
  {
   "cell_type": "markdown",
   "metadata": {},
   "source": [
    "Since the csv files are mostly used to train machine learning model, `pd.read_csv()` is commonly used at the start of a machine learning project. It is important to know that there are a lot of options to `pd.read_csv()` method. \n",
    "\n",
    "`pandas.read_csv(filepath_or_buffer: Union[str, pathlib.Path, IO[~AnyStr]], sep=',', delimiter=None, header='infer', names=None, index_col=None, usecols=None, squeeze=False, prefix=None, mangle_dupe_cols=True, dtype=None, engine=None, converters=None, true_values=None, false_values=None, skipinitialspace=False, skiprows=None, skipfooter=0, nrows=None, na_values=None, keep_default_na=True, na_filter=True, verbose=False, skip_blank_lines=True, parse_dates=False, infer_datetime_format=False, keep_date_col=False, date_parser=None, dayfirst=False, cache_dates=True, iterator=False, chunksize=None, compression='infer', thousands=None, decimal: str = '.', lineterminator=None, quotechar='\"', quoting=0, doublequote=True, escapechar=None, comment=None, encoding=None, dialect=None, error_bad_lines=True, warn_bad_lines=True, delim_whitespace=False, low_memory=True, memory_map=False, float_precision=None)`\n",
    "\n",
    "The details about these options can be found [here](https://pandas.pydata.org/pandas-docs/stable/reference/api/pandas.read_csv.html).\n"
   ]
  }
 ],
 "metadata": {
  "hide_input": false,
  "kernelspec": {
   "display_name": "Python 3",
   "language": "python",
   "name": "python3"
  },
  "language_info": {
   "codemirror_mode": {
    "name": "ipython",
    "version": 3
   },
   "file_extension": ".py",
   "mimetype": "text/x-python",
   "name": "python",
   "nbconvert_exporter": "python",
   "pygments_lexer": "ipython3",
   "version": "3.7.6"
  },
  "varInspector": {
   "cols": {
    "lenName": 16,
    "lenType": 16,
    "lenVar": 40
   },
   "kernels_config": {
    "python": {
     "delete_cmd_postfix": "",
     "delete_cmd_prefix": "del ",
     "library": "var_list.py",
     "varRefreshCmd": "print(var_dic_list())"
    },
    "r": {
     "delete_cmd_postfix": ") ",
     "delete_cmd_prefix": "rm(",
     "library": "var_list.r",
     "varRefreshCmd": "cat(var_dic_list()) "
    }
   },
   "types_to_exclude": [
    "module",
    "function",
    "builtin_function_or_method",
    "instance",
    "_Feature"
   ],
   "window_display": false
  }
 },
 "nbformat": 4,
 "nbformat_minor": 2
}
