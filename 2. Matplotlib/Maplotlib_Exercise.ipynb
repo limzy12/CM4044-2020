{
 "cells": [
  {
   "cell_type": "markdown",
   "metadata": {},
   "source": [
    "## Matplotlib Exercise\n",
    "\n",
    "For this exercise, we are using Matplotlib to visualize Company Sales Data, which is stored in a text file, \"company_sales_data.csv\". It is available in NTULearn.\n",
    "\n",
    "The data file has 9 columns of data with a header for every column's name:\n",
    "\n",
    "\"month_number\",\"facecream\",\"facewash\",\"toothpaste\",\"bathingsoap\",\"shampoo\",\"moisturizer\",\"total_units\",\"total_profit\""
   ]
  },
  {
   "cell_type": "markdown",
   "metadata": {},
   "source": [
    "### 1.\n",
    "Read total profit of all months from \"company_sales_data.csv\" and show it using a line plot:\n",
    "\n",
    "Total profit data provided for each month. Generated line plot must include the following properties: –\n",
    "\n",
    "- X label name = Month\n",
    "- Y label name = Total profit\n",
    "- figure title: Company profit per month\n",
    "- x ticks: month number\n",
    "- y ticks: 100000, 200000, 300000, 400000, 500000\n",
    "\n",
    "Solution:"
   ]
  },
  {
   "cell_type": "code",
   "execution_count": 1,
   "metadata": {},
   "outputs": [],
   "source": [
    "## Solution 1\n",
    "## use plt package"
   ]
  },
  {
   "cell_type": "code",
   "execution_count": 2,
   "metadata": {},
   "outputs": [],
   "source": [
    "## Solution 2\n",
    "# use OOP (figure and axes) to draw the plot"
   ]
  },
  {
   "cell_type": "markdown",
   "metadata": {},
   "source": [
    "### 2.\n",
    "\n",
    "Generated line plot for company profit data to include following Style properties: \n",
    "\n",
    "- Line Style dotted and Line-color should be red\n",
    "- Show legend at the lower right location. Legent text: Profit data of last year\n",
    "- X label name = Month\n",
    "- Y label name = Sold units number\n",
    "- Add a circle marker.\n",
    "- Line marker color as read\n",
    "- Line width should be 3\n",
    "\n",
    "Solution:"
   ]
  },
  {
   "cell_type": "code",
   "execution_count": 3,
   "metadata": {},
   "outputs": [],
   "source": [
    "## Solution 1\n",
    "## use plt package"
   ]
  },
  {
   "cell_type": "code",
   "execution_count": 4,
   "metadata": {},
   "outputs": [],
   "source": [
    "## Solution 2\n",
    "# use OOP (figure and axes) to draw the plot"
   ]
  },
  {
   "cell_type": "markdown",
   "metadata": {},
   "source": [
    "### 3.\n",
    "\n",
    "Read all product sales data and show it using a multiline plot:\n",
    "\n",
    "Display the number of units sold per month for each product using multiline plots. (i.e., separate Plotline for each product for each product).\n",
    "\n",
    "- every line has different colour\n",
    "- linewidth 3\n",
    "- use cicle as data marker\n",
    "- show the legend on the upper left corner of the plot\n",
    "- legend text \"xxxx Sales Data\", xxxx is the goods item name, such as face cream, Toothpaste, etc.\n",
    "- x label \"Month\"\n",
    "- y label \"Sales units in number\"\n",
    "- figure title \"Sales data\"\n",
    "- xticks: month number\n",
    "- yticks: 1000, 2000, 4000, 6000, 8000, 10000, 12000, 15000, 18000\n",
    "\n",
    "Solution:"
   ]
  },
  {
   "cell_type": "code",
   "execution_count": 5,
   "metadata": {},
   "outputs": [],
   "source": [
    "## Solution 1\n",
    "## use plt package"
   ]
  },
  {
   "cell_type": "code",
   "execution_count": 6,
   "metadata": {},
   "outputs": [],
   "source": [
    "## Solution 2\n",
    "# use OOP (figure and axes) to draw the plot"
   ]
  },
  {
   "cell_type": "markdown",
   "metadata": {},
   "source": [
    "### 4.\n",
    "\n",
    "Read toothpaste sales data of each month and show it using a scatter plot. Add a grid in the plot and Gridline style should “–“.\n",
    "\n",
    "- scatter point in purple colour\n",
    "- use cicle as data marker\n",
    "- show the legend on the upper left corner of the plot\n",
    "- legend text \"Tooth paste Sales Data\"\n",
    "- x label \"Month\"\n",
    "- y label \"Sales units in number\"\n",
    "- figure title \"Tooth paste Sales data\"\n",
    "- xticks: month number\n",
    "- yticks: use system default value\n",
    "\n",
    "Solution:"
   ]
  },
  {
   "cell_type": "code",
   "execution_count": 7,
   "metadata": {},
   "outputs": [],
   "source": [
    "## Solution 21\n",
    "# use plt package to draw the plot"
   ]
  },
  {
   "cell_type": "code",
   "execution_count": 8,
   "metadata": {},
   "outputs": [],
   "source": [
    "## Solution 2\n",
    "# use OOP (figure and axes) to draw the plot"
   ]
  },
  {
   "cell_type": "markdown",
   "metadata": {},
   "source": [
    "### 5.\n",
    "\n",
    "Read face cream and face wash product sales data and show it using the bar chart. Bar chart should display the number of units sold per month for each product. Add a separate bar for each product in the same chart.\n",
    "\n",
    "- legend text: \"Face Cream Sales Data\" and \"Face Wash Sales Data\"\n",
    "- legend position well so that legend will not overlap with bars in the plot\n",
    "- x label \"Month\"\n",
    "- y label \"Sales units in number\"\n",
    "- figure title \"Facewash and FaceCream Sales Data\"\n",
    "- xticks: month\n",
    "- yticks: use system default value\n",
    "\n",
    "Solution:"
   ]
  },
  {
   "cell_type": "code",
   "execution_count": 9,
   "metadata": {},
   "outputs": [],
   "source": [
    "## Solution 1\n",
    "# use plt package to draw the plot"
   ]
  },
  {
   "cell_type": "code",
   "execution_count": 10,
   "metadata": {},
   "outputs": [],
   "source": [
    "## Solution 2\n",
    "# use OOP (figure and axes) to draw the plot## Solution 2"
   ]
  },
  {
   "cell_type": "markdown",
   "metadata": {},
   "source": [
    "### 6.\n",
    "\n",
    "Read the total profit of each month and show it using the histogram to see most common profit ranges\n",
    "\n",
    "- The bins: 150000, 175000, 200000, 225000, 250000, 300000, 350000\n",
    "- x label : Profit range in dollar\n",
    "- y label : Actual Profit in dolar\n",
    "- legend on the best corner\n",
    "- title: Profit data\n",
    "\n",
    "Solution:"
   ]
  },
  {
   "cell_type": "code",
   "execution_count": 11,
   "metadata": {},
   "outputs": [],
   "source": [
    "## Solution 1\n",
    "# use plt package to draw the plot"
   ]
  },
  {
   "cell_type": "code",
   "execution_count": 12,
   "metadata": {},
   "outputs": [],
   "source": [
    "## Solution 2\n",
    "# use OOP (figure and axes) to draw the plot"
   ]
  },
  {
   "cell_type": "markdown",
   "metadata": {},
   "source": [
    "### 7.\n",
    "\n",
    "Use subplots to display sales data for Bathingsoap, Facewash, Facecream and Toothpaste.\n",
    "\n",
    "Solution:"
   ]
  },
  {
   "cell_type": "code",
   "execution_count": 13,
   "metadata": {},
   "outputs": [],
   "source": [
    "## The best solution\n",
    "# use OOP (figure and axes) to draw the plot"
   ]
  },
  {
   "cell_type": "markdown",
   "metadata": {},
   "source": [
    "### 8.\n",
    "\n",
    "Read all product sales data and show them using the stack plot.\n",
    "\n",
    "- legend is on best position, so that it doesn't overlap with plot\n",
    "- different colours are used for different product\n",
    "- Figure Title: All product sales data in stack plot\n",
    "- x title: Month\n",
    "- y title: Sales units in number\n",
    "\n",
    "Solution:"
   ]
  },
  {
   "cell_type": "code",
   "execution_count": 14,
   "metadata": {},
   "outputs": [],
   "source": [
    "## Solution 1\n",
    "# use OOP (figure and axes) to draw the plot"
   ]
  }
 ],
 "metadata": {
  "hide_input": false,
  "kernelspec": {
   "display_name": "Python 3",
   "language": "python",
   "name": "python3"
  },
  "language_info": {
   "codemirror_mode": {
    "name": "ipython",
    "version": 3
   },
   "file_extension": ".py",
   "mimetype": "text/x-python",
   "name": "python",
   "nbconvert_exporter": "python",
   "pygments_lexer": "ipython3",
   "version": "3.7.6"
  },
  "varInspector": {
   "cols": {
    "lenName": 16,
    "lenType": 16,
    "lenVar": 40
   },
   "kernels_config": {
    "python": {
     "delete_cmd_postfix": "",
     "delete_cmd_prefix": "del ",
     "library": "var_list.py",
     "varRefreshCmd": "print(var_dic_list())"
    },
    "r": {
     "delete_cmd_postfix": ") ",
     "delete_cmd_prefix": "rm(",
     "library": "var_list.r",
     "varRefreshCmd": "cat(var_dic_list()) "
    }
   },
   "types_to_exclude": [
    "module",
    "function",
    "builtin_function_or_method",
    "instance",
    "_Feature"
   ],
   "window_display": false
  }
 },
 "nbformat": 4,
 "nbformat_minor": 2
}
